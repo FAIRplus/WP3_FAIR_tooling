{
 "cells": [
  {
   "cell_type": "markdown",
   "metadata": {},
   "source": [
    "# bio.tools querying"
   ]
  },
  {
   "cell_type": "markdown",
   "metadata": {},
   "source": [
    "## Overview"
   ]
  },
  {
   "cell_type": "markdown",
   "metadata": {},
   "source": [
    "## Code"
   ]
  },
  {
   "cell_type": "code",
   "execution_count": 1,
   "metadata": {},
   "outputs": [],
   "source": [
    "import sys\n",
    "import json\n",
    "import requests\n",
    "import argparse\n",
    "import yaml\n",
    "import biotools_parse as bp\n",
    "import pandas as pd\n",
    "from pathlib import Path\n",
    "from matplotlib import pyplot as plt\n",
    "\n",
    "\n",
    "# The call to get all bio.tools entries through the api is: https://bio.tools/api/tool/?format=json.\n",
    "# Unfortunately, the response is limited to n tools. To get the whole set, the next pages must be retrieve.\n",
    "# use \"next\" in the response to get succesive entries.\n",
    " \n",
    "base_call = \"https://bio.tools/api/tool/?format=json\"\n",
    "\n",
    "\n",
    "def make_request(URL):\n",
    "    try:\n",
    "        response = requests.get(URL)\n",
    "    except:\n",
    "        print('Could not make the request')\n",
    "        return\n",
    "    else:\n",
    "        response = json.loads(response.text)\n",
    "        return(response)\n",
    "\n",
    "def build_url(next_page, filters):\n",
    "    call_template = \"https://bio.tools/api/tool/?{attributes}{next_page}&format=json\"\n",
    "    if next_page:\n",
    "        next_page = \"&%s\"%next_page\n",
    "    else:\n",
    "        next_page = \"\"\n",
    "    attributes = '&'.join(filters)    \n",
    "    url = call_template.format(next_page=next_page, attributes=attributes)\n",
    "    return(url)\n",
    "\n",
    "\n",
    "def get_all_pages(filters):\n",
    "    res = []\n",
    "    next_page = \"page=1\"\n",
    "    print('Starting making the requests...')\n",
    "    while next_page:\n",
    "        response = make_request(build_url(next_page, filters))\n",
    "        print(\"Requesting: \" + build_url(next_page, filters), end='\\r')\n",
    "        res = res + response[\"list\"]\n",
    "        next_page = response[\"next\"]\n",
    "        if next_page:\n",
    "            next_page = next_page[1:]\n",
    "    print('\\nRequests finished.')\n",
    "    return(res)\n",
    "\n",
    "def save_result(out_path, result):\n",
    "    with open(out_path, 'w') as out:\n",
    "        json.dump(result, out)\n",
    "    print('Result saved as ' + out_path )\n",
    "    \n",
    "\n",
    "colnames_general = ['name', 'description', 'type', 'topic', 'input', 'output']\n",
    "colnames_detailed = [ 'name', 'description', 'version', 'type', 'topic', 'links', 'publication', 'download', 'inst_instr', 'test', 'src', 'os', 'input', 'output', 'dependencies', 'documentation', 'license', 'termsUse', 'contribPolicy', 'authors', 'repository']\n",
    "def results_to_table(result, colnames):\n",
    "    tools = bp.biotoolsToolsGenerator(result).instances\n",
    "    # Load features into table\n",
    "    colnames_features = colnames\n",
    "    df_dict = {name : [] for name in colnames_features}\n",
    "\n",
    "    for tool in tools:\n",
    "        for field in colnames_features:\n",
    "            df_dict[field].append(tool.__dict__.get(field))\n",
    "\n",
    "    df_features = pd.DataFrame.from_dict(df_dict)\n",
    "    df_features.drop_duplicates(subset =\"name\", keep = False, inplace = True) \n",
    "    return(df_features)\n",
    "\n",
    "\n",
    "def parse_zooma_results(input_file):\n",
    "    with open(input_file, 'r') as inp:\n",
    "        zooma_terms_df = pd.read_csv(input_file)\n",
    "        # getting list of terms\n",
    "        terms = zooma_terms_df['iri']\n",
    "        terms = []\n",
    "        free_terms = []\n",
    "        terms_label = {}\n",
    "        for index, row in zooma_terms_df.iterrows():\n",
    "            if type(row['iri']) == str:\n",
    "                term = row['iri'].split('http://edamontology.org/')[1].strip('\\n')\n",
    "                terms.append(term)\n",
    "                terms_label[term] = row['label'].strip('\\n')\n",
    "            else:\n",
    "                free_terms.append(row['keyword'].strip('\\n'))\n",
    "                \n",
    "    return(terms, terms_label, free_terms)\n",
    "\n",
    "def build_filter(term):\n",
    "    filters_template =  {'topic': 'topicID=\"%s\"', 'format':'dataFormatID=\"%s\"', 'operation':'operationID=\"%s\"', 'data':'dataTypeID=\"%s\"'}\n",
    "    if 'topic' in term:\n",
    "        filters = filters_template['topic']%(term)\n",
    "    elif 'data' in term:\n",
    "        filters = filters_template['data']%(term)\n",
    "    elif 'operation' in term:\n",
    "        filters = filters_template['operation']%(term)\n",
    "    elif 'format' in term:\n",
    "        filters = filters_template['format']%(term)\n",
    "    return(filters)     \n",
    "\n",
    "def query_for_terms(terms, EDAM=False):\n",
    "    '''\n",
    "    Takes a list of EDAM terms or free text keywords and does a query for each\n",
    "    EDAM=True for edam terms, EDAM=False for freetext keywords. Default: EDAM=False.\n",
    "    Return a dictionary of results of the form: {<term>: <dataframe of results>}\n",
    "    '''\n",
    "    free_filter_template = 'description=\"%s\"'\n",
    "    results = dict()\n",
    "    results_detailed = dict()\n",
    "    # Iteratre through terms\n",
    "    for term in terms:\n",
    "        term  = term.replace(\"/\",'-')\n",
    "        # Avoid duplicated queries\n",
    "        if term not in results.keys():\n",
    "            # Building the filters using the EDAM terms\n",
    "            if EDAM == True:\n",
    "                filter_ = [build_filter(term)]\n",
    "            else:\n",
    "                filter_ = [free_filter_template%(term)]\n",
    "            # Do the query\n",
    "            result = get_all_pages(filter_)\n",
    "            # Put result in table\n",
    "            result_df = results_to_table(result, colnames_general)\n",
    "            result_detailed_df = results_to_table(result, colnames_detailed)\n",
    "            # Put results table in dictionary with the results for the other terms\n",
    "            results[term] = result_df\n",
    "            results_detailed[term] = result_detailed_df\n",
    "    return(results, results_detailed)\n",
    "\n",
    "def count_tools_per_term(results):\n",
    "    count_tools_per_term = {term :len(results[term]) for term in results.keys()}\n",
    "    return(count_tools_per_term)\n",
    "\n",
    "def tools_per_term(results):\n",
    "    tools_per_term = {term:results[term]['name'] for term in results}  \n",
    "    return(tools_per_term)\n",
    "\n",
    "def merge_tools_lists(results):\n",
    "    tools = set()\n",
    "    for table in results:\n",
    "        tools_per_term_ = tools_per_term(table)\n",
    "        for term in tools_per_term_:\n",
    "            for tool in tools_per_term_[term]:\n",
    "                tools.add(tool)\n",
    "    return(tools)\n",
    "\n",
    "def save_results(results_general, terms_label, path):\n",
    "    template_output = path + '/tools_%s.tsv'\n",
    "    for term in results_general.keys():\n",
    "        file_name = template_output%(terms_label[term])\n",
    "        results_general[term].to_csv(file_name, index = False, sep='\\t')\n",
    "\n",
    "def save_lists_tools(tools_per_term,path, EDAM=False):\n",
    "    if EDAM==True:\n",
    "        template_output = path + '/tools_edam_%s.txt'\n",
    "    else:\n",
    "        template_output = path + '/tools_free_%s.txt'\n",
    "    for term in tools_per_term.keys():\n",
    "        with open(template_output%(term), 'w') as f:\n",
    "            for item in tools_per_term[term]:\n",
    "                f.write(\"%s\\n\" % item)\n",
    "    "
   ]
  },
  {
   "cell_type": "markdown",
   "metadata": {},
   "source": [
    "The attributes chosen to filter the query must be passed to the `get_all_pages` function in a list. Each attribute must be a string of the form `name=signalp`. This string will be put as a parameter in the query URL as it is. Please, follow the [bio.tools API reference](https://biotools.readthedocs.io/en/latest/api_reference.html) to construct this parameters successfully."
   ]
  },
  {
   "cell_type": "code",
   "execution_count": 6,
   "metadata": {},
   "outputs": [
    {
     "name": "stdout",
     "output_type": "stream",
     "text": [
      "Starting making the requests...\n",
      "Requesting: https://bio.tools/api/tool/?topic=\"Sequence composition, complexity and repeats\"&description=\"game\"&page=1&format=json\n",
      "Requests finished.\n"
     ]
    }
   ],
   "source": [
    "sample_filters = ['topic=\"Sequence composition, complexity and repeats\"', 'description=\"game\"']\n",
    "filters = sample_filters\n",
    "result = get_all_pages(filters)"
   ]
  },
  {
   "cell_type": "code",
   "execution_count": 7,
   "metadata": {},
   "outputs": [
    {
     "name": "stdout",
     "output_type": "stream",
     "text": [
      "Result saved as run_3.json\n"
     ]
    }
   ],
   "source": [
    "save_result('run_3.json', result)"
   ]
  },
  {
   "cell_type": "markdown",
   "metadata": {},
   "source": [
    "### Simple Query Example 1:"
   ]
  },
  {
   "cell_type": "markdown",
   "metadata": {},
   "source": [
    "The following is an example of a query of tools annotted with the EDAM topic \"Sequence composition, complexity and repeats\" and with the word \"game\"  in their description. "
   ]
  },
  {
   "cell_type": "markdown",
   "metadata": {},
   "source": [
    "###  Simple Query Example 2:"
   ]
  },
  {
   "cell_type": "markdown",
   "metadata": {},
   "source": [
    "## Case 1: ETL tools discovery\n",
    "\n",
    "We will query bio.tools using a set of EDAM terms that have being obtained after a mapping with ZOOMA.\n"
   ]
  },
  {
   "cell_type": "markdown",
   "metadata": {},
   "source": [
    "### Step 1: parsing zooma results"
   ]
  },
  {
   "cell_type": "markdown",
   "metadata": {},
   "source": [
    "ZOOMA results must be in a csv format.The colunm names, in this order, must be: `keyword`,`iri`,`label` and `confidence`. An example of a valid: \n",
    "\n",
    "|keyword            |iri                                   |label                      |confidence|\n",
    "|-------------------|--------------------------------------|---------------------------|----------|\n",
    "|Ontology annotation|http://edamontology.org/operation_0226|Annotation                 |MEDIUM    |\n",
    "|Ontology annotation|                                      |                           |          |\n",
    "|semantic annotation|                                      |                           |          |\n",
    "|semantic annotation|http://edamontology.org/operation_3778|Text annotation            |MEDIUM    |\n",
    "|Text mining        |http://edamontology.org/topic_0218    |Natural language processing|GOOD      |\n",
    "\n",
    "Raw: \n",
    "\n",
    "```\n",
    "keyword,iri,label,confidence\n",
    "Ontology annotation,http://edamontology.org/operation_0226,Annotation,MEDIUM\n",
    "Ontology annotation,,,\n",
    "semantic annotation,,,\n",
    "semantic annotation,http://edamontology.org/operation_3778,Text annotation,MEDIUM\n",
    "Text mining,http://edamontology.org/topic_0218,Natural language processing,GOOD\n",
    "```\n",
    "\n",
    "The function `parse_zooma_results` parses this csv and returns a list of terms suitable for the querying."
   ]
  },
  {
   "cell_type": "markdown",
   "metadata": {},
   "source": [
    "For a mapping of keyword related with ETL against EDAM, we got the ZOOMA results in the path `ETL_EDAM_curated.csv`."
   ]
  },
  {
   "cell_type": "code",
   "execution_count": 2,
   "metadata": {},
   "outputs": [
    {
     "name": "stdout",
     "output_type": "stream",
     "text": [
      "['topic_3366', 'topic_3571', 'topic_3345', 'topic_0219', 'topic_3489', 'topic_0769', 'topic_3572', 'operation_1812', 'operation_3431', 'operation_3436', 'operation_0335', 'operation_0224', 'operation_3907', 'operation_0336']\n",
      "{'topic_3366': 'Data integration and warehousing', 'topic_3571': 'data governance', 'topic_3345': 'Data identity and mapping', 'topic_0219': 'Data submission, annotation and curation', 'topic_3489': 'Database management', 'topic_0769': 'workflows', 'topic_3572': 'Data quality management', 'operation_1812': 'parsing', 'operation_3431': 'deposition', 'operation_3436': 'aggregation', 'operation_0335': 'formatting', 'operation_0224': 'Query and retrieval', 'operation_3907': 'Information extraction', 'operation_0336': 'Format validation'}\n",
      "['data store', 'data warehous', 'data lake', 'aggregated data', 'ETL', 'ingest', 'retriev', 'Cloud migration', 'Database replication', 'dataflow', 'integrat', 'extract', 'transform', 'data cleaning', 'loading', 'validat', 'query', 'provenance', 'Database management', 'Data quality', 'parsing', 'deposit', 'format', 'data unification', 'provenance', 'workflow', 'transfer']\n"
     ]
    }
   ],
   "source": [
    "terms_file='keywords/ETL_EDAM_curated.csv'\n",
    "ETL_edam_terms, terms_label_ETL, free_terms = parse_zooma_results(terms_file)\n",
    "print(ETL_edam_terms)\n",
    "print(terms_label_ETL)\n",
    "print(free_terms)"
   ]
  },
  {
   "cell_type": "markdown",
   "metadata": {},
   "source": [
    "### Step 2: doing the queries. "
   ]
  },
  {
   "cell_type": "markdown",
   "metadata": {
    "pycharm": {
     "name": "#%% md\n"
    }
   },
   "source": [
    "#### Step 2.1: EDAM queries"
   ]
  },
  {
   "cell_type": "markdown",
   "metadata": {},
   "source": [
    "The function `query_for_terms` does the quering for the previously obtained list of EDAM terms when second argument set to `True`. It resturns two kind of outputs: general and detailed. Each is a dictionary of the form: `{<term>: <dataframe of results>}`"
   ]
  },
  {
   "cell_type": "code",
   "execution_count": 3,
   "metadata": {},
   "outputs": [
    {
     "name": "stdout",
     "output_type": "stream",
     "text": [
      "Starting making the requests...\n",
      "Requesting: https://bio.tools/api/tool/?topicID=\"topic_3366\"&page=8&format=json\n",
      "Requests finished.\n",
      "Starting making the requests...\n",
      "Requesting: https://bio.tools/api/tool/?topicID=\"topic_3571\"&page=2&format=json\n",
      "Requests finished.\n",
      "Starting making the requests...\n",
      "Requesting: https://bio.tools/api/tool/?topicID=\"topic_3345\"&page=3&format=json\n",
      "Requests finished.\n",
      "Starting making the requests...\n",
      "Requesting: https://bio.tools/api/tool/?topicID=\"topic_0219\"&page=16&format=json\n",
      "Requests finished.\n",
      "Starting making the requests...\n",
      "Requesting: https://bio.tools/api/tool/?topicID=\"topic_3489\"&page=19&format=json\n",
      "Requests finished.\n",
      "Starting making the requests...\n",
      "Requesting: https://bio.tools/api/tool/?topicID=\"topic_0769\"&page=45&format=json\n",
      "Requests finished.\n",
      "Starting making the requests...\n",
      "Requesting: https://bio.tools/api/tool/?topicID=\"topic_3572\"&page=18&format=json\n",
      "Requests finished.\n",
      "Starting making the requests...\n",
      "Requesting: https://bio.tools/api/tool/?operationID=\"operation_1812\"&page=24&format=json\n",
      "Requests finished.\n",
      "Starting making the requests...\n",
      "Requesting: https://bio.tools/api/tool/?operationID=\"operation_3431\"&page=43&format=json\n",
      "Requests finished.\n",
      "Starting making the requests...\n",
      "Requesting: https://bio.tools/api/tool/?operationID=\"operation_3436\"&page=26&format=json\n",
      "Requests finished.\n",
      "Starting making the requests...\n",
      "Requesting: https://bio.tools/api/tool/?operationID=\"operation_0335\"&page=37&format=json\n",
      "Requests finished.\n",
      "Starting making the requests...\n",
      "Requesting: https://bio.tools/api/tool/?operationID=\"operation_0224\"&page=77&format=json\n",
      "Requests finished.\n",
      "Starting making the requests...\n",
      "Requesting: https://bio.tools/api/tool/?operationID=\"operation_3907\"&page=2&format=json\n",
      "Requests finished.\n",
      "Starting making the requests...\n",
      "Requesting: https://bio.tools/api/tool/?operationID=\"operation_0336\"&page=2&format=json\n",
      "Requests finished.\n"
     ]
    }
   ],
   "source": [
    "ETL_edam_results_general, ETL_edam_results_detailed  = query_for_terms(ETL_edam_terms, True)"
   ]
  },
  {
   "cell_type": "markdown",
   "metadata": {},
   "source": [
    "We save the result of each term in a separated file inside the `outputs/ETL` directory using the function `save_results`."
   ]
  },
  {
   "cell_type": "code",
   "execution_count": 29,
   "metadata": {},
   "outputs": [],
   "source": [
    "path_output_ETL = \"outputs/ETL\"\n",
    "Path(path_output_ETL).mkdir(parents=True, exist_ok=True)\n",
    "save_results(ETL_edam_results_general, terms_label_ETL, path_output_ETL)"
   ]
  },
  {
   "cell_type": "markdown",
   "metadata": {},
   "source": [
    "#### Step 2.2: free text queries"
   ]
  },
  {
   "cell_type": "code",
   "execution_count": 4,
   "metadata": {},
   "outputs": [
    {
     "name": "stdout",
     "output_type": "stream",
     "text": [
      "Starting making the requests...\n",
      "Requesting: https://bio.tools/api/tool/?description=\"data store\"&page=2&format=json\n",
      "Requests finished.\n",
      "Starting making the requests...\n",
      "Requesting: https://bio.tools/api/tool/?description=\"data warehous\"&page=1&format=json\n",
      "Requests finished.\n",
      "Starting making the requests...\n",
      "Requesting: https://bio.tools/api/tool/?description=\"data lake\"&page=1&format=json\n",
      "Requests finished.\n",
      "Starting making the requests...\n",
      "Requesting: https://bio.tools/api/tool/?description=\"aggregated data\"&page=1&format=json\n",
      "Requests finished.\n",
      "Starting making the requests...\n",
      "Requesting: https://bio.tools/api/tool/?description=\"ETL\"&page=1&format=json\n",
      "Requests finished.\n",
      "Starting making the requests...\n",
      "Requesting: https://bio.tools/api/tool/?description=\"ingest\"&page=1&format=json\n",
      "Requests finished.\n",
      "Starting making the requests...\n",
      "Requesting: https://bio.tools/api/tool/?description=\"retriev\"&page=23&format=json\n",
      "Requests finished.\n",
      "Starting making the requests...\n",
      "Requesting: https://bio.tools/api/tool/?description=\"Cloud migration\"&page=1&format=json\n",
      "Requests finished.\n",
      "Starting making the requests...\n",
      "Requesting: https://bio.tools/api/tool/?description=\"Database replication\"&page=1&format=json\n",
      "Requests finished.\n",
      "Starting making the requests...\n",
      "Requesting: https://bio.tools/api/tool/?description=\"dataflow\"&page=1&format=json\n",
      "Requests finished.\n",
      "Starting making the requests...\n",
      "Requesting: https://bio.tools/api/tool/?description=\"integrat\"&page=1&format=json\n",
      "Requests finished.\n",
      "Starting making the requests...\n",
      "Requesting: https://bio.tools/api/tool/?description=\"extract\"&page=40&format=json\n",
      "Requests finished.\n",
      "Starting making the requests...\n",
      "Requesting: https://bio.tools/api/tool/?description=\"transform\"&page=13&format=json\n",
      "Requests finished.\n",
      "Starting making the requests...\n",
      "Requesting: https://bio.tools/api/tool/?description=\"data cleaning\"&page=1&format=json\n",
      "Requests finished.\n",
      "Starting making the requests...\n",
      "Requesting: https://bio.tools/api/tool/?description=\"loading\"&page=8&format=json\n",
      "Requests finished.\n",
      "Starting making the requests...\n",
      "Requesting: https://bio.tools/api/tool/?description=\"validat\"&page=1&format=json\n",
      "Requests finished.\n",
      "Starting making the requests...\n",
      "Requesting: https://bio.tools/api/tool/?description=\"query\"&page=41&format=json\n",
      "Requests finished.\n",
      "Starting making the requests...\n",
      "Requesting: https://bio.tools/api/tool/?description=\"provenance\"&page=2&format=json\n",
      "Requests finished.\n",
      "Starting making the requests...\n",
      "Requesting: https://bio.tools/api/tool/?description=\"Database management\"&page=1&format=json\n",
      "Requests finished.\n",
      "Starting making the requests...\n",
      "Requesting: https://bio.tools/api/tool/?description=\"Data quality\"&page=2&format=json\n",
      "Requests finished.\n",
      "Starting making the requests...\n",
      "Requesting: https://bio.tools/api/tool/?description=\"parsing\"&page=8&format=json\n",
      "Requests finished.\n",
      "Starting making the requests...\n",
      "Requesting: https://bio.tools/api/tool/?description=\"deposit\"&page=4&format=json\n",
      "Requests finished.\n",
      "Starting making the requests...\n",
      "Requesting: https://bio.tools/api/tool/?description=\"format\"&page=60&format=json\n",
      "Requests finished.\n",
      "Starting making the requests...\n",
      "Requesting: https://bio.tools/api/tool/?description=\"data unification\"&page=1&format=json\n",
      "Requests finished.\n",
      "Starting making the requests...\n",
      "Requesting: https://bio.tools/api/tool/?description=\"workflow\"&page=31&format=json\n",
      "Requests finished.\n",
      "Starting making the requests...\n",
      "Requesting: https://bio.tools/api/tool/?description=\"transfer\"&page=8&format=json\n",
      "Requests finished.\n"
     ]
    }
   ],
   "source": [
    "ETL_free_results_general, ETL_free_results_detailed  = query_for_terms(free_terms, False)"
   ]
  },
  {
   "cell_type": "markdown",
   "metadata": {
    "pycharm": {
     "name": "#%% md\n"
    }
   },
   "source": [
    "### Analyzing results"
   ]
  },
  {
   "cell_type": "markdown",
   "metadata": {},
   "source": [
    "#### Total number of terms"
   ]
  },
  {
   "cell_type": "code",
   "execution_count": 5,
   "metadata": {},
   "outputs": [
    {
     "data": {
      "text/plain": [
       "14"
      ]
     },
     "execution_count": 5,
     "metadata": {},
     "output_type": "execute_result"
    }
   ],
   "source": [
    "len(ETL_edam_results_general.keys())"
   ]
  },
  {
   "cell_type": "code",
   "execution_count": 6,
   "metadata": {
    "pycharm": {
     "name": "#%%\n"
    }
   },
   "outputs": [
    {
     "data": {
      "text/plain": [
       "26"
      ]
     },
     "execution_count": 6,
     "metadata": {},
     "output_type": "execute_result"
    }
   ],
   "source": [
    "len(ETL_free_results_general.keys())"
   ]
  },
  {
   "cell_type": "code",
   "execution_count": 118,
   "metadata": {},
   "outputs": [],
   "source": [
    "frames = []\n",
    "for term in ETL_edam_results_detailed:\n",
    "    frames.append(ETL_edam_results_detailed[term])\n",
    "for term in ETL_free_results_detailed:\n",
    "    frames.append(ETL_free_results_detailed[term])\n",
    "ETL_joint_results = pd.concat(frames)\n",
    "\n",
    "len(ETL_joint_results.drop_duplicates(subset=['name']))\n",
    "ETL_joint_results = ETL_joint_results.drop_duplicates(subset=['name'])"
   ]
  },
  {
   "cell_type": "markdown",
   "metadata": {
    "pycharm": {
     "name": "#%% md\n"
    }
   },
   "source": [
    "#### Tools per term"
   ]
  },
  {
   "cell_type": "code",
   "execution_count": 17,
   "metadata": {},
   "outputs": [],
   "source": [
    "#count_tools_per_term(ETL_edam_results_general)"
   ]
  },
  {
   "cell_type": "code",
   "execution_count": 16,
   "metadata": {
    "pycharm": {
     "name": "#%%\n"
    }
   },
   "outputs": [],
   "source": [
    "#count_tools_per_term(ETL_free_results_general)"
   ]
  },
  {
   "cell_type": "markdown",
   "metadata": {
    "pycharm": {
     "name": "#%% md\n"
    }
   },
   "source": [
    "#### Lists of tool names per term\n",
    "This is handy for validation"
   ]
  },
  {
   "cell_type": "code",
   "execution_count": 25,
   "metadata": {},
   "outputs": [],
   "source": [
    "tools_per_term_ETL = tools_per_term(ETL_edam_results_general)\n",
    "tools_per_term_ETL = {terms_label_ETL[term]:tools_per_term_ETL[term] for term in tools_per_term_ETL.keys()}"
   ]
  },
  {
   "cell_type": "code",
   "execution_count": 26,
   "metadata": {
    "pycharm": {
     "name": "#%%\n"
    }
   },
   "outputs": [],
   "source": [
    "tools_per_term_free_ETL = tools_per_term(ETL_free_results_general)\n",
    "tools_per_term_free_ETL = {term:tools_per_term_free_ETL[term] for term in tools_per_term_free_ETL.keys()}"
   ]
  },
  {
   "cell_type": "markdown",
   "metadata": {},
   "source": [
    "We save the list of tools for each term in separated txt files."
   ]
  },
  {
   "cell_type": "code",
   "execution_count": 30,
   "metadata": {
    "pycharm": {
     "name": "#%%\n"
    }
   },
   "outputs": [],
   "source": [
    "save_lists_tools(tools_per_term_ETL, path_output_ETL, True)"
   ]
  },
  {
   "cell_type": "code",
   "execution_count": 31,
   "metadata": {},
   "outputs": [],
   "source": [
    "save_lists_tools(tools_per_term_free_ETL, path_output_ETL, False)"
   ]
  },
  {
   "cell_type": "markdown",
   "metadata": {},
   "source": [
    "#### Merged tools lists\n",
    "All tools discovered merged in a single set"
   ]
  },
  {
   "cell_type": "code",
   "execution_count": 32,
   "metadata": {},
   "outputs": [],
   "source": [
    "all_ETL_tools = merge_tools_lists([ETL_edam_results_general, ETL_free_results_general])"
   ]
  },
  {
   "cell_type": "markdown",
   "metadata": {},
   "source": [
    "### ETL related annotations count. EDAM queries"
   ]
  },
  {
   "cell_type": "code",
   "execution_count": 33,
   "metadata": {},
   "outputs": [
    {
     "name": "stdout",
     "output_type": "stream",
     "text": [
      "                      tool  ETL annotations count\n",
      "3380                   pga                      5\n",
      "1654              jmztab-m                      4\n",
      "3486                   ega                      4\n",
      "2870               arteria                      4\n",
      "2388           miamexpress                      4\n",
      "...                    ...                    ...\n",
      "1976              guideseq                      0\n",
      "1974  plasmodium autocount                      0\n",
      "1972               pydfn3d                      0\n",
      "1971               kraken2                      0\n",
      "3921              pperturb                      0\n",
      "\n",
      "[3922 rows x 2 columns]\n"
     ]
    }
   ],
   "source": [
    "matches_tools = {}\n",
    "for tool in list(all_ETL_tools):\n",
    "    matches = 0\n",
    "    for l in tools_per_term_ETL.values():\n",
    "        if tool in list(l):\n",
    "            matches += 1\n",
    "    matches_tools[tool] = matches\n",
    "\n",
    "ETL_annot_count_df = pd.DataFrame(list(matches_tools.items()), columns= ['tool','ETL annotations count']).sort_values('ETL annotations count', ascending=False)\n",
    "print(ETL_annot_count_df)"
   ]
  },
  {
   "cell_type": "code",
   "execution_count": 34,
   "metadata": {
    "pycharm": {
     "name": "#%%\n"
    }
   },
   "outputs": [
    {
     "data": {
      "image/png": "[encoded data removed]",
      "text/plain": [
       "<Figure size 432x288 with 1 Axes>"
      ]
     },
     "metadata": {},
     "output_type": "display_data"
    }
   ],
   "source": [
    "plt.hist(ETL_annot_count_df['ETL annotations count'],alpha=0.5)\n",
    "plt.xlim([1, 7])\n",
    "plt.ylim([0, 130])\n",
    "plt.title('ETL related terms each tool ')\n",
    "plt.xlabel('Number of ETL terms')\n",
    "plt.ylabel('Number of discovered tools')\n",
    "plt.show()"
   ]
  },
  {
   "cell_type": "markdown",
   "metadata": {
    "pycharm": {
     "name": "#%% md\n"
    }
   },
   "source": [
    "### ETL related annotations count. Free text queries"
   ]
  },
  {
   "cell_type": "code",
   "execution_count": 35,
   "metadata": {
    "pycharm": {
     "name": "#%%\n"
    }
   },
   "outputs": [
    {
     "name": "stdout",
     "output_type": "stream",
     "text": [
      "                      tool  ETL annotations count\n",
      "1257                osirix                      4\n",
      "1034             fairifier                      4\n",
      "880                clobnet                      4\n",
      "1217         query tabular                      3\n",
      "1085              museqbox                      3\n",
      "...                    ...                    ...\n",
      "2370                ribopy                      0\n",
      "2368               ecogene                      0\n",
      "838              missequel                      0\n",
      "2366  measurementerror.cor                      0\n",
      "670                  dbvar                      0\n",
      "\n",
      "[3922 rows x 2 columns]\n"
     ]
    }
   ],
   "source": [
    "matches_tools = {}\n",
    "for tool in list(all_ETL_tools):\n",
    "    matches = 0\n",
    "    for l in tools_per_term_free_ETL.values():\n",
    "        if tool in list(l):\n",
    "            matches += 1\n",
    "    matches_tools[tool] = matches\n",
    "\n",
    "ETL_annot_count_df = pd.DataFrame(list(matches_tools.items()), columns= ['tool','ETL annotations count']).sort_values('ETL annotations count', ascending=False)\n",
    "print(ETL_annot_count_df)"
   ]
  },
  {
   "cell_type": "code",
   "execution_count": 36,
   "metadata": {},
   "outputs": [
    {
     "data": {
      "image/png": "[encoded data removed]",
      "text/plain": [
       "<Figure size 432x288 with 1 Axes>"
      ]
     },
     "metadata": {},
     "output_type": "display_data"
    }
   ],
   "source": [
    "plt.hist(ETL_annot_count_df['ETL annotations count'],alpha=0.5)\n",
    "plt.xlim([2, 7])\n",
    "plt.ylim([0, 130])\n",
    "plt.title('ETL related terms each tool ')\n",
    "plt.xlabel('Number of ETL terms')\n",
    "plt.ylabel('Number of discovered tools')\n",
    "plt.show()"
   ]
  },
  {
   "cell_type": "markdown",
   "metadata": {
    "pycharm": {
     "name": "#%% md\n"
    }
   },
   "source": [
    "### ETL related annotations count. Free text and EDAM queries "
   ]
  },
  {
   "cell_type": "code",
   "execution_count": 66,
   "metadata": {
    "pycharm": {
     "name": "#%%\n"
    }
   },
   "outputs": [
    {
     "name": "stdout",
     "output_type": "stream",
     "text": [
      "                                           tool  ETL annotations count\n",
      "3587                                   martview                      6\n",
      "1217                              query tabular                      6\n",
      "1034                                  fairifier                      6\n",
      "1257                                     osirix                      5\n",
      "1089                                   disqover                      5\n",
      "...                                         ...                    ...\n",
      "1510                                     imageo                      1\n",
      "1511                                      svmtm                      1\n",
      "1512                          frogs_biom_to_tsv                      1\n",
      "1513  ergo genome analysis and discovery system                      1\n",
      "3921                                   pperturb                      1\n",
      "\n",
      "[3922 rows x 2 columns]\n"
     ]
    },
    {
     "data": {
      "text/plain": [
       "6"
      ]
     },
     "execution_count": 66,
     "metadata": {},
     "output_type": "execute_result"
    }
   ],
   "source": [
    "matches_tools = {}\n",
    "for tool in list(all_ETL_tools):\n",
    "    matches = 0\n",
    "    for l in tools_per_term_free_ETL.values():\n",
    "        if tool in list(l):\n",
    "            matches += 1\n",
    "    for l in tools_per_term_ETL.values():\n",
    "        if tool in list(l):\n",
    "            matches += 1\n",
    "    matches_tools[tool] = matches\n",
    "\n",
    "ETL_annot_count_df = pd.DataFrame(list(matches_tools.items()), columns= ['tool','ETL annotations count']).sort_values('ETL annotations count', ascending=False)\n",
    "print(ETL_annot_count_df)\n",
    "max(ETL_annot_count_df['ETL annotations count'])"
   ]
  },
  {
   "cell_type": "code",
   "execution_count": 38,
   "metadata": {},
   "outputs": [
    {
     "data": {
      "image/png": "[encoded data removed]",
      "text/plain": [
       "<Figure size 432x288 with 1 Axes>"
      ]
     },
     "metadata": {},
     "output_type": "display_data"
    }
   ],
   "source": [
    "plt.hist(ETL_annot_count_df['ETL annotations count'],alpha=0.5)\n",
    "plt.xlim([2, 7])\n",
    "plt.ylim([0, 50])\n",
    "plt.title('ETL related terms each tool ')\n",
    "plt.xlabel('Number of ETL terms')\n",
    "plt.ylabel('Number of discovered tools')\n",
    "plt.show()"
   ]
  },
  {
   "cell_type": "code",
   "execution_count": 39,
   "metadata": {
    "pycharm": {
     "name": "#%%\n"
    }
   },
   "outputs": [],
   "source": [
    "# Save ETL ranked by count results\n",
    "ETL_annot_count_df.to_csv(\"outputs/20210122_ETL_ranked_by_counts.csv\")"
   ]
  },
  {
   "cell_type": "markdown",
   "metadata": {
    "pycharm": {
     "name": "#%% md\n"
    }
   },
   "source": [
    "### ETL rank tools using keywords and weight"
   ]
  },
  {
   "cell_type": "code",
   "execution_count": 40,
   "metadata": {
    "pycharm": {
     "name": "#%%\n"
    }
   },
   "outputs": [],
   "source": [
    "# load weigh file\n",
    "\n",
    "def read_ranking(filename):\n",
    "    ranked_keywords = pd.read_csv(filename)\n",
    "    \n",
    "    ranked_keywords['weight'] = ranked_keywords[\"weight\"].apply(lambda x: float(x.strip('%'))*0.01)\n",
    "    trim_strings = lambda x: x.strip() if isinstance(x, str) else x\n",
    "    ranked_keywords = ranked_keywords.applymap(trim_strings)\n",
    "    return ranked_keywords\n",
    "\n",
    "def get_description(tool_name):\n",
    "    url_temp ='https://bio.tools/api/tool/?name=\"{name}\"&format=json'\n",
    "    ep = 'https://bio.tools/api/tool/?name=\"'\n",
    "    query = url_temp.format(name=tool_name)\n",
    "    try:\n",
    "        response = requests.get(query)\n",
    "        response.raise_for_status()\n",
    "    except requests.exceptions.HTTPError as err:\n",
    "        print(err)\n",
    "    finally:\n",
    "        response = json.loads(response.text)\n",
    "        descriptions = [l['description'] for l in response['list']]\n",
    "    \n",
    "    return(descriptions)\n",
    "\n",
    "# Todo revise and count weight"
   ]
  },
  {
   "cell_type": "code",
   "execution_count": 41,
   "metadata": {},
   "outputs": [
    {
     "name": "stdout",
     "output_type": "stream",
     "text": [
      "                                     keyword  weight\n",
      "0                                 data store     1.0\n",
      "1                              data warehous     1.0\n",
      "2                                  data lake     1.0\n",
      "3                            aggregated data     0.5\n",
      "4                                        ETL     1.0\n",
      "5                                     ingest     0.5\n",
      "6                                    retriev     0.5\n",
      "7                            Cloud migration     0.5\n",
      "8                       Database replication     0.5\n",
      "9                                   dataflow     0.5\n",
      "10                                  integrat     1.0\n",
      "11                                   extract     1.0\n",
      "12                                 transform     1.0\n",
      "13                             data cleaning     1.0\n",
      "14                                   loading     0.5\n",
      "15                                   validat     1.0\n",
      "16                                     query     0.5\n",
      "17                                provenance     0.5\n",
      "18                              Data quality     0.5\n",
      "19                                   deposit     1.0\n",
      "20                                    format     0.3\n",
      "21                          data unification     1.0\n",
      "22                                  workflow     0.5\n",
      "23                                  transfer     0.5\n",
      "24          Data integration and warehousing     0.7\n",
      "25                           data governance     0.7\n",
      "26                 Data identity and mapping     0.7\n",
      "27  Data submission, annotation and curation     0.7\n",
      "28                       Database management     0.7\n",
      "29                                 workflows     0.7\n",
      "30                   Data quality management     0.7\n",
      "31                                   parsing     0.7\n",
      "32                                deposition     0.7\n",
      "33                               aggregation     0.7\n",
      "34                                formatting     0.7\n",
      "35                       Query and retrieval     0.7\n",
      "36                    Information extraction     0.7\n",
      "37                         Format validation     0.7\n"
     ]
    }
   ],
   "source": [
    "ETL_ranked = \"keywords/ETL_EDAM_ranked.csv\"\n",
    "ranked_keys = read_ranking(ETL_ranked)\n",
    "print(ranked_keys)"
   ]
  },
  {
   "cell_type": "code",
   "execution_count": 149,
   "metadata": {},
   "outputs": [],
   "source": [
    "def rank_tools(tool_list,ranked_keywords):\n",
    "    matches_tools = {}\n",
    "    for tool in list(tool_list):\n",
    "        matches = 0\n",
    "        row = []\n",
    "        for l in ranked_keywords['keyword']:\n",
    "            if tool in list(l):\n",
    "                matches += 1\n",
    "        for l in tools_per_term_ETL.values():\n",
    "            if tool in list(l):\n",
    "                matches += 1\n",
    "        matches_tools[tool] = matches\n",
    "        \n",
    "def rank_tools(tool_list,ranked_keywords,tools_per_term, tools_per_term_free, joint_results, max_matches):\n",
    "    w_matches_tools = []\n",
    "    keywords = ranked_keywords['keyword'].tolist()\n",
    "    print(keywords)\n",
    "    for tool in list(tool_list):\n",
    "        w_matches = 0\n",
    "        matches = 0\n",
    "        for k,l in tools_per_term_free.items():\n",
    "            if tool in list(l):\n",
    "                if k not in keywords:\n",
    "                    print('%s not in keywords list. Assigning score of 0.7'%k)\n",
    "                    w_matches += 0.7\n",
    "                    matches += 1\n",
    "                else:\n",
    "                    w_matches += ranked_keywords.loc[ranked_keywords['keyword'] == k, 'weight'].item()\n",
    "                    matches += 1\n",
    "                    \n",
    "        for k,l in tools_per_term.items():\n",
    "            if tool in list(l):\n",
    "                if k not in keywords:\n",
    "                    print('%s not in keywords list. Assigning score of 0.7'%k)\n",
    "                    w_matches += 0.7\n",
    "                    matches += 1\n",
    "                else:\n",
    "                    w_matches += ranked_keywords.loc[ranked_keywords['keyword'] == k, 'weight'].item()\n",
    "                    matches += 1\n",
    "\n",
    "        tool_description = joint_results.loc[joint_results['name'] == tool, 'description'].iloc[0]\n",
    "        links = joint_results.loc[joint_results['name'] == tool, 'links'].tolist()[0]\n",
    "        if links:\n",
    "            tool_url = links[0].get('url')\n",
    "        else:\n",
    "            tool_url = None\n",
    "            \n",
    "        biotools_url = 'https://bio.tools/%s'%tool\n",
    "        score = w_matches/max_matches\n",
    "        row = [tool, \"{:.3f}\".format(score), tool_description, tool_url, biotools_url]\n",
    "        w_matches_tools.append(row)\n",
    "    \n",
    "    weight_ranked=pd.DataFrame(w_matches_tools, columns = ['Tool', 'Score', 'Description', 'URL', 'bio.tools URL']).sort_values('Score', ascending=False)\n",
    "    return(weight_ranked)\n",
    "    "
   ]
  },
  {
   "cell_type": "code",
   "execution_count": 150,
   "metadata": {},
   "outputs": [
    {
     "name": "stdout",
     "output_type": "stream",
     "text": [
      "['data store', 'data warehous', 'data lake', 'aggregated data', 'ETL', 'ingest', 'retriev', 'Cloud migration', 'Database replication', 'dataflow', 'integrat', 'extract', 'transform', 'data cleaning', 'loading', 'validat', 'query', 'provenance', 'Data quality', 'deposit', 'format', 'data unification', 'workflow', 'transfer', 'Data integration and warehousing', 'data governance', 'Data identity and mapping', 'Data submission, annotation and curation', 'Database management', 'workflows', 'Data quality management', 'parsing', 'deposition', 'aggregation', 'formatting', 'Query and retrieval', 'Information extraction', 'Format validation']\n"
     ]
    }
   ],
   "source": [
    "max_matches = max(ETL_annot_count_df['ETL annotations count'])\n",
    "df_ranked_tools = rank_tools(all_ETL_tools,ranked_keys, tools_per_term_ETL, tools_per_term_free_ETL, ETL_joint_results, max_matches)"
   ]
  },
  {
   "cell_type": "code",
   "execution_count": 151,
   "metadata": {},
   "outputs": [],
   "source": [
    "df_ranked_tools.to_csv('outputs/ETL/ranked_tools.csv', index=False)"
   ]
  },
  {
   "cell_type": "markdown",
   "metadata": {
    "pycharm": {
     "name": "#%% md\n"
    }
   },
   "source": [
    "## Case 2: Ontology tools discovery"
   ]
  },
  {
   "cell_type": "markdown",
   "metadata": {
    "pycharm": {
     "name": "#%% md\n"
    }
   },
   "source": [
    "In this case, the file of zooma results is `ontology_annotation_EDAM_curated_csv.csv`."
   ]
  },
  {
   "cell_type": "markdown",
   "metadata": {
    "pycharm": {
     "name": "#%% md\n"
    }
   },
   "source": [
    "### Step 1: parsing zooma results"
   ]
  },
  {
   "cell_type": "code",
   "execution_count": 122,
   "metadata": {},
   "outputs": [
    {
     "name": "stdout",
     "output_type": "stream",
     "text": [
      "['operation_0226', 'operation_3778', 'topic_0089', 'operation_3280']\n",
      "{'operation_0226': 'Annotation', 'operation_3778': 'Text annotation', 'topic_0089': 'ontology and terminology', 'operation_3280': 'Named-entity and concept recognition'}\n",
      "['Ontology annotation', 'semantic annotation', 'Text mining', 'Entity tagging', 'Entity recognition', 'Query expansion', 'Query expansion', 'Knowledge graph', 'Knowledge graph', 'Module extraction (eg slims)', 'Module extraction (eg slims)', 'Free text mapping', 'NLP']\n"
     ]
    }
   ],
   "source": [
    "terms_file='keywords/ontology_annotation_EDAM_curated.csv'\n",
    "ontology_edam_terms, terms_label_ontology, ontology_free_terms = parse_zooma_results(terms_file)\n",
    "print(ontology_edam_terms)\n",
    "print(terms_label_ontology)\n",
    "print(ontology_free_terms)"
   ]
  },
  {
   "cell_type": "markdown",
   "metadata": {},
   "source": [
    "### Step 2: doing the query. "
   ]
  },
  {
   "cell_type": "markdown",
   "metadata": {},
   "source": [
    "#### Step 2.1: EDAM queries"
   ]
  },
  {
   "cell_type": "code",
   "execution_count": 123,
   "metadata": {},
   "outputs": [
    {
     "name": "stdout",
     "output_type": "stream",
     "text": [
      "Starting making the requests...\n",
      "Requesting: https://bio.tools/api/tool/?operationID=\"operation_0226\"&page=14&format=json\n",
      "Requests finished.\n",
      "Starting making the requests...\n",
      "Requesting: https://bio.tools/api/tool/?operationID=\"operation_3778\"&page=6&format=json\n",
      "Requests finished.\n",
      "Starting making the requests...\n",
      "Requesting: https://bio.tools/api/tool/?topicID=\"topic_0089\"&page=32&format=json\n",
      "Requests finished.\n",
      "Starting making the requests...\n",
      "Requesting: https://bio.tools/api/tool/?operationID=\"operation_3280\"&page=7&format=json\n",
      "Requests finished.\n"
     ]
    }
   ],
   "source": [
    "ontology_results_general, ontology_results_detailed  = query_for_terms(ontology_edam_terms, True)"
   ]
  },
  {
   "cell_type": "code",
   "execution_count": 124,
   "metadata": {},
   "outputs": [],
   "source": [
    "path_output_ontology = \"outputs/ontology\"\n",
    "Path(path_output_ontology).mkdir(parents=True, exist_ok=True)\n",
    "save_results(ontology_results_general, terms_label_ontology, path_output_ontology)"
   ]
  },
  {
   "cell_type": "markdown",
   "metadata": {},
   "source": [
    "#### Step 2.2: free text queries"
   ]
  },
  {
   "cell_type": "code",
   "execution_count": 125,
   "metadata": {
    "scrolled": true
   },
   "outputs": [
    {
     "name": "stdout",
     "output_type": "stream",
     "text": [
      "Starting making the requests...\n",
      "Requesting: https://bio.tools/api/tool/?description=\"Ontology annotation\"&page=1&format=json\n",
      "Requests finished.\n",
      "Starting making the requests...\n",
      "Requesting: https://bio.tools/api/tool/?description=\"semantic annotation\"&page=1&format=json\n",
      "Requests finished.\n",
      "Starting making the requests...\n",
      "Requesting: https://bio.tools/api/tool/?description=\"Text mining\"&page=6&format=json\n",
      "Requests finished.\n",
      "Starting making the requests...\n",
      "Requesting: https://bio.tools/api/tool/?description=\"Entity tagging\"&page=1&format=json\n",
      "Requests finished.\n",
      "Starting making the requests...\n",
      "Requesting: https://bio.tools/api/tool/?description=\"Entity recognition\"&page=1&format=json\n",
      "Requests finished.\n",
      "Starting making the requests...\n",
      "Requesting: https://bio.tools/api/tool/?description=\"Query expansion\"&page=1&format=json\n",
      "Requests finished.\n",
      "Starting making the requests...\n",
      "Requesting: https://bio.tools/api/tool/?description=\"Knowledge graph\"&page=1&format=json\n",
      "Requests finished.\n",
      "Starting making the requests...\n",
      "Requesting: https://bio.tools/api/tool/?description=\"Module extraction (eg slims)\"&page=1&format=json\n",
      "Requests finished.\n",
      "Starting making the requests...\n",
      "Requesting: https://bio.tools/api/tool/?description=\"Free text mapping\"&page=1&format=json\n",
      "Requests finished.\n",
      "Starting making the requests...\n",
      "Requesting: https://bio.tools/api/tool/?description=\"NLP\"&page=1&format=json\n",
      "Requests finished.\n"
     ]
    }
   ],
   "source": [
    "ontology_free_results_general, ontology_free_results_detailed  = query_for_terms(ontology_free_terms, False)"
   ]
  },
  {
   "cell_type": "code",
   "execution_count": 127,
   "metadata": {},
   "outputs": [
    {
     "data": {
      "text/plain": [
       "539"
      ]
     },
     "execution_count": 127,
     "metadata": {},
     "output_type": "execute_result"
    }
   ],
   "source": [
    "frames = []\n",
    "for term in ontology_results_detailed:\n",
    "    frames.append(ontology_results_detailed[term])\n",
    "for term in ontology_free_results_detailed:\n",
    "    frames.append(ontology_free_results_detailed[term])\n",
    "ontology_joint_results = pd.concat(frames)\n",
    "\n",
    "len(ontology_joint_results.drop_duplicates(subset=['name']))\n"
   ]
  },
  {
   "cell_type": "code",
   "execution_count": 128,
   "metadata": {},
   "outputs": [],
   "source": [
    "ontology_joint_results = ontology_joint_results.drop_duplicates(subset=['name'])"
   ]
  },
  {
   "cell_type": "markdown",
   "metadata": {},
   "source": [
    "#### Total number of terms"
   ]
  },
  {
   "cell_type": "code",
   "execution_count": 40,
   "metadata": {
    "pycharm": {
     "name": "#%%\n"
    }
   },
   "outputs": [
    {
     "data": {
      "text/plain": [
       "4"
      ]
     },
     "execution_count": 40,
     "metadata": {},
     "output_type": "execute_result"
    }
   ],
   "source": [
    "len(ontology_results_general.keys())"
   ]
  },
  {
   "cell_type": "code",
   "execution_count": 41,
   "metadata": {},
   "outputs": [
    {
     "data": {
      "text/plain": [
       "10"
      ]
     },
     "execution_count": 41,
     "metadata": {},
     "output_type": "execute_result"
    }
   ],
   "source": [
    "len(ontology_free_results_general.keys())"
   ]
  },
  {
   "cell_type": "markdown",
   "metadata": {},
   "source": [
    "#### Tools per term"
   ]
  },
  {
   "cell_type": "code",
   "execution_count": 42,
   "metadata": {
    "pycharm": {
     "name": "#%%\n"
    }
   },
   "outputs": [
    {
     "data": {
      "text/plain": [
       "{'operation_0226': 131,\n",
       " 'operation_3280': 63,\n",
       " 'operation_3778': 47,\n",
       " 'topic_0089': 283}"
      ]
     },
     "execution_count": 42,
     "metadata": {},
     "output_type": "execute_result"
    }
   ],
   "source": [
    "count_tools_per_term(ontology_results_general)"
   ]
  },
  {
   "cell_type": "code",
   "execution_count": 43,
   "metadata": {},
   "outputs": [
    {
     "data": {
      "text/plain": [
       "{'Entity recognition': 9,\n",
       " 'Entity tagging': 1,\n",
       " 'Free text mapping': 0,\n",
       " 'Knowledge graph': 10,\n",
       " 'Module extraction (eg slims)': 0,\n",
       " 'NLP': 7,\n",
       " 'Ontology annotation': 10,\n",
       " 'Query expansion': 0,\n",
       " 'Text mining': 51,\n",
       " 'semantic annotation': 7}"
      ]
     },
     "execution_count": 43,
     "metadata": {},
     "output_type": "execute_result"
    }
   ],
   "source": [
    "count_tools_per_term(ontology_free_results_general)"
   ]
  },
  {
   "cell_type": "markdown",
   "metadata": {},
   "source": [
    "#### Lists of tool names per term\n",
    "This is handy for validation"
   ]
  },
  {
   "cell_type": "code",
   "execution_count": 152,
   "metadata": {
    "pycharm": {
     "name": "#%%\n"
    }
   },
   "outputs": [],
   "source": [
    "tools_per_term_ontology = tools_per_term(ontology_results_general)\n",
    "tools_per_term_ontology = {terms_label_ontology[term]:tools_per_term_ontology[term] for term in tools_per_term_ontology.keys()}"
   ]
  },
  {
   "cell_type": "code",
   "execution_count": 153,
   "metadata": {},
   "outputs": [],
   "source": [
    "tools_per_term_free_ontology = tools_per_term(ontology_free_results_general)\n",
    "tools_per_term_free_ontology = {term:tools_per_term_free_ontology[term] for term in tools_per_term_free_ontology.keys()}"
   ]
  },
  {
   "cell_type": "code",
   "execution_count": 154,
   "metadata": {
    "pycharm": {
     "name": "#%%\n"
    }
   },
   "outputs": [],
   "source": [
    "save_lists_tools(tools_per_term_ontology, path_output_ontology, True)"
   ]
  },
  {
   "cell_type": "code",
   "execution_count": 155,
   "metadata": {},
   "outputs": [],
   "source": [
    "save_lists_tools(tools_per_term_free_ontology, path_output_ontology, False)"
   ]
  },
  {
   "cell_type": "markdown",
   "metadata": {},
   "source": [
    "#### Merged tools lists\n",
    "All tools discovered merged in a single set"
   ]
  },
  {
   "cell_type": "code",
   "execution_count": 156,
   "metadata": {
    "pycharm": {
     "name": "#%%\n"
    }
   },
   "outputs": [
    {
     "data": {
      "text/plain": [
       "{'a4preproc',\n",
       " 'aber-owl',\n",
       " 'acela',\n",
       " 'aceparser',\n",
       " 'ads',\n",
       " 'adverse drug event presentation and tracking (adept)',\n",
       " 'agrigo',\n",
       " 'ahtpdb',\n",
       " 'aiso',\n",
       " 'ajia',\n",
       " 'allenricher',\n",
       " 'alliance genome resources',\n",
       " 'aloha',\n",
       " 'alvisir',\n",
       " 'amigo 2',\n",
       " 'amtdb',\n",
       " 'anabel',\n",
       " 'anddigest',\n",
       " 'annot',\n",
       " 'annotationfilter',\n",
       " 'ape',\n",
       " 'arachnoserver',\n",
       " 'argminer',\n",
       " 'aristo',\n",
       " 'arpir',\n",
       " 'asa-ps',\n",
       " 'aspgd',\n",
       " 'association viewer',\n",
       " 'avian immunome db',\n",
       " 'bagel2',\n",
       " 'becas',\n",
       " 'beere',\n",
       " 'bel commons',\n",
       " 'bel2abm',\n",
       " 'belief',\n",
       " 'bgeedb',\n",
       " 'bibliome variant database',\n",
       " 'bio-answerfinder',\n",
       " 'bio.tools',\n",
       " 'bio2bel',\n",
       " 'biobert',\n",
       " 'biocaddie',\n",
       " 'biocatalogue',\n",
       " 'bioconceptvec',\n",
       " 'biocontext',\n",
       " 'biocpkgtools',\n",
       " 'bioecs',\n",
       " 'bioexcel genome sequence quality control workflow',\n",
       " 'biogateway',\n",
       " 'biojs-vis-gprofiler',\n",
       " 'biokc',\n",
       " 'biolabeler',\n",
       " 'biolit',\n",
       " 'biomoby',\n",
       " 'biomodels database',\n",
       " 'bionda - biomarker database',\n",
       " 'bioner',\n",
       " 'bionet-mining',\n",
       " 'biont',\n",
       " 'bioportal',\n",
       " 'bior',\n",
       " 'bipom',\n",
       " 'bittersweet',\n",
       " 'biwalklda',\n",
       " 'blood exposome database',\n",
       " 'bo-lstm',\n",
       " 'bsqa',\n",
       " 'bubastis',\n",
       " 'bugbuilder',\n",
       " 'cadgene',\n",
       " 'cagefightr',\n",
       " 'calchas',\n",
       " 'candida genome database cgd',\n",
       " 'cargo',\n",
       " 'carmo',\n",
       " 'causalbuilder',\n",
       " 'caw',\n",
       " 'cbo',\n",
       " 'cddapp',\n",
       " 'cdfread',\n",
       " 'cedar ondemand',\n",
       " 'cellbaser',\n",
       " 'ceu mass mediator',\n",
       " 'charprotdb',\n",
       " 'chat',\n",
       " 'chebi ws',\n",
       " 'chemdistiller',\n",
       " 'chimera',\n",
       " 'chipinfo',\n",
       " 'ciona robusta anatomy and development ontology',\n",
       " 'circular gene ontology (cirgo)',\n",
       " 'citexplore literature database',\n",
       " 'civicmine',\n",
       " 'classyfire',\n",
       " 'clinical metadata ontology (cmdo)',\n",
       " 'clinical-sentences',\n",
       " 'clinotator',\n",
       " 'cocitestats',\n",
       " 'coeus',\n",
       " 'cogs',\n",
       " 'collabonet',\n",
       " 'combigor',\n",
       " 'compartments',\n",
       " 'compendium of protein lysine acetylation (cpla)',\n",
       " 'copheism',\n",
       " 'copub',\n",
       " 'covid-19 knetminer',\n",
       " 'cpgavas',\n",
       " 'craft',\n",
       " 'crispy',\n",
       " 'crowdgo',\n",
       " 'cui2vec',\n",
       " 'dasir',\n",
       " 'david bioinformatics resources',\n",
       " 'dbcan',\n",
       " 'dbcrid',\n",
       " 'dcgor',\n",
       " 'ddbj',\n",
       " 'deca',\n",
       " 'decres',\n",
       " 'deeppheno',\n",
       " 'deeppvp',\n",
       " 'deepred',\n",
       " 'defume',\n",
       " 'delayedarray',\n",
       " 'descseq',\n",
       " 'diana-lncbase',\n",
       " 'diana-microt v5.0',\n",
       " 'diana-mirgen',\n",
       " 'dictybase update 2011',\n",
       " 'dictyexpress',\n",
       " 'digchem',\n",
       " 'digsee',\n",
       " 'dingo',\n",
       " 'diseases',\n",
       " 'disqover',\n",
       " 'diversity workbench',\n",
       " 'diversityreferences',\n",
       " 'diversityscientificterms',\n",
       " 'dnatraffic',\n",
       " 'do',\n",
       " 'doc2hpo',\n",
       " 'dquest',\n",
       " 'drar-cpi',\n",
       " 'drawglycan-snfg',\n",
       " 'drosophila dnase i footprint database',\n",
       " 'drug targets',\n",
       " 'e3miner',\n",
       " 'easy-hla',\n",
       " 'ebi search',\n",
       " 'edamdef',\n",
       " 'edamhasinput',\n",
       " 'edamhasoutput',\n",
       " 'edamisformat',\n",
       " 'edamisid',\n",
       " 'edamname',\n",
       " 'elmmo',\n",
       " 'emma2 ws',\n",
       " 'enrichment map cytoscape plugin',\n",
       " 'enrichplot',\n",
       " 'est2assembly',\n",
       " 'estscan',\n",
       " 'etm-db',\n",
       " 'europhenome',\n",
       " 'eventepi',\n",
       " 'evex',\n",
       " 'evntextrc',\n",
       " 'extract',\n",
       " 'facta plus',\n",
       " 'faf-drugs',\n",
       " 'fair',\n",
       " 'fairdatapoint',\n",
       " 'famplex',\n",
       " 'fasto',\n",
       " 'feelnc',\n",
       " 'ffpred',\n",
       " 'fhir',\n",
       " 'flowrepositoryr',\n",
       " 'flyode',\n",
       " 'flytf',\n",
       " 'fontcell',\n",
       " 'funcexplorer',\n",
       " 'funcprop',\n",
       " 'funmappone',\n",
       " 'fusionanalyser',\n",
       " 'g-sesame',\n",
       " 'g:profiler',\n",
       " 'gbol',\n",
       " 'gcocoa',\n",
       " 'gdsarray',\n",
       " 'gedex',\n",
       " 'gemtractor',\n",
       " 'gene ontology',\n",
       " 'gene ontology (go)',\n",
       " 'gene ontology browser',\n",
       " 'genease',\n",
       " 'generic go term finder',\n",
       " 'generic go term mapper',\n",
       " 'geneview',\n",
       " 'genex_ontology',\n",
       " 'genfam',\n",
       " 'geniatagger',\n",
       " 'genodraw',\n",
       " 'genome trax',\n",
       " 'genome3d',\n",
       " 'genomicscores',\n",
       " 'genosurf',\n",
       " 'genvisage',\n",
       " 'geseq',\n",
       " 'gfbio',\n",
       " 'gimli',\n",
       " 'globalfungi',\n",
       " 'glycoglyph',\n",
       " 'go enrichment analysis tool',\n",
       " 'go-elite',\n",
       " 'go-figure',\n",
       " 'go2msig',\n",
       " 'go2vec',\n",
       " 'goa',\n",
       " 'goa_gubbar',\n",
       " 'goblet',\n",
       " 'gocats',\n",
       " 'godef',\n",
       " 'godoc',\n",
       " 'goeast',\n",
       " 'gofuncr',\n",
       " 'gogene',\n",
       " 'gomap',\n",
       " 'gomapman',\n",
       " 'gomcl',\n",
       " 'gominer ws',\n",
       " 'goname',\n",
       " 'gonet',\n",
       " 'gonuts',\n",
       " 'gopubmed',\n",
       " 'gorilla',\n",
       " 'gosemsim',\n",
       " 'gosim',\n",
       " 'goslin',\n",
       " 'gostag',\n",
       " 'gostats',\n",
       " 'gotools',\n",
       " 'gotrapper',\n",
       " 'gpannotate',\n",
       " 'gpsdb',\n",
       " 'grasp',\n",
       " 'gsan',\n",
       " 'gsso',\n",
       " 'gsvec',\n",
       " 'gtrd',\n",
       " 'guide',\n",
       " 'gwastools',\n",
       " 'hare',\n",
       " 'hatk',\n",
       " 'hgt-id',\n",
       " 'hgv_david',\n",
       " 'hgv_linktogprofile',\n",
       " 'hig2vec',\n",
       " 'higdb',\n",
       " 'hio',\n",
       " 'hipathia',\n",
       " 'histone coder',\n",
       " 'hlungdb',\n",
       " 'hmtvar',\n",
       " 'holovir',\n",
       " 'hpo2go',\n",
       " 'hubmed',\n",
       " 'human gene nomenclature database (hgnc)',\n",
       " 'hyper',\n",
       " 'iambee',\n",
       " 'icrf generator',\n",
       " 'ictnet2',\n",
       " 'ideal',\n",
       " 'ietd',\n",
       " 'ihop ws',\n",
       " 'ikap_cells',\n",
       " 'impres',\n",
       " 'inaturalist',\n",
       " 'iot-stream',\n",
       " 'ipd project',\n",
       " 'iscan',\n",
       " 'isotopident',\n",
       " 'itextmine',\n",
       " 'ivariantguide',\n",
       " 'j-express',\n",
       " 'jmztab-m',\n",
       " 'jprogo',\n",
       " 'karma',\n",
       " 'kbase',\n",
       " 'kccg patient archive',\n",
       " 'kegganim',\n",
       " 'keggprofile',\n",
       " 'kinetoplastid genome resources (tritrypdb)',\n",
       " 'koffi',\n",
       " 'l2l',\n",
       " 'lailaps-qsm',\n",
       " 'limtox',\n",
       " 'linkphinder',\n",
       " 'lion-web',\n",
       " 'lipid data analyzer (lda)',\n",
       " 'lipid mini-on',\n",
       " 'list ontologies',\n",
       " 'litinspector',\n",
       " 'litminer',\n",
       " 'lobstahs',\n",
       " 'locdb',\n",
       " 'loinc2hpo',\n",
       " 'lungmap',\n",
       " 'macie',\n",
       " 'magecomet',\n",
       " 'magi',\n",
       " 'mambo',\n",
       " 'mamot',\n",
       " 'markerhub',\n",
       " 'marky',\n",
       " 'matscholar',\n",
       " 'maxent-ppi',\n",
       " 'mbrole',\n",
       " 'mechspy',\n",
       " 'medextractr',\n",
       " 'medical relation extraction',\n",
       " 'melanomamine',\n",
       " 'meshsim',\n",
       " 'mesophotic.org',\n",
       " 'messa',\n",
       " 'metdisease',\n",
       " 'metfamily',\n",
       " 'mg-rast',\n",
       " 'microbe browser',\n",
       " 'microtss',\n",
       " 'mir-prefer',\n",
       " 'mirnatarbase',\n",
       " 'mirtarbas',\n",
       " 'mirtex',\n",
       " 'modex',\n",
       " 'monarch initiative',\n",
       " 'morphdb',\n",
       " 'mouse phenome database',\n",
       " 'mousebook',\n",
       " 'mpagenomics',\n",
       " 'mtgo-sc',\n",
       " 'mtl-bc-lbc-bioner',\n",
       " 'mucor',\n",
       " 'multiloc2',\n",
       " 'mvgst',\n",
       " 'myminer',\n",
       " 'nadfinder',\n",
       " 'nbdc rdf portal',\n",
       " 'nbrp resources',\n",
       " 'nemine',\n",
       " 'neuropp',\n",
       " 'neuroscience information framework',\n",
       " 'ngly1',\n",
       " 'nlimed',\n",
       " 'nlp ml',\n",
       " 'nlprot',\n",
       " 'nlr-parser',\n",
       " 'nmrml converter',\n",
       " 'noa',\n",
       " 'npact',\n",
       " 'nutrichem',\n",
       " 'odae',\n",
       " 'odg',\n",
       " 'odmltables',\n",
       " 'ols dialog',\n",
       " 'omadb',\n",
       " 'ometa',\n",
       " 'omim explorer',\n",
       " 'onassis',\n",
       " 'onclass',\n",
       " 'onesense',\n",
       " 'ontobrowser',\n",
       " 'ontocat',\n",
       " 'ontocount',\n",
       " 'ontoget',\n",
       " 'ontogetcommon',\n",
       " 'ontogetdown',\n",
       " 'ontogetobsolete',\n",
       " 'ontogetroot',\n",
       " 'ontogetsibs',\n",
       " 'ontogetup',\n",
       " 'ontoisobsolete',\n",
       " 'ontokin',\n",
       " 'ontology lookup service',\n",
       " 'ontoproc',\n",
       " 'ontoquest ws',\n",
       " 'ontoquestmain',\n",
       " 'ontotext',\n",
       " 'openflu',\n",
       " 'orange',\n",
       " 'organism.dplyr',\n",
       " 'organisms',\n",
       " 'pageman',\n",
       " 'pangaea',\n",
       " 'pannotator',\n",
       " 'pannzer',\n",
       " 'pannzer2',\n",
       " 'parameciumdb',\n",
       " 'pavian',\n",
       " 'pcosbase',\n",
       " 'pcpheno',\n",
       " 'pdbj',\n",
       " 'pdzpepint',\n",
       " 'peakanalyzer',\n",
       " 'pedl',\n",
       " 'peregrine',\n",
       " 'pgxmine',\n",
       " 'phaedra',\n",
       " 'phen2gene',\n",
       " 'phenohm',\n",
       " 'phenominer',\n",
       " 'phenoscape',\n",
       " 'phenotator',\n",
       " 'phexpo',\n",
       " 'pint',\n",
       " 'plan2l',\n",
       " 'planet microbe',\n",
       " 'plangexq',\n",
       " 'plant experimental assay ontology (peao)',\n",
       " 'plantcircnet',\n",
       " 'plato plugin for autocomplete on ontologies',\n",
       " 'pmo',\n",
       " 'poeas',\n",
       " 'pogos',\n",
       " 'polysearch2',\n",
       " 'pombase',\n",
       " 'pomelo ii',\n",
       " 'ppr-ssm',\n",
       " 'pptm',\n",
       " 'predictprotein open',\n",
       " 'progenetix',\n",
       " 'proloc-go',\n",
       " 'propheno',\n",
       " 'protein naming utility',\n",
       " 'protfus',\n",
       " 'protmapper',\n",
       " 'pubrecheck',\n",
       " 'pubrunner',\n",
       " 'pubtator',\n",
       " 'pubtator central',\n",
       " 'pure',\n",
       " 'pybravo',\n",
       " 'pyiomica',\n",
       " 'pymeshsim',\n",
       " 'pyradiomics',\n",
       " 'python video annotator',\n",
       " 'qsbio',\n",
       " 'qtl tableminer++(qtm)',\n",
       " 'quickgo',\n",
       " 'quin',\n",
       " 'ramigo',\n",
       " 'rast',\n",
       " 'ratspub',\n",
       " 'ratt',\n",
       " 'rbbt',\n",
       " 'rdavidwebservice',\n",
       " 'rdfscape',\n",
       " 'rdrf',\n",
       " 'receem',\n",
       " 'relna',\n",
       " 'response',\n",
       " 'retina',\n",
       " 'riken integrated database of mammals',\n",
       " 'ril-contour',\n",
       " 'ripplenet',\n",
       " 'rlims-p',\n",
       " 'rnaindel',\n",
       " 'robokop',\n",
       " 'robokop kg',\n",
       " 'robot',\n",
       " 'rols',\n",
       " 'roma',\n",
       " 'romop',\n",
       " 'rulego',\n",
       " 'samsa2',\n",
       " 'sapp',\n",
       " 'sbpks2',\n",
       " 'scdo',\n",
       " 'sci.ai',\n",
       " 'seaweb',\n",
       " 'secstrannotator',\n",
       " 'semantic body browser',\n",
       " 'semdist',\n",
       " 'seqexpress',\n",
       " 'seqhound',\n",
       " 'sequence similarity maps (ssm)',\n",
       " 'sevenc',\n",
       " 'shinygo',\n",
       " 'simconcept',\n",
       " 'simdef',\n",
       " 'sinopedia',\n",
       " 'skimmr',\n",
       " 'smog',\n",
       " 'snomed ct',\n",
       " 'snpnotes',\n",
       " 'soba: sequence ontology bioinformatics analysis',\n",
       " 'sparql',\n",
       " 'spex2',\n",
       " 'starpdb',\n",
       " 'sts-nlsp',\n",
       " 'superfamily',\n",
       " 'synteny browser',\n",
       " 't-library',\n",
       " 'tableannotator',\n",
       " 'terrestrialmetagenomedb',\n",
       " 'thbp',\n",
       " 'the brenda tissue ontology (bto)',\n",
       " 'the comparative toxicogenomics database (ctd)',\n",
       " 'the comprehensive antibiotic resistance database (card)',\n",
       " 'the protein ontology',\n",
       " 'tissues',\n",
       " 'tm-imc',\n",
       " 'tmvar',\n",
       " 'togogenome',\n",
       " 'tooldog',\n",
       " 'topgo',\n",
       " 'treeio',\n",
       " 'trifle',\n",
       " 'tromer',\n",
       " 'typeinfo',\n",
       " 'ukpmc',\n",
       " 'umlsmapper',\n",
       " 'uniconsig',\n",
       " 'unired',\n",
       " 'varimerge',\n",
       " 'vastdb',\n",
       " 'vio',\n",
       " 'viralzone',\n",
       " 'viseago',\n",
       " 'vist',\n",
       " 'webanno',\n",
       " 'webapollo',\n",
       " 'wego',\n",
       " 'wego2.0',\n",
       " 'workflow4metabolomics',\n",
       " 'xenbase',\n",
       " 'yeast metaboliner',\n",
       " 'yogy',\n",
       " 'zooma'}"
      ]
     },
     "execution_count": 156,
     "metadata": {},
     "output_type": "execute_result"
    }
   ],
   "source": [
    "all_ontology_tools = merge_tools_lists([ontology_results_general,  ontology_free_results_general])\n",
    "all_ontology_tools"
   ]
  },
  {
   "cell_type": "code",
   "execution_count": 135,
   "metadata": {
    "pycharm": {
     "name": "#%%\n"
    }
   },
   "outputs": [
    {
     "data": {
      "text/plain": [
       "539"
      ]
     },
     "execution_count": 135,
     "metadata": {},
     "output_type": "execute_result"
    }
   ],
   "source": [
    "len(all_ontology_tools)"
   ]
  },
  {
   "cell_type": "markdown",
   "metadata": {},
   "source": [
    "### Ontology related annotations count"
   ]
  },
  {
   "cell_type": "code",
   "execution_count": 157,
   "metadata": {
    "pycharm": {
     "name": "#%%\n"
    }
   },
   "outputs": [
    {
     "name": "stdout",
     "output_type": "stream",
     "text": [
      "                      tool  ontology annotations count\n",
      "4                    acela                           3\n",
      "43                   craft                           3\n",
      "281                ppr-ssm                           3\n",
      "408                    pmo                           2\n",
      "51   dictybase update 2011                           2\n",
      "..                     ...                         ...\n",
      "243             protmapper                           0\n",
      "503                mechspy                           0\n",
      "352                robokop                           0\n",
      "216                e3miner                           0\n",
      "0                  cadgene                           0\n",
      "\n",
      "[539 rows x 2 columns]\n"
     ]
    }
   ],
   "source": [
    "matches_tools = {}\n",
    "for tool in list(all_ontology_tools):\n",
    "    matches = 0\n",
    "    for l in tools_per_term_ontology.values():\n",
    "        if tool in list(l):\n",
    "            matches += 1\n",
    "    matches_tools[tool] = matches\n",
    "\n",
    "ontology_annot_count_df = pd.DataFrame(list(matches_tools.items()), columns= ['tool','ontology annotations count']).sort_values('ontology annotations count', ascending=False)\n",
    "print(ontology_annot_count_df)"
   ]
  },
  {
   "cell_type": "code",
   "execution_count": 137,
   "metadata": {
    "pycharm": {
     "name": "#%%\n"
    }
   },
   "outputs": [
    {
     "data": {
      "image/png": "[encoded data removed]",
      "text/plain": [
       "<Figure size 432x288 with 1 Axes>"
      ]
     },
     "metadata": {},
     "output_type": "display_data"
    }
   ],
   "source": [
    "plt.hist(ontology_annot_count_df['ontology annotations count'],alpha=0.5)\n",
    "plt.xlim([2, 4])\n",
    "plt.ylim([0, 50])\n",
    "plt.title('ontology related terms each tool ')\n",
    "plt.xlabel('Number of ontology terms')\n",
    "plt.ylabel('Number of discovered tools')\n",
    "plt.show()"
   ]
  },
  {
   "cell_type": "markdown",
   "metadata": {},
   "source": [
    "plt.hist(ontology_annot_count_df['ontology annotations count'],alpha=0.5)\n",
    "plt.xlim([2, 4])\n",
    "plt.ylim([0, 50])\n",
    "plt.title('ontology related terms each tool ')\n",
    "plt.xlabel('Number of ontology terms')\n",
    "plt.ylabel('Number of discovered tools')\n",
    "plt.show()"
   ]
  },
  {
   "cell_type": "code",
   "execution_count": null,
   "metadata": {},
   "outputs": [],
   "source": []
  },
  {
   "cell_type": "markdown",
   "metadata": {},
   "source": [
    "### Ontology rank tools using keywords and weight"
   ]
  },
  {
   "cell_type": "code",
   "execution_count": 164,
   "metadata": {},
   "outputs": [
    {
     "name": "stdout",
     "output_type": "stream",
     "text": [
      "                                 keyword  weight\n",
      "0                    Ontology annotation    1.00\n",
      "1                    semantic annotation    0.80\n",
      "2                            Text mining    0.50\n",
      "3                        Text annotation    0.50\n",
      "4                         Entity tagging    0.50\n",
      "5                     Entity recognition    0.75\n",
      "6   Named-entity and concept recognition    0.75\n",
      "7               ontology and terminology    1.00\n",
      "8                        Query expansion    0.75\n",
      "9                      Module extraction    0.75\n",
      "10                     Free text mapping    1.00\n",
      "11                       Text Annotation    1.00\n",
      "12                            Annotation    0.50\n",
      "13                      Ontology mapping    1.00\n",
      "14                    Ontology alignment    1.00\n",
      "15                          Term mapping    1.00\n",
      "16                                   NLP    0.50\n"
     ]
    }
   ],
   "source": [
    "ontology_ranked = \"keywords/ontology_annotation_EDAM_ranked.csv\"\n",
    "ontology_ranked_keys = read_ranking(ontology_ranked)\n",
    "print(ontology_ranked_keys)"
   ]
  },
  {
   "cell_type": "code",
   "execution_count": 165,
   "metadata": {},
   "outputs": [
    {
     "name": "stdout",
     "output_type": "stream",
     "text": [
      "['Ontology annotation', 'semantic annotation', 'Text mining', 'Text annotation', 'Entity tagging', 'Entity recognition', 'Named-entity and concept recognition', 'ontology and terminology', 'Query expansion', 'Module extraction', 'Free text mapping', 'Text Annotation', 'Annotation', 'Ontology mapping', 'Ontology alignment', 'Term mapping', 'NLP']\n",
      "Knowledge graph not in keywords list. Assigning score of 0.7\n",
      "Knowledge graph not in keywords list. Assigning score of 0.7\n",
      "Knowledge graph not in keywords list. Assigning score of 0.7\n",
      "Knowledge graph not in keywords list. Assigning score of 0.7\n",
      "Knowledge graph not in keywords list. Assigning score of 0.7\n",
      "Knowledge graph not in keywords list. Assigning score of 0.7\n",
      "Knowledge graph not in keywords list. Assigning score of 0.7\n",
      "Knowledge graph not in keywords list. Assigning score of 0.7\n",
      "Knowledge graph not in keywords list. Assigning score of 0.7\n",
      "Knowledge graph not in keywords list. Assigning score of 0.7\n"
     ]
    }
   ],
   "source": [
    "max_matches = max(ontology_annot_count_df['ontology annotations count'])\n",
    "df_ranked_ontology_tools = rank_tools(all_ontology_tools,ontology_ranked_keys, tools_per_term_ontology, tools_per_term_free_ontology, ontology_joint_results, max_matches)"
   ]
  },
  {
   "cell_type": "code",
   "execution_count": 166,
   "metadata": {},
   "outputs": [],
   "source": [
    "df_ranked_ontology_tools.to_csv('outputs/ontology/ranked_tools.csv', index=False)"
   ]
  },
  {
   "cell_type": "code",
   "execution_count": null,
   "metadata": {},
   "outputs": [],
   "source": []
  }
 ],
 "metadata": {
  "kernelspec": {
   "display_name": "Python 3",
   "language": "python",
   "name": "python3"
  },
  "language_info": {
   "codemirror_mode": {
    "name": "ipython",
    "version": 3
   },
   "file_extension": ".py",
   "mimetype": "text/x-python",
   "name": "python",
   "nbconvert_exporter": "python",
   "pygments_lexer": "ipython3",
   "version": "3.6.9"
  }
 },
 "nbformat": 4,
 "nbformat_minor": 2
}
