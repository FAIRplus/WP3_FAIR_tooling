{
 "cells": [
  {
   "cell_type": "markdown",
   "metadata": {},
   "source": [
    "# bio.tools querying"
   ]
  },
  {
   "cell_type": "markdown",
   "metadata": {},
   "source": [
    "## Overview"
   ]
  },
  {
   "cell_type": "markdown",
   "metadata": {},
   "source": [
    "## Code"
   ]
  },
  {
   "cell_type": "code",
   "execution_count": 1,
   "metadata": {},
   "outputs": [],
   "source": [
    "import sys\n",
    "import json\n",
    "import requests\n",
    "import argparse\n",
    "import yaml\n",
    "import biotools_parse as bp\n",
    "import pandas as pd\n",
    "from pathlib import Path\n",
    "from matplotlib import pyplot as plt\n",
    "\n",
    "\n",
    "# The call to get all bio.tools entries through the api is: https://bio.tools/api/tool/?format=json.\n",
    "# Unfortunately, the response is limited to n tools. To get the whole set, the next pages must be retrieve.\n",
    "# use \"next\" in the response to get succesive entries.\n",
    " \n",
    "base_call = \"https://bio.tools/api/tool/?format=json\"\n",
    "\n",
    "\n",
    "def make_request(URL):\n",
    "    try:\n",
    "        response = requests.get(URL)\n",
    "    except:\n",
    "        print('Could not make the request')\n",
    "        return\n",
    "    else:\n",
    "        response = json.loads(response.text)\n",
    "        return(response)\n",
    "\n",
    "def build_url(next_page, filters):\n",
    "    call_template = \"https://bio.tools/api/tool/?{attributes}{next_page}&format=json\"\n",
    "    if next_page:\n",
    "        next_page = \"&%s\"%next_page\n",
    "    else:\n",
    "        next_page = \"\"\n",
    "    attributes = '&'.join(filters)    \n",
    "    url = call_template.format(next_page=next_page, attributes=attributes)\n",
    "    return(url)\n",
    "\n",
    "\n",
    "def get_all_pages(filters):\n",
    "    res = []\n",
    "    next_page = \"page=1\"\n",
    "    print('Starting making the requests...')\n",
    "    while next_page:\n",
    "        response = make_request(build_url(next_page, filters))\n",
    "        print(\"Requesting: \" + build_url(next_page, filters), end='\\r')\n",
    "        res = res + response[\"list\"]\n",
    "        next_page = response[\"next\"]\n",
    "        if next_page:\n",
    "            next_page = next_page[1:]\n",
    "    print('\\nRequests finished.')\n",
    "    return(res)\n",
    "\n",
    "def save_result(out_path, result):\n",
    "    with open(out_path, 'w') as out:\n",
    "        json.dump(result, out)\n",
    "    print('Result saved as ' + out_path )\n",
    "    \n",
    "\n",
    "colnames_general = ['name', 'description', 'type', 'topic', 'input', 'output']\n",
    "colnames_detailed = [ 'name', 'description', 'version', 'type', 'topic', 'links', 'publication', 'download', 'inst_instr', 'test', 'src', 'os', 'input', 'output', 'dependencies', 'documentation', 'license', 'termsUse', 'contribPolicy', 'authors', 'repository']\n",
    "def results_to_table(result, colnames):\n",
    "    tools = bp.biotoolsToolsGenerator(result).instances\n",
    "    # Load features into table\n",
    "    colnames_features = colnames\n",
    "    df_dict = {name : [] for name in colnames_features}\n",
    "\n",
    "    for tool in tools:\n",
    "        for field in colnames_features:\n",
    "            df_dict[field].append(tool.__dict__.get(field))\n",
    "\n",
    "    df_features = pd.DataFrame.from_dict(df_dict)\n",
    "    df_features.drop_duplicates(subset =\"name\", keep = False, inplace = True) \n",
    "    return(df_features)\n",
    "\n",
    "\n",
    "def parse_zooma_results(input_file):\n",
    "    with open(input_file, 'r') as inp:\n",
    "        zooma_terms_df = pd.read_csv(input_file)\n",
    "        # getting list of terms\n",
    "        terms = zooma_terms_df['iri']\n",
    "        terms = []\n",
    "        free_terms = []\n",
    "        terms_label = {}\n",
    "        for index, row in zooma_terms_df.iterrows():\n",
    "            if type(row['iri']) == str:\n",
    "                term = row['iri'].split('http://edamontology.org/')[1].strip('\\n')\n",
    "                terms.append(term)\n",
    "                terms_label[term] = row['label'].strip('\\n')\n",
    "            else:\n",
    "                free_terms.append(row['keyword'].strip('\\n'))\n",
    "                \n",
    "    return(terms, terms_label, free_terms)\n",
    "\n",
    "def build_filter(term):\n",
    "    filters_template =  {'topic': 'topicID=\"%s\"', 'format':'dataFormatID=\"%s\"', 'operation':'operationID=\"%s\"', 'data':'dataTypeID=\"%s\"'}\n",
    "    if 'topic' in term:\n",
    "        filters = filters_template['topic']%(term)\n",
    "    elif 'data' in term:\n",
    "        filters = filters_template['data']%(term)\n",
    "    elif 'operation' in term:\n",
    "        filters = filters_template['operation']%(term)\n",
    "    elif 'format' in term:\n",
    "        filters = filters_template['format']%(term)\n",
    "    return(filters)     \n",
    "\n",
    "def query_for_terms(terms, EDAM=False):\n",
    "    '''\n",
    "    Takes a list of EDAM terms or free text keywords and does a query for each\n",
    "    EDAM=True for edam terms, EDAM=False for freetext keywords. Default: EDAM=False.\n",
    "    Return a dictionary of results of the form: {<term>: <dataframe of results>}\n",
    "    '''\n",
    "    free_filter_template = 'description=\"%s\"'\n",
    "    results = dict()\n",
    "    results_detailed = dict()\n",
    "    # Iteratre through terms\n",
    "    for term in terms:\n",
    "        term  = term.replace(\"/\",'-')\n",
    "        # Avoid duplicated queries\n",
    "        if term not in results.keys():\n",
    "            # Building the filters using the EDAM terms\n",
    "            if EDAM == True:\n",
    "                filter_ = [build_filter(term)]\n",
    "            else:\n",
    "                filter_ = [free_filter_template%(term)]\n",
    "            # Do the query\n",
    "            result = get_all_pages(filter_)\n",
    "            # Put result in table\n",
    "            result_df = results_to_table(result, colnames_general)\n",
    "            result_detailed_df = results_to_table(result, colnames_detailed)\n",
    "            # Put results table in dictionary with the results for the other terms\n",
    "            results[term] = result_df\n",
    "            results_detailed[term] = result_detailed_df\n",
    "    return(results, results_detailed)\n",
    "\n",
    "def count_tools_per_term(results):\n",
    "    count_tools_per_term = {term :len(results[term]) for term in results.keys()}\n",
    "    return(count_tools_per_term)\n",
    "\n",
    "def tools_per_term(results):\n",
    "    tools_per_term = {term:results[term]['name'] for term in results}  \n",
    "    return(tools_per_term)\n",
    "\n",
    "def merge_tools_lists(results):\n",
    "    tools = set()\n",
    "    for table in results:\n",
    "        tools_per_term_ = tools_per_term(table)\n",
    "        for term in tools_per_term_:\n",
    "            for tool in tools_per_term_[term]:\n",
    "                tools.add(tool)\n",
    "    return(tools)\n",
    "\n",
    "def save_results(results_general, terms_label, path):\n",
    "    template_output = path + '/tools_%s.tsv'\n",
    "    for term in results_general.keys():\n",
    "        file_name = template_output%(terms_label[term])\n",
    "        results_general[term].to_csv(file_name, index = False, sep='\\t')\n",
    "\n",
    "def save_lists_tools(tools_per_term,path, EDAM=False):\n",
    "    if EDAM==True:\n",
    "        template_output = path + '/tools_edam_%s.txt'\n",
    "    else:\n",
    "        template_output = path + '/tools_free_%s.txt'\n",
    "    for term in tools_per_term.keys():\n",
    "        with open(template_output%(term), 'w') as f:\n",
    "            for item in tools_per_term[term]:\n",
    "                f.write(\"%s\\n\" % item)\n",
    "    "
   ]
  },
  {
   "cell_type": "markdown",
   "metadata": {},
   "source": [
    "The attributes chosen to filter the query must be passed to the `get_all_pages` function in a list. Each attribute must be a string of the form `name=signalp`. This string will be put as a parameter in the query URL as it is. Please, follow the [bio.tools API reference](https://biotools.readthedocs.io/en/latest/api_reference.html) to construct this parameters successfully."
   ]
  },
  {
   "cell_type": "code",
   "execution_count": 6,
   "metadata": {},
   "outputs": [
    {
     "name": "stdout",
     "output_type": "stream",
     "text": [
      "Starting making the requests...\n",
      "Requesting: https://bio.tools/api/tool/?topic=\"Sequence composition, complexity and repeats\"&description=\"game\"&page=1&format=json\n",
      "Requests finished.\n"
     ]
    }
   ],
   "source": [
    "sample_filters = ['topic=\"Sequence composition, complexity and repeats\"', 'description=\"game\"']\n",
    "filters = sample_filters\n",
    "result = get_all_pages(filters)"
   ]
  },
  {
   "cell_type": "code",
   "execution_count": 7,
   "metadata": {},
   "outputs": [
    {
     "name": "stdout",
     "output_type": "stream",
     "text": [
      "Result saved as run_3.json\n"
     ]
    }
   ],
   "source": [
    "save_result('run_3.json', result)"
   ]
  },
  {
   "cell_type": "markdown",
   "metadata": {},
   "source": [
    "### Simple Query Example 1:"
   ]
  },
  {
   "cell_type": "markdown",
   "metadata": {},
   "source": [
    "The following is an example of a query of tools annotted with the EDAM topic \"Sequence composition, complexity and repeats\" and with the word \"game\"  in their description. "
   ]
  },
  {
   "cell_type": "markdown",
   "metadata": {},
   "source": [
    "###  Simple Query Example 2:"
   ]
  },
  {
   "cell_type": "markdown",
   "metadata": {},
   "source": [
    "## Case 1: ETL tools discovery\n",
    "\n",
    "We will query bio.tools using a set of EDAM terms that have being obtained after a mapping with ZOOMA.\n"
   ]
  },
  {
   "cell_type": "markdown",
   "metadata": {},
   "source": [
    "### Step 1: parsing zooma results"
   ]
  },
  {
   "cell_type": "markdown",
   "metadata": {},
   "source": [
    "ZOOMA results must be in a csv format.The colunm names, in this order, must be: `keyword`,`iri`,`label` and `confidence`. An example of a valid: \n",
    "\n",
    "|keyword            |iri                                   |label                      |confidence|\n",
    "|-------------------|--------------------------------------|---------------------------|----------|\n",
    "|Ontology annotation|http://edamontology.org/operation_0226|Annotation                 |MEDIUM    |\n",
    "|Ontology annotation|                                      |                           |          |\n",
    "|semantic annotation|                                      |                           |          |\n",
    "|semantic annotation|http://edamontology.org/operation_3778|Text annotation            |MEDIUM    |\n",
    "|Text mining        |http://edamontology.org/topic_0218    |Natural language processing|GOOD      |\n",
    "\n",
    "Raw: \n",
    "\n",
    "```\n",
    "keyword,iri,label,confidence\n",
    "Ontology annotation,http://edamontology.org/operation_0226,Annotation,MEDIUM\n",
    "Ontology annotation,,,\n",
    "semantic annotation,,,\n",
    "semantic annotation,http://edamontology.org/operation_3778,Text annotation,MEDIUM\n",
    "Text mining,http://edamontology.org/topic_0218,Natural language processing,GOOD\n",
    "```\n",
    "\n",
    "The function `parse_zooma_results` parses this csv and returns a list of terms suitable for the querying."
   ]
  },
  {
   "cell_type": "markdown",
   "metadata": {},
   "source": [
    "For a mapping of keyword related with ETL against EDAM, we got the ZOOMA results in the path `ETL_EDAM_curated.csv`."
   ]
  },
  {
   "cell_type": "code",
   "execution_count": 8,
   "metadata": {},
   "outputs": [
    {
     "name": "stdout",
     "output_type": "stream",
     "text": [
      "['topic_3366', 'topic_3571', 'topic_3345', 'topic_0219', 'topic_3489', 'topic_0769', 'topic_3572', 'operation_1812', 'operation_3431', 'operation_3436', 'operation_0335', 'operation_0224', 'operation_3907', 'operation_0336']\n",
      "{'topic_3366': 'Data integration and warehousing', 'topic_3571': 'data governance', 'topic_3345': 'Data identity and mapping', 'topic_0219': 'Data submission, annotation and curation', 'topic_3489': 'Database management', 'topic_0769': 'workflows', 'topic_3572': 'Data quality management', 'operation_1812': 'parsing', 'operation_3431': 'deposition', 'operation_3436': 'aggregation', 'operation_0335': 'formatting', 'operation_0224': 'Query and retrieval', 'operation_3907': 'Information extraction', 'operation_0336': 'Format validation'}\n",
      "['data store', 'data warehous', 'data lake', 'aggregated data', 'ETL', 'ingest', 'retriev', 'Cloud migration', 'Database replication', 'dataflow', 'integrat', 'extract', 'transform', 'data cleaning', 'loading', 'validat', 'query', 'provenance', 'Database management', 'Data quality', 'parsing', 'deposit', 'format', 'data unification', 'provenance', 'workflow', 'transfer']\n"
     ]
    }
   ],
   "source": [
    "terms_file='keywords/ETL_EDAM_curated.csv'\n",
    "ETL_edam_terms, terms_label_ETL, free_terms = parse_zooma_results(terms_file)\n",
    "print(ETL_edam_terms)\n",
    "print(terms_label_ETL)\n",
    "print(free_terms)"
   ]
  },
  {
   "cell_type": "markdown",
   "metadata": {},
   "source": [
    "### Step 2: doing the queries. "
   ]
  },
  {
   "cell_type": "markdown",
   "metadata": {
    "pycharm": {
     "name": "#%% md\n"
    }
   },
   "source": [
    "#### Step 2.1: EDAM queries"
   ]
  },
  {
   "cell_type": "markdown",
   "metadata": {},
   "source": [
    "The function `query_for_terms` does the quering for the previously obtained list of EDAM terms when second argument set to `True`. It resturns two kind of outputs: general and detailed. Each is a dictionary of the form: `{<term>: <dataframe of results>}`"
   ]
  },
  {
   "cell_type": "code",
   "execution_count": 9,
   "metadata": {},
   "outputs": [
    {
     "name": "stdout",
     "output_type": "stream",
     "text": [
      "Starting making the requests...\n",
      "Requesting: https://bio.tools/api/tool/?topicID=\"topic_3366\"&page=8&format=json\n",
      "Requests finished.\n",
      "Starting making the requests...\n",
      "Requesting: https://bio.tools/api/tool/?topicID=\"topic_3571\"&page=2&format=json\n",
      "Requests finished.\n",
      "Starting making the requests...\n",
      "Requesting: https://bio.tools/api/tool/?topicID=\"topic_3345\"&page=3&format=json\n",
      "Requests finished.\n",
      "Starting making the requests...\n",
      "Requesting: https://bio.tools/api/tool/?topicID=\"topic_0219\"&page=16&format=json\n",
      "Requests finished.\n",
      "Starting making the requests...\n",
      "Requesting: https://bio.tools/api/tool/?topicID=\"topic_3489\"&page=19&format=json\n",
      "Requests finished.\n",
      "Starting making the requests...\n",
      "Requesting: https://bio.tools/api/tool/?topicID=\"topic_0769\"&page=41&format=json\n",
      "Requests finished.\n",
      "Starting making the requests...\n",
      "Requesting: https://bio.tools/api/tool/?topicID=\"topic_3572\"&page=18&format=json\n",
      "Requests finished.\n",
      "Starting making the requests...\n",
      "Requesting: https://bio.tools/api/tool/?operationID=\"operation_1812\"&page=23&format=json\n",
      "Requests finished.\n",
      "Starting making the requests...\n",
      "Requesting: https://bio.tools/api/tool/?operationID=\"operation_3431\"&page=40&format=json\n",
      "Requests finished.\n",
      "Starting making the requests...\n",
      "Requesting: https://bio.tools/api/tool/?operationID=\"operation_3436\"&page=24&format=json\n",
      "Requests finished.\n",
      "Starting making the requests...\n",
      "Requesting: https://bio.tools/api/tool/?operationID=\"operation_0335\"&page=37&format=json\n",
      "Requests finished.\n",
      "Starting making the requests...\n",
      "Requesting: https://bio.tools/api/tool/?operationID=\"operation_0224\"&page=75&format=json\n",
      "Requests finished.\n",
      "Starting making the requests...\n",
      "Requesting: https://bio.tools/api/tool/?operationID=\"operation_3907\"&page=2&format=json\n",
      "Requests finished.\n",
      "Starting making the requests...\n",
      "Requesting: https://bio.tools/api/tool/?operationID=\"operation_0336\"&page=2&format=json\n",
      "Requests finished.\n"
     ]
    }
   ],
   "source": [
    "ETL_edam_results_general, ETL_edam_results_detailed  = query_for_terms(ETL_edam_terms, True)"
   ]
  },
  {
   "cell_type": "markdown",
   "metadata": {},
   "source": [
    "We save the result of each term in a separated file inside the `outputs/ETL` directory using the function `save_results`."
   ]
  },
  {
   "cell_type": "code",
   "execution_count": 10,
   "metadata": {},
   "outputs": [],
   "source": [
    "path_output_ETL = \"outputs/ETL\"\n",
    "Path(path_output_ETL).mkdir(parents=True, exist_ok=True)\n",
    "save_results(ETL_edam_results_general, terms_label_ETL, path_output_ETL)"
   ]
  },
  {
   "cell_type": "markdown",
   "metadata": {},
   "source": [
    "#### Step 2.2: free text queries"
   ]
  },
  {
   "cell_type": "code",
   "execution_count": 11,
   "metadata": {},
   "outputs": [
    {
     "name": "stdout",
     "output_type": "stream",
     "text": [
      "Starting making the requests...\n",
      "Requesting: https://bio.tools/api/tool/?description=\"data store\"&page=2&format=json\n",
      "Requests finished.\n",
      "Starting making the requests...\n",
      "Requesting: https://bio.tools/api/tool/?description=\"data warehous\"&page=1&format=json\n",
      "Requests finished.\n",
      "Starting making the requests...\n",
      "Requesting: https://bio.tools/api/tool/?description=\"data lake\"&page=1&format=json\n",
      "Requests finished.\n",
      "Starting making the requests...\n",
      "Requesting: https://bio.tools/api/tool/?description=\"aggregated data\"&page=1&format=json\n",
      "Requests finished.\n",
      "Starting making the requests...\n",
      "Requesting: https://bio.tools/api/tool/?description=\"ETL\"&page=1&format=json\n",
      "Requests finished.\n",
      "Starting making the requests...\n",
      "Requesting: https://bio.tools/api/tool/?description=\"ingest\"&page=1&format=json\n",
      "Requests finished.\n",
      "Starting making the requests...\n",
      "Requesting: https://bio.tools/api/tool/?description=\"retriev\"&page=22&format=json\n",
      "Requests finished.\n",
      "Starting making the requests...\n",
      "Requesting: https://bio.tools/api/tool/?description=\"Cloud migration\"&page=1&format=json\n",
      "Requests finished.\n",
      "Starting making the requests...\n",
      "Requesting: https://bio.tools/api/tool/?description=\"Database replication\"&page=1&format=json\n",
      "Requests finished.\n",
      "Starting making the requests...\n",
      "Requesting: https://bio.tools/api/tool/?description=\"dataflow\"&page=1&format=json\n",
      "Requests finished.\n",
      "Starting making the requests...\n",
      "Requesting: https://bio.tools/api/tool/?description=\"integrat\"&page=1&format=json\n",
      "Requests finished.\n",
      "Starting making the requests...\n",
      "Requesting: https://bio.tools/api/tool/?description=\"extract\"&page=39&format=json\n",
      "Requests finished.\n",
      "Starting making the requests...\n",
      "Requesting: https://bio.tools/api/tool/?description=\"transform\"&page=12&format=json\n",
      "Requests finished.\n",
      "Starting making the requests...\n",
      "Requesting: https://bio.tools/api/tool/?description=\"data cleaning\"&page=1&format=json\n",
      "Requests finished.\n",
      "Starting making the requests...\n",
      "Requesting: https://bio.tools/api/tool/?description=\"loading\"&page=7&format=json\n",
      "Requests finished.\n",
      "Starting making the requests...\n",
      "Requesting: https://bio.tools/api/tool/?description=\"validat\"&page=1&format=json\n",
      "Requests finished.\n",
      "Starting making the requests...\n",
      "Requesting: https://bio.tools/api/tool/?description=\"query\"&page=40&format=json\n",
      "Requests finished.\n",
      "Starting making the requests...\n",
      "Requesting: https://bio.tools/api/tool/?description=\"provenance\"&page=2&format=json\n",
      "Requests finished.\n",
      "Starting making the requests...\n",
      "Requesting: https://bio.tools/api/tool/?description=\"Database management\"&page=1&format=json\n",
      "Requests finished.\n",
      "Starting making the requests...\n",
      "Requesting: https://bio.tools/api/tool/?description=\"Data quality\"&page=2&format=json\n",
      "Requests finished.\n",
      "Starting making the requests...\n",
      "Requesting: https://bio.tools/api/tool/?description=\"parsing\"&page=8&format=json\n",
      "Requests finished.\n",
      "Starting making the requests...\n",
      "Requesting: https://bio.tools/api/tool/?description=\"deposit\"&page=3&format=json\n",
      "Requests finished.\n",
      "Starting making the requests...\n",
      "Requesting: https://bio.tools/api/tool/?description=\"format\"&page=58&format=json\n",
      "Requests finished.\n",
      "Starting making the requests...\n",
      "Requesting: https://bio.tools/api/tool/?description=\"data unification\"&page=1&format=json\n",
      "Requests finished.\n",
      "Starting making the requests...\n",
      "Requesting: https://bio.tools/api/tool/?description=\"workflow\"&page=29&format=json\n",
      "Requests finished.\n",
      "Starting making the requests...\n",
      "Requesting: https://bio.tools/api/tool/?description=\"transfer\"&page=8&format=json\n",
      "Requests finished.\n"
     ]
    }
   ],
   "source": [
    "ETL_free_results_general, ETL_free_results_detailed  = query_for_terms(free_terms, False)"
   ]
  },
  {
   "cell_type": "markdown",
   "metadata": {
    "pycharm": {
     "name": "#%% md\n"
    }
   },
   "source": [
    "### Analyzing results"
   ]
  },
  {
   "cell_type": "markdown",
   "metadata": {},
   "source": [
    "#### Total number of terms"
   ]
  },
  {
   "cell_type": "code",
   "execution_count": 12,
   "metadata": {},
   "outputs": [
    {
     "data": {
      "text/plain": [
       "14"
      ]
     },
     "execution_count": 12,
     "metadata": {},
     "output_type": "execute_result"
    }
   ],
   "source": [
    "len(ETL_edam_results_general.keys())"
   ]
  },
  {
   "cell_type": "code",
   "execution_count": 13,
   "metadata": {
    "pycharm": {
     "name": "#%%\n"
    }
   },
   "outputs": [
    {
     "data": {
      "text/plain": [
       "26"
      ]
     },
     "execution_count": 13,
     "metadata": {},
     "output_type": "execute_result"
    }
   ],
   "source": [
    "len(ETL_free_results_general.keys())"
   ]
  },
  {
   "cell_type": "markdown",
   "metadata": {
    "pycharm": {
     "name": "#%% md\n"
    }
   },
   "source": [
    "#### Tools per term"
   ]
  },
  {
   "cell_type": "code",
   "execution_count": 14,
   "metadata": {},
   "outputs": [
    {
     "data": {
      "text/plain": [
       "{'operation_0224': 730,\n",
       " 'operation_0335': 349,\n",
       " 'operation_0336': 16,\n",
       " 'operation_1812': 218,\n",
       " 'operation_3431': 384,\n",
       " 'operation_3436': 226,\n",
       " 'operation_3907': 13,\n",
       " 'topic_0219': 146,\n",
       " 'topic_0769': 389,\n",
       " 'topic_3345': 26,\n",
       " 'topic_3366': 63,\n",
       " 'topic_3489': 182,\n",
       " 'topic_3571': 18,\n",
       " 'topic_3572': 173}"
      ]
     },
     "execution_count": 14,
     "metadata": {},
     "output_type": "execute_result"
    }
   ],
   "source": [
    "count_tools_per_term(ETL_edam_results_general)"
   ]
  },
  {
   "cell_type": "code",
   "execution_count": 15,
   "metadata": {
    "pycharm": {
     "name": "#%%\n"
    }
   },
   "outputs": [
    {
     "data": {
      "text/plain": [
       "{'Cloud migration': 0,\n",
       " 'Data quality': 15,\n",
       " 'Database management': 8,\n",
       " 'Database replication': 0,\n",
       " 'ETL': 2,\n",
       " 'aggregated data': 3,\n",
       " 'data cleaning': 8,\n",
       " 'data lake': 1,\n",
       " 'data store': 16,\n",
       " 'data unification': 0,\n",
       " 'data warehous': 0,\n",
       " 'dataflow': 0,\n",
       " 'deposit': 30,\n",
       " 'extract': 365,\n",
       " 'format': 563,\n",
       " 'ingest': 2,\n",
       " 'integrat': 1,\n",
       " 'loading': 65,\n",
       " 'parsing': 73,\n",
       " 'provenance': 16,\n",
       " 'query': 381,\n",
       " 'retriev': 211,\n",
       " 'transfer': 68,\n",
       " 'transform': 113,\n",
       " 'validat': 0,\n",
       " 'workflow': 274}"
      ]
     },
     "execution_count": 15,
     "metadata": {},
     "output_type": "execute_result"
    }
   ],
   "source": [
    "count_tools_per_term(ETL_free_results_general)"
   ]
  },
  {
   "cell_type": "markdown",
   "metadata": {
    "pycharm": {
     "name": "#%% md\n"
    }
   },
   "source": [
    "#### Lists of tool names per term\n",
    "This is handy for validation"
   ]
  },
  {
   "cell_type": "code",
   "execution_count": 16,
   "metadata": {},
   "outputs": [],
   "source": [
    "tools_per_term_ETL = tools_per_term(ETL_edam_results_general)\n",
    "tools_per_term_ETL = {terms_label_ETL[term]:tools_per_term_ETL[term] for term in tools_per_term_ETL.keys()}"
   ]
  },
  {
   "cell_type": "code",
   "execution_count": 17,
   "metadata": {
    "pycharm": {
     "name": "#%%\n"
    }
   },
   "outputs": [],
   "source": [
    "tools_per_term_free_ETL = tools_per_term(ETL_free_results_general)\n",
    "tools_per_term_free_ETL = {term:tools_per_term_free_ETL[term] for term in tools_per_term_free_ETL.keys()}"
   ]
  },
  {
   "cell_type": "markdown",
   "metadata": {},
   "source": [
    "We save the list of tools for each term in separated txt files."
   ]
  },
  {
   "cell_type": "code",
   "execution_count": 18,
   "metadata": {
    "pycharm": {
     "name": "#%%\n"
    }
   },
   "outputs": [],
   "source": [
    "save_lists_tools(tools_per_term_ETL, path_output_ETL, True)"
   ]
  },
  {
   "cell_type": "code",
   "execution_count": 19,
   "metadata": {},
   "outputs": [],
   "source": [
    "save_lists_tools(tools_per_term_free_ETL, path_output_ETL, False)"
   ]
  },
  {
   "cell_type": "markdown",
   "metadata": {},
   "source": [
    "#### Merged tools lists\n",
    "All tools discovered merged in a single set"
   ]
  },
  {
   "cell_type": "code",
   "execution_count": 20,
   "metadata": {},
   "outputs": [
    {
     "data": {
      "text/plain": [
       "{'alzgps',\n",
       " 'wossparam',\n",
       " 'localmove',\n",
       " 'psi4',\n",
       " 'pdinfobuilder',\n",
       " 'fetchprodom ws',\n",
       " 'sting',\n",
       " 'lncrnator',\n",
       " 'quality assessment',\n",
       " 'splots',\n",
       " 'hlassign 2.0',\n",
       " 'bids apps',\n",
       " 'prn',\n",
       " 'msd file reader',\n",
       " 'sprite',\n",
       " 'hgvbase',\n",
       " 'rdgidb',\n",
       " 'query_win',\n",
       " 'visinets',\n",
       " 'jacks',\n",
       " 'hic-dc',\n",
       " 'v-pipe',\n",
       " 'seq2hla',\n",
       " 'scribl',\n",
       " 'bambino',\n",
       " 'utrdb',\n",
       " 'fhir',\n",
       " 'oryzabase',\n",
       " 'shinyfmbn',\n",
       " 'interactiontransformer',\n",
       " 'xmipp',\n",
       " 'proteomatic',\n",
       " 'flureassort',\n",
       " 'hiannotator',\n",
       " 'ptrbc',\n",
       " 'argonaut',\n",
       " 'genclip',\n",
       " 'jmzreader',\n",
       " 'seqxrefget',\n",
       " 'cyp11b1',\n",
       " 'pgxlod',\n",
       " 'cramtools',\n",
       " 'agilequalityfilter',\n",
       " 'the gem (genome multi-tool) library (gem mapper)',\n",
       " 'coremine medical',\n",
       " 'pedl',\n",
       " 'asap-sml',\n",
       " 'discovery environment',\n",
       " 'polyq',\n",
       " 'ophid',\n",
       " 'ricopili',\n",
       " 'grape database',\n",
       " 'fconverter',\n",
       " 'molprobity_3d',\n",
       " 'abcmodeller',\n",
       " 'sigreannot-mart',\n",
       " 'phosphositeanalyzer',\n",
       " 'flowtrans',\n",
       " 'genepalette',\n",
       " 'minmotif miner',\n",
       " 'kindock',\n",
       " 'peryton',\n",
       " 'chemdataextractor',\n",
       " 'mpies',\n",
       " 'anticlust',\n",
       " 'jvarkit ',\n",
       " 'michip',\n",
       " 'bionev',\n",
       " 'proaffimuseq',\n",
       " 'proteins api',\n",
       " 'preopdb',\n",
       " 'phasepro',\n",
       " 'dep',\n",
       " 'chemsar',\n",
       " 'libmgf',\n",
       " 'plantpepdb',\n",
       " 'rmassbank',\n",
       " 'organisms',\n",
       " 'hapzipper',\n",
       " 'phisdetector',\n",
       " 'bispark',\n",
       " 'gad',\n",
       " 'annot',\n",
       " 'mapperanalyzer',\n",
       " 'biojs-io-blast',\n",
       " 'aidd',\n",
       " 'datastorr',\n",
       " 'tibanna',\n",
       " 'strand ngs',\n",
       " 'pybedgraph',\n",
       " 'pwst',\n",
       " 'sciapps',\n",
       " 'imiss',\n",
       " 'flexbar',\n",
       " 'stem cell discovery engine (scde)',\n",
       " 'diseasecard',\n",
       " 'pirate',\n",
       " 'lashis',\n",
       " 'xenmine',\n",
       " 'amtdb',\n",
       " 'imagej (nih)',\n",
       " 'drams',\n",
       " 'most+',\n",
       " 'pride converter',\n",
       " 'nrprof',\n",
       " 'fqseqname',\n",
       " 'gsuite hyperbrowser',\n",
       " 'el_pssm-rt',\n",
       " 'mgx',\n",
       " 'dose',\n",
       " 'bazam',\n",
       " 'tersect',\n",
       " 'sitex',\n",
       " 'plier',\n",
       " 'tximport',\n",
       " 'canevolve',\n",
       " 'diana-mirgen',\n",
       " 'keggtranslator',\n",
       " 'pipe-t',\n",
       " 'psrna',\n",
       " 'snps',\n",
       " 'open phacts',\n",
       " 'comptox chemistry dashboard',\n",
       " 'genomenet',\n",
       " 'metabolic',\n",
       " 'gdportal',\n",
       " 'pubchem bioassay service',\n",
       " 'quality threshold clustering molecular dynamics',\n",
       " 'spatio-temporal',\n",
       " 'coordinatestosequence',\n",
       " 'predus',\n",
       " 'doc2hpo',\n",
       " 'swisstargetprediction',\n",
       " 'mirtop',\n",
       " 'dbcan2',\n",
       " 'epigraph',\n",
       " 'aging mouse brain',\n",
       " 'ferret',\n",
       " 'lm-glycomeatlas',\n",
       " 'panvizgenerator',\n",
       " 'the protein data bank (pdb)',\n",
       " 'phylogenetics_at_jst',\n",
       " 'biolabeler',\n",
       " 'bigwig_to_bedgraph',\n",
       " 'gconvert',\n",
       " 'rna editing database (redidb)',\n",
       " 'rloom',\n",
       " 'protemot',\n",
       " 'diversityimageinspector',\n",
       " 'hops_tk',\n",
       " 'sff workbench',\n",
       " 'msaccess',\n",
       " 'rouge',\n",
       " 'bisque',\n",
       " 'unigene gene-oriented nucleotide sequence clusters',\n",
       " 'batmat',\n",
       " 'entrez',\n",
       " 'a5-miseq',\n",
       " 'variationget',\n",
       " 'openphacts-vis-compoundinfo',\n",
       " 'prettyplot',\n",
       " 'sparqlgraph',\n",
       " 'pyrice',\n",
       " 'ena sequence search',\n",
       " 'mrs',\n",
       " 'ensembl query-based biclustering',\n",
       " 'deepcleave',\n",
       " 'culture collection of algae and protozoa (ccap)',\n",
       " 'libr mocd',\n",
       " 'multperf',\n",
       " 'gtdb',\n",
       " 'poplddecay',\n",
       " 'askomics',\n",
       " 'sampler',\n",
       " 'adenosiland',\n",
       " 'chlamdb',\n",
       " 'varfish',\n",
       " 'gametogenesis and reproductive tissue expression',\n",
       " 'mermaid',\n",
       " 'mascot2xml',\n",
       " 'pipelinedog',\n",
       " 'mirspring',\n",
       " 'sbmllint',\n",
       " 'prokaryote rna sequence analysis workflow',\n",
       " 'ploc_bal-meuk',\n",
       " 'bacant',\n",
       " 'legumemine',\n",
       " 'fragger',\n",
       " 'md-lovis',\n",
       " 'hypercldb',\n",
       " 'damidseq_pipeline',\n",
       " 'queryor',\n",
       " 'fqcleaner',\n",
       " 'circfunbase',\n",
       " 'oncoyeasti',\n",
       " 'q-hiu',\n",
       " 'misfinder',\n",
       " 'rbiopaxparser',\n",
       " 'pharmomics',\n",
       " 'qsar',\n",
       " 'dbgap2x',\n",
       " 'snapr',\n",
       " 'cs2structure',\n",
       " 'lucy',\n",
       " 'bamm-sc',\n",
       " 'darc site',\n",
       " 'the human protein atlas',\n",
       " 'lava',\n",
       " 'easyfrap',\n",
       " 'sentieon dnaseq',\n",
       " 'ithanet',\n",
       " 'seattlesnps variation discovery resource',\n",
       " 'g-graph',\n",
       " 'varan',\n",
       " 'syfpeithi',\n",
       " 'tera',\n",
       " 'yeastmine',\n",
       " 'gviz',\n",
       " 'readqpcr',\n",
       " 'biocontext',\n",
       " 'pmat',\n",
       " 'pertinint',\n",
       " 'pymeshsim',\n",
       " 'driversub',\n",
       " 'indigo',\n",
       " 'metgem',\n",
       " 'customprodb',\n",
       " 'spharm-pdm',\n",
       " 'seek',\n",
       " 'calchas',\n",
       " 'mglex',\n",
       " 'bwtool 1.0 gamma',\n",
       " 'saucie',\n",
       " 'holovir',\n",
       " 'contedb',\n",
       " 'the seed genome comparison environment',\n",
       " 'roary',\n",
       " 'precise',\n",
       " 'void editor',\n",
       " 'dpvweb database of plant viruses',\n",
       " 'ms-data-core-api',\n",
       " 'clima 2',\n",
       " 'bisr-rnaseq',\n",
       " 'myo-reg',\n",
       " 'meta-pipe',\n",
       " 'bioactive conformational ensemble',\n",
       " 'get-it',\n",
       " 'sva',\n",
       " 'homologous series detection',\n",
       " 'proticdb',\n",
       " 'grape',\n",
       " 'pindel2vcf',\n",
       " 'gmrepo',\n",
       " 'gpcr-pendb',\n",
       " 'metandem',\n",
       " 'extractcentralregions',\n",
       " 'genepattern notebook',\n",
       " 'hpaanalyze',\n",
       " 'gdtools_apply',\n",
       " 'listannotation',\n",
       " 'refseqget',\n",
       " 'synbiohub',\n",
       " 'mapoptics',\n",
       " 'rdmp',\n",
       " 'qgis',\n",
       " 'mips mouse functional genome database (mfungd)',\n",
       " 'protein model portal',\n",
       " 'gem-net',\n",
       " 'pileup2cov',\n",
       " 'uniparc',\n",
       " 'entret',\n",
       " 'amphoranet',\n",
       " 'oligocalc',\n",
       " 'geneva',\n",
       " 'netmatch',\n",
       " 'smpdb',\n",
       " 'isomir_find',\n",
       " 'arbitrator',\n",
       " '3cdb',\n",
       " 'mygene',\n",
       " 'pedig',\n",
       " 'chemical checker',\n",
       " 'megante',\n",
       " 'pcosbase',\n",
       " 'r.sambada',\n",
       " 'agonotes',\n",
       " 'pdb-blast',\n",
       " 'resid database of protein modifications',\n",
       " 'pepatac',\n",
       " 'aneuvis',\n",
       " 'hierfit',\n",
       " 'digestiflow',\n",
       " 'mtdnaprofiler',\n",
       " 'a5',\n",
       " 'phyloskeleton',\n",
       " 'pisa-tree',\n",
       " 'alfie',\n",
       " 'starank',\n",
       " 'cellbase',\n",
       " 'livebench',\n",
       " 'crup',\n",
       " 'plantpis',\n",
       " 'convert',\n",
       " 'amelie',\n",
       " 'smallanimalmrghifu',\n",
       " 'pint',\n",
       " 'pyvisa',\n",
       " 'rasflow',\n",
       " 'european hepatitis c virus database (euhcvdb)',\n",
       " 'biopartsdb',\n",
       " 'xplatcom (cross platform commander)',\n",
       " 'bat detective',\n",
       " 'pepxml2excel',\n",
       " 'rsat peak-motifs',\n",
       " 'gazevisual-lib',\n",
       " 'cargo',\n",
       " 'rnarobo',\n",
       " 'cometa',\n",
       " 'hfv',\n",
       " 'dampd',\n",
       " 'matrix2png',\n",
       " 'ebi patent sequence database',\n",
       " 'delayedarray',\n",
       " 'snp2sim',\n",
       " 'plasmidhawk',\n",
       " 'docker4seq',\n",
       " 'predictivenetworks',\n",
       " 'seqhound',\n",
       " 'bagging-svm',\n",
       " 'gqspsim',\n",
       " 'multiplierz',\n",
       " 'scan.upc',\n",
       " 'biodataome',\n",
       " 'ngs-qc generator',\n",
       " 'mycelyso',\n",
       " 'genomicus-tunicates',\n",
       " 'depicter',\n",
       " 'pixie',\n",
       " 'lst',\n",
       " 'cryoem ontology',\n",
       " 'frogs_biom_to_stdbiom',\n",
       " 'fabia',\n",
       " 'sv-callers',\n",
       " 'annotationhub',\n",
       " 'trans-nanosim',\n",
       " 'aradeepopsis',\n",
       " 'togostanza',\n",
       " 'supertarget',\n",
       " 'netview',\n",
       " 'mircomp',\n",
       " 'igdd',\n",
       " 'crispr explorer',\n",
       " 'fangorn forest (f2)',\n",
       " 'mmass',\n",
       " 'emdatabank.org',\n",
       " 'beadnet',\n",
       " 'neuroelectro',\n",
       " 'hepamine',\n",
       " 'cellbaser',\n",
       " 'deepcircode',\n",
       " 'disnor',\n",
       " 'bio-cigar',\n",
       " 'omnipath',\n",
       " 'natalieq',\n",
       " 'drugcomb',\n",
       " 'lotus',\n",
       " 'matrixdb',\n",
       " 'unite rdna',\n",
       " 'oncoscore',\n",
       " 'boiler',\n",
       " 'nmf-ri',\n",
       " 'seq2ref',\n",
       " 'imaaagine',\n",
       " 'pda',\n",
       " 'osml',\n",
       " 'genbank_to_gene',\n",
       " 'vfdb',\n",
       " 'libcsam',\n",
       " 'alternative splicing prediction database (aspicdb)',\n",
       " 'online sbml validator',\n",
       " 'cyp21',\n",
       " 'civicpy',\n",
       " 'collect_mgf',\n",
       " 'provision',\n",
       " 'hmmfetch (genouest)',\n",
       " 'fastscop',\n",
       " 'pathflowai',\n",
       " 'fastq_groomer_parallel',\n",
       " 'gazepath',\n",
       " 'vargenius',\n",
       " 'fmm',\n",
       " 'biosimulators',\n",
       " 'molloc',\n",
       " 'gdtools_validate',\n",
       " 'pecora',\n",
       " 'eegnet',\n",
       " 'hrman',\n",
       " 'beclear',\n",
       " 'sequence maneuverer',\n",
       " 'hit',\n",
       " 'supercyp',\n",
       " 'neurocs',\n",
       " 'prap',\n",
       " 'solexaqa',\n",
       " 'granvil',\n",
       " 'panaroo',\n",
       " 'flowworkspace',\n",
       " 'tpot',\n",
       " 'comw',\n",
       " 'uropa',\n",
       " 'epivizr',\n",
       " 'recode',\n",
       " 'biomoby',\n",
       " 'fishalyser',\n",
       " 'wossoutput',\n",
       " 'linnorm',\n",
       " 'celltracer',\n",
       " 'reqon',\n",
       " 'readat',\n",
       " 'idna6ma-rice',\n",
       " 'abc-gwas',\n",
       " 'hermes',\n",
       " 'qcanvas',\n",
       " 'immunodeficiency mutation databases (idbases)',\n",
       " 'wang-xiaoheng',\n",
       " 'baalchip',\n",
       " 'ritan',\n",
       " 'quasr',\n",
       " 'gaev',\n",
       " 'adpribodb',\n",
       " 'mlst-db',\n",
       " 'transcription factor prediction database (dbd)',\n",
       " 'corbi',\n",
       " 'fasthmm',\n",
       " 'croco',\n",
       " 'ecid',\n",
       " 'bellerophon',\n",
       " 'pedcut',\n",
       " 'same-clustering',\n",
       " 'minexpert',\n",
       " 'glycomedb',\n",
       " 'exploreasl',\n",
       " 'ia-lab',\n",
       " 'h4concur',\n",
       " 'phylogenize',\n",
       " 'eventepi',\n",
       " 'bart',\n",
       " 'gwidd',\n",
       " 'hippie',\n",
       " 'scale',\n",
       " 'haste',\n",
       " 'annotationforge',\n",
       " 'proteomill',\n",
       " 'pydish',\n",
       " 'mimic-cxr',\n",
       " 'hybridcheck',\n",
       " 'bioexcel building blocks (biobb)',\n",
       " 'xsult',\n",
       " 'eurisco',\n",
       " 'lnkg2lmlnk',\n",
       " 'locustmine',\n",
       " 'agilepairedendreadscombiner',\n",
       " 'argot2',\n",
       " 'tableannotator',\n",
       " '3v',\n",
       " 'sceptre',\n",
       " 'dbbqs',\n",
       " 'mlda',\n",
       " 'blastgraph',\n",
       " 'normal',\n",
       " 'singlecellnet',\n",
       " 'vcpa',\n",
       " 'casnp',\n",
       " 'sci-hub',\n",
       " 'maxic-q',\n",
       " 'matchbox',\n",
       " 'toppcluster',\n",
       " 'pdbusqlextractor',\n",
       " 'ares-gt',\n",
       " 'kddn',\n",
       " 'genbankr',\n",
       " 'gelbank',\n",
       " 'maftools',\n",
       " 'biostrings',\n",
       " 'gridsolvate',\n",
       " 'escdb',\n",
       " 'workflowr',\n",
       " 'genome-sampler',\n",
       " 're-annotator',\n",
       " 'msviz',\n",
       " 'nmrml converter',\n",
       " 'raw2mzdb',\n",
       " 'maker-p',\n",
       " 'ceas',\n",
       " 'metabolic pathway prediction',\n",
       " 'isoform',\n",
       " 'hamap_sparql',\n",
       " 'rnall',\n",
       " 'getorf',\n",
       " 'mite digger',\n",
       " 'cistopic',\n",
       " 'coderet',\n",
       " 'arlequin',\n",
       " 'molpov',\n",
       " 'abasy atlas',\n",
       " 'codcopy',\n",
       " 'ilincs',\n",
       " 'panoply',\n",
       " 'gisa',\n",
       " 'biocyc knowledge library',\n",
       " 'drug2gene',\n",
       " 'snr',\n",
       " 'sipros',\n",
       " '1000genomes vcf2ped',\n",
       " 'geoboost2',\n",
       " 'phenogmm',\n",
       " 'pluto',\n",
       " 'biopython',\n",
       " 'guildify',\n",
       " 'bioseq-analysis 2.0',\n",
       " 'zincpharmer',\n",
       " 'geoboundaries',\n",
       " 'transformer-cnn',\n",
       " 'nucgen',\n",
       " 'etriks',\n",
       " 'biojs-vis-pmccitation',\n",
       " 'adverse drug event presentation and tracking (adept)',\n",
       " 'hicres',\n",
       " 'pyms',\n",
       " 'page-net',\n",
       " 'beaddatapackr',\n",
       " 'dsrc',\n",
       " 'genomicsdb',\n",
       " 'dextmp',\n",
       " 'sumrep',\n",
       " 'avia',\n",
       " 'chipper',\n",
       " 'piqed',\n",
       " 'hicbricks',\n",
       " 'aupa',\n",
       " 'microbial advanced database organisation (micado)',\n",
       " 'kbase',\n",
       " 'autocoev',\n",
       " 'datab.io',\n",
       " 'mdpbiome',\n",
       " 'elmmatcher',\n",
       " 'repic',\n",
       " 'desubs',\n",
       " 'tuberculist',\n",
       " 'autotune',\n",
       " 'bipa',\n",
       " 'graphclust2',\n",
       " 'psygenet2r',\n",
       " 'gcocoa',\n",
       " 'pcfamily',\n",
       " 'quickgo',\n",
       " 'taxa',\n",
       " 'autosequin',\n",
       " 'compendiumdb',\n",
       " 'rqc',\n",
       " 'clinvar',\n",
       " 'gpcr-ca',\n",
       " 'primirtss',\n",
       " 'rna helicase database',\n",
       " 'bermuda',\n",
       " 'subphospred',\n",
       " 'snpator',\n",
       " 'showalign',\n",
       " 'dbest database of est sequences',\n",
       " 'lab7',\n",
       " 'targetedretrieval',\n",
       " 'diana-microt v5.0',\n",
       " 'servertell',\n",
       " 'vtools',\n",
       " 'vespucci',\n",
       " 'snovault',\n",
       " 'germ-line v genes',\n",
       " 'findbase',\n",
       " 'tvtb',\n",
       " 'episo',\n",
       " 'moat',\n",
       " 'comparative genometrics cg database',\n",
       " 'marshal',\n",
       " 'paratome',\n",
       " 'peanutmine',\n",
       " 'chemagg',\n",
       " 'miamexpress',\n",
       " 'agplus',\n",
       " 'surfcut',\n",
       " 'ratt',\n",
       " 'lambda',\n",
       " 'genelab',\n",
       " 'gatk',\n",
       " 'pypreclin',\n",
       " 'virbin',\n",
       " 'pdb2cle',\n",
       " 'easeq',\n",
       " 'protag',\n",
       " 'xvector',\n",
       " 'nanostringqcpro',\n",
       " 'lea',\n",
       " 'pmbd',\n",
       " 'netcssp',\n",
       " 'hamap-scan',\n",
       " 'kgem',\n",
       " 'molgenis',\n",
       " 'absolute concentration robustness explorer (acre)',\n",
       " 'predicted prokaryotic regulatory proteins (p2rp)',\n",
       " 'vase',\n",
       " 'ppnid',\n",
       " 'fair',\n",
       " 'multislide',\n",
       " 'cgidla',\n",
       " 'bovinemine',\n",
       " 'xtractor',\n",
       " 'post assembly genome improvement toolkit',\n",
       " 'tilling',\n",
       " 'metab',\n",
       " 'pdb-tools web',\n",
       " 'meqa',\n",
       " 'solid2fastq',\n",
       " 'dtclab',\n",
       " 'memtype-2l',\n",
       " 'sra',\n",
       " 'genomicfiles',\n",
       " 'zifit',\n",
       " 'hive',\n",
       " 'spliceaid',\n",
       " 'genehunter',\n",
       " 'mergeomics',\n",
       " 'acdtrace',\n",
       " 'pga',\n",
       " 'ce-mc',\n",
       " 'sarek',\n",
       " 'biocarian',\n",
       " 'biologicalnetworks',\n",
       " 'pharmmapper',\n",
       " 'meshr',\n",
       " 'phyloregion',\n",
       " 'fatcat',\n",
       " 'aber-owl',\n",
       " 'genbank nucleotide sequence database',\n",
       " 'experimenthub',\n",
       " 'pycurv',\n",
       " 'tbi',\n",
       " 'pangaea',\n",
       " 'flowdiv',\n",
       " 'myexperiment',\n",
       " 'butler',\n",
       " 'fox insight',\n",
       " 'm2lite',\n",
       " 'wigwams',\n",
       " 'aastretch',\n",
       " 'nibr 2d-page',\n",
       " 'sapp',\n",
       " 'mascp gator',\n",
       " 'msdb',\n",
       " 'protsav',\n",
       " 'pivr',\n",
       " 'slinky',\n",
       " 'rana-seq',\n",
       " 'grip',\n",
       " 'cumulus',\n",
       " 'metaphors',\n",
       " 'masqot-gui',\n",
       " 'gppf',\n",
       " 'cancerclass',\n",
       " 'biojs-io-fasta',\n",
       " 'swepep',\n",
       " 'miams',\n",
       " 'simphy',\n",
       " 'monetfamily',\n",
       " 'pydca',\n",
       " 'dna baser',\n",
       " 'geonode-tools4msp',\n",
       " 'procleave',\n",
       " 'adapter removal',\n",
       " 'genfam',\n",
       " 'immunopharmacology',\n",
       " 'genex_ontology',\n",
       " 'kobra',\n",
       " 'raedb',\n",
       " 'hurdle',\n",
       " 'showfeat',\n",
       " 'affypipe',\n",
       " 'dnemo',\n",
       " 'lfqc',\n",
       " 'hla-emma',\n",
       " 'kipper',\n",
       " 'mpss',\n",
       " 'chebi ws',\n",
       " 'fastaextract',\n",
       " 'formatomatic',\n",
       " 'pepvis',\n",
       " 'selectbesthit',\n",
       " 'salad',\n",
       " 'fretbursts',\n",
       " 'pepsweetener',\n",
       " 'pygenometracks',\n",
       " 'orphanet',\n",
       " 'prodigy',\n",
       " 'gapfinisher',\n",
       " 'nospace',\n",
       " 'shutu',\n",
       " 'wpd',\n",
       " 'pazar',\n",
       " 'spdi',\n",
       " 'magendb',\n",
       " 'wgcna',\n",
       " 'miodin',\n",
       " 'prevalence tool',\n",
       " 'metaarray',\n",
       " 'aggrescan3d',\n",
       " 'compss',\n",
       " 'malini',\n",
       " 'genetic revision',\n",
       " 'super',\n",
       " 'pedagog',\n",
       " 'fungenes',\n",
       " 'mmdb_mouse',\n",
       " 'pgg snv',\n",
       " 'cather',\n",
       " 'das-tmfilter',\n",
       " 'elixir elearning platform',\n",
       " 'psicquic view',\n",
       " 'hora',\n",
       " 'pemer',\n",
       " 'opa1',\n",
       " 'v-xtractor',\n",
       " 'codon usage database',\n",
       " 'maizesnpdb',\n",
       " 'gpsno',\n",
       " 'awcluster',\n",
       " 'viper lc-ms',\n",
       " 'victree',\n",
       " 'european virus archive',\n",
       " 'res2net',\n",
       " 'monosaccharide database',\n",
       " 'avian immunome db',\n",
       " 'irna-m2g',\n",
       " 'biomart central',\n",
       " 'qcewas',\n",
       " 'bamhash',\n",
       " 'psaweb',\n",
       " 'protrack',\n",
       " 'annotationdbi',\n",
       " 'e3miner',\n",
       " 'aceparser',\n",
       " 'ometa',\n",
       " 'dragonfly',\n",
       " 'riso',\n",
       " 'kb-rank',\n",
       " 'peroxisomedb',\n",
       " 'genus biomolecules',\n",
       " 'mircat',\n",
       " 'verifybamid',\n",
       " 'tbl2knowngene',\n",
       " 'virus genotyping tools',\n",
       " 'qtqda',\n",
       " 'iro-psekgcc',\n",
       " 'pathwaycommons sparql endpoint',\n",
       " 'mulims-mcompas',\n",
       " 'genomizer',\n",
       " 'sctype',\n",
       " 'baca',\n",
       " 'velvet',\n",
       " 'clima',\n",
       " 'cellfishing.jl',\n",
       " 'nembase4',\n",
       " 'gonuts',\n",
       " 'oases',\n",
       " 'alias',\n",
       " 'transcup',\n",
       " 'mitozoa',\n",
       " 'arts',\n",
       " 'reactome',\n",
       " 'dmeas',\n",
       " 'soggi',\n",
       " 'scipion web tools',\n",
       " 'beadarray',\n",
       " 'tcs',\n",
       " 'uniprot.ws',\n",
       " 'yersinia',\n",
       " 'sider',\n",
       " 'tmatch',\n",
       " 'dat2mgf',\n",
       " 'biotextquest+',\n",
       " 'mass-up',\n",
       " 'data information system (daisy)',\n",
       " 'sbml2latex',\n",
       " 'glassesviewer',\n",
       " 'toff',\n",
       " 'abs',\n",
       " 'gt-pro',\n",
       " 'newt-omics',\n",
       " 'vader',\n",
       " 'messa',\n",
       " 'avatree',\n",
       " 'picard_reordersam',\n",
       " 'phospho3d',\n",
       " 'snm',\n",
       " 'gwasrapidd',\n",
       " 'aries',\n",
       " 'dreamtools',\n",
       " 'virusbanker',\n",
       " 'irods',\n",
       " 'sam2tsv',\n",
       " 'tasbe flow analytics',\n",
       " 'imgt structuralquery',\n",
       " 'macpet',\n",
       " 'cafe variome',\n",
       " 'online-chem',\n",
       " 'thermorawfileparser',\n",
       " 'europhenome',\n",
       " 'pm4ngs',\n",
       " 'epithelial modelling platform',\n",
       " 'pytfm',\n",
       " 'mass spec studio',\n",
       " 'acdpretty',\n",
       " 'bubble gum',\n",
       " 'rnainteract',\n",
       " 'geneattribution',\n",
       " 'acdvalid',\n",
       " 'lobster',\n",
       " 'vesiclepedia',\n",
       " 'peptimapper',\n",
       " 'bam2fastq',\n",
       " 'msmstests',\n",
       " 'bip',\n",
       " 'gdtools_gd2vcf',\n",
       " 'xps',\n",
       " 'biojava',\n",
       " 'divergence',\n",
       " 'molden',\n",
       " 'pacsy',\n",
       " 'meta-iavp',\n",
       " 'europe pmc',\n",
       " 'pyfaidx',\n",
       " 'bugsnet',\n",
       " 'psicquic',\n",
       " 'charprotdb',\n",
       " 'microarray retriever',\n",
       " 'qgs',\n",
       " 'sciluigi',\n",
       " 'scmeth',\n",
       " 'mixcr',\n",
       " 'nanotiler',\n",
       " 'alphatracker',\n",
       " 'redcap',\n",
       " 'ngseasy',\n",
       " 'fragfit',\n",
       " 'mpblast',\n",
       " 'ndexr',\n",
       " 'beespace navigator',\n",
       " 'gigwa',\n",
       " 'affyio',\n",
       " 'dasmiweb',\n",
       " 'paperbot',\n",
       " 'spnconverter',\n",
       " 'panomicon',\n",
       " 'priori-t',\n",
       " 'embl2checklists',\n",
       " 'mzid',\n",
       " 'presa2i',\n",
       " 'flowand',\n",
       " 'expression atlas',\n",
       " 'motif-x',\n",
       " 'plant microrna database (pmrd)',\n",
       " 'vhldb',\n",
       " 'plasmodium genome resources (plasmodb)',\n",
       " 'rotl',\n",
       " 'retrorules',\n",
       " 'bpipe',\n",
       " 'cryfa',\n",
       " 'ibis',\n",
       " 'intergr8',\n",
       " 'autorelacs',\n",
       " 'qbioimages',\n",
       " 'extract',\n",
       " 'metabolic disassembler',\n",
       " 'ippi-esml',\n",
       " 'genotypeeval',\n",
       " 'odae',\n",
       " 'mascotdatfile',\n",
       " 'biojs-vis-wigexplorer',\n",
       " 'waveseqr',\n",
       " 'prosat+',\n",
       " 'scale4c',\n",
       " 'phobos',\n",
       " 'econvrbp',\n",
       " 'x2h',\n",
       " 'kinetoplastid genome resources (tritrypdb)',\n",
       " 'pathema',\n",
       " 'itsonedb',\n",
       " 'bgee',\n",
       " 'enmix',\n",
       " 'biorepository portal toolkit',\n",
       " 'lnetwork',\n",
       " 'piling',\n",
       " 'ledpred',\n",
       " 'lxtoo',\n",
       " 'og',\n",
       " 'hydrosight',\n",
       " 'romop',\n",
       " 'aresite',\n",
       " 'gta',\n",
       " 'unfinnigan',\n",
       " 'pharos',\n",
       " 'peritumoral regions',\n",
       " 'epimir',\n",
       " 'berex',\n",
       " 'blocks www server',\n",
       " 'fasta (ebi)',\n",
       " 'phred',\n",
       " 'adenita',\n",
       " 'kissde',\n",
       " 'cpmcglm',\n",
       " 'apollo genome annotation and curation tool',\n",
       " 'stanford microarray database (smd)',\n",
       " 'rtca',\n",
       " 'gbol',\n",
       " 'geneseqtofamily',\n",
       " 'the hymenoptera genome database (hgd)',\n",
       " 'qq-snv',\n",
       " 'neurochat',\n",
       " 'sirah',\n",
       " 'sincell',\n",
       " 'intenz',\n",
       " '3d-partner',\n",
       " 'bcm search launcher sequence utilities',\n",
       " 'system biology platform',\n",
       " 'pronetview-ccrcc',\n",
       " 'rawtools',\n",
       " 'a2a',\n",
       " 'anmj-morph',\n",
       " 'mrbump',\n",
       " 'samirix',\n",
       " 'genepy3d',\n",
       " 'impcdata',\n",
       " 'smudgeplots',\n",
       " 'mirortho',\n",
       " 'tigrfams  protein family database',\n",
       " 'phen2gene',\n",
       " 'backtranseq (ebi)',\n",
       " 'tripal mapviewer',\n",
       " 'togowsddbjgibvservice',\n",
       " 'genecards',\n",
       " 'coseq',\n",
       " 'genemania cytoscape plugin',\n",
       " 'xipp',\n",
       " 'harp',\n",
       " 'nbis-meta',\n",
       " 'termine',\n",
       " 'biobb mutations workflow',\n",
       " 'hammlet',\n",
       " 'cytof workflow',\n",
       " 'cytomegalovirus database (cmvdb)',\n",
       " 'extractalign',\n",
       " 'indexcov',\n",
       " 'grass',\n",
       " 'argminer',\n",
       " 'eosc pipeline-reproducibility',\n",
       " 'biostudies',\n",
       " 'allen brain atlas',\n",
       " 'metadegalaxy',\n",
       " 'wiff2dta',\n",
       " 'braker1',\n",
       " 'predictprotein open',\n",
       " 'cdap',\n",
       " 'lcmix',\n",
       " 'deepblue epigenomic data server',\n",
       " 'interelementgff',\n",
       " 'arrayxpath',\n",
       " 'picnic',\n",
       " 'prodoc',\n",
       " 'blastr',\n",
       " 'pathway extraction',\n",
       " 'cellhts2',\n",
       " 'btod',\n",
       " 'beetl',\n",
       " 'genenames.org',\n",
       " 'whichdb',\n",
       " 'vadr',\n",
       " 'pbsword',\n",
       " 'qmsat',\n",
       " 'gdhc',\n",
       " 'abi2link',\n",
       " 'uorf-tools',\n",
       " 'becas',\n",
       " 'microkit',\n",
       " 'gtdt',\n",
       " 'regionalhapmapextractor',\n",
       " 'hic-hiker',\n",
       " 'grid map',\n",
       " 'tooldog',\n",
       " 'treegibbssampler',\n",
       " 'bcftools',\n",
       " 'reganalyst',\n",
       " 'ihop ws',\n",
       " 'pgs catalog',\n",
       " ...}"
      ]
     },
     "execution_count": 20,
     "metadata": {},
     "output_type": "execute_result"
    }
   ],
   "source": [
    "all_ETL_tools = merge_tools_lists([ETL_edam_results_general, ETL_free_results_general])\n",
    "all_ETL_tools"
   ]
  },
  {
   "cell_type": "code",
   "execution_count": 21,
   "metadata": {},
   "outputs": [
    {
     "data": {
      "text/plain": [
       "3787"
      ]
     },
     "execution_count": 21,
     "metadata": {},
     "output_type": "execute_result"
    }
   ],
   "source": [
    "len(all_ETL_tools)"
   ]
  },
  {
   "cell_type": "markdown",
   "metadata": {},
   "source": [
    "### ETL related annotations count. EDAM queries"
   ]
  },
  {
   "cell_type": "code",
   "execution_count": 22,
   "metadata": {},
   "outputs": [
    {
     "name": "stdout",
     "output_type": "stream",
     "text": [
      "                 tool  ETL annotations count\n",
      "631               pga                      5\n",
      "1893             repo                      4\n",
      "2827         jmztab-m                      4\n",
      "1173   ncbi resources                      4\n",
      "2406         martview                      4\n",
      "...               ...                    ...\n",
      "2519           imageo                      0\n",
      "925             sirah                      0\n",
      "2517             acep                      0\n",
      "2516  et report maker                      0\n",
      "3786              rnf                      0\n",
      "\n",
      "[3787 rows x 2 columns]\n"
     ]
    }
   ],
   "source": [
    "matches_tools = {}\n",
    "for tool in list(all_ETL_tools):\n",
    "    matches = 0\n",
    "    for l in tools_per_term_ETL.values():\n",
    "        if tool in list(l):\n",
    "            matches += 1\n",
    "    matches_tools[tool] = matches\n",
    "\n",
    "ETL_annot_count_df = pd.DataFrame(list(matches_tools.items()), columns= ['tool','ETL annotations count']).sort_values('ETL annotations count', ascending=False)\n",
    "print(ETL_annot_count_df)"
   ]
  },
  {
   "cell_type": "code",
   "execution_count": 23,
   "metadata": {
    "pycharm": {
     "name": "#%%\n"
    }
   },
   "outputs": [
    {
     "data": {
      "image/png": "[encoded data removed]",
      "text/plain": [
       "<Figure size 432x288 with 1 Axes>"
      ]
     },
     "metadata": {},
     "output_type": "display_data"
    }
   ],
   "source": [
    "plt.hist(ETL_annot_count_df['ETL annotations count'],alpha=0.5)\n",
    "plt.xlim([1, 7])\n",
    "plt.ylim([0, 130])\n",
    "plt.title('ETL related terms each tool ')\n",
    "plt.xlabel('Number of ETL terms')\n",
    "plt.ylabel('Number of discovered tools')\n",
    "plt.show()"
   ]
  },
  {
   "cell_type": "markdown",
   "metadata": {
    "pycharm": {
     "name": "#%% md\n"
    }
   },
   "source": [
    "### ETL related annotations count. Free text queries"
   ]
  },
  {
   "cell_type": "code",
   "execution_count": 24,
   "metadata": {
    "pycharm": {
     "name": "#%%\n"
    }
   },
   "outputs": [
    {
     "name": "stdout",
     "output_type": "stream",
     "text": [
      "                                       tool  ETL annotations count\n",
      "2444                                clobnet                      4\n",
      "1320                                 osirix                      4\n",
      "3781                              fairifier                      4\n",
      "1350                             genscalpel                      3\n",
      "1319                          query tabular                      3\n",
      "...                                     ...                    ...\n",
      "2245   riken integrated database of mammals                      0\n",
      "2244  peroxibase peroxidase family database                      0\n",
      "2243                                 epitad                      0\n",
      "2241                               lionessr                      0\n",
      "0                                    alzgps                      0\n",
      "\n",
      "[3787 rows x 2 columns]\n"
     ]
    }
   ],
   "source": [
    "matches_tools = {}\n",
    "for tool in list(all_ETL_tools):\n",
    "    matches = 0\n",
    "    for l in tools_per_term_free_ETL.values():\n",
    "        if tool in list(l):\n",
    "            matches += 1\n",
    "    matches_tools[tool] = matches\n",
    "\n",
    "ETL_annot_count_df = pd.DataFrame(list(matches_tools.items()), columns= ['tool','ETL annotations count']).sort_values('ETL annotations count', ascending=False)\n",
    "print(ETL_annot_count_df)"
   ]
  },
  {
   "cell_type": "code",
   "execution_count": 25,
   "metadata": {},
   "outputs": [
    {
     "data": {
      "image/png": "[encoded data removed]",
      "text/plain": [
       "<Figure size 432x288 with 1 Axes>"
      ]
     },
     "metadata": {},
     "output_type": "display_data"
    }
   ],
   "source": [
    "plt.hist(ETL_annot_count_df['ETL annotations count'],alpha=0.5)\n",
    "plt.xlim([2, 7])\n",
    "plt.ylim([0, 130])\n",
    "plt.title('ETL related terms each tool ')\n",
    "plt.xlabel('Number of ETL terms')\n",
    "plt.ylabel('Number of discovered tools')\n",
    "plt.show()"
   ]
  },
  {
   "cell_type": "markdown",
   "metadata": {
    "pycharm": {
     "name": "#%% md\n"
    }
   },
   "source": [
    "### ETL related annotations count. Free text and EDAM queries "
   ]
  },
  {
   "cell_type": "code",
   "execution_count": 26,
   "metadata": {
    "pycharm": {
     "name": "#%%\n"
    }
   },
   "outputs": [
    {
     "name": "stdout",
     "output_type": "stream",
     "text": [
      "                                 tool  ETL annotations count\n",
      "2406                         martview                      6\n",
      "3781                        fairifier                      6\n",
      "1319                    query tabular                      6\n",
      "1893                             repo                      5\n",
      "240                  ms-data-core-api                      5\n",
      "...                               ...                    ...\n",
      "1444  interactive tree of life (itol)                      1\n",
      "1445                            chebi                      1\n",
      "1446                          sconify                      1\n",
      "1447                         gemstone                      1\n",
      "3786                              rnf                      1\n",
      "\n",
      "[3787 rows x 2 columns]\n"
     ]
    }
   ],
   "source": [
    "matches_tools = {}\n",
    "for tool in list(all_ETL_tools):\n",
    "    matches = 0\n",
    "    for l in tools_per_term_free_ETL.values():\n",
    "        if tool in list(l):\n",
    "            matches += 1\n",
    "    for l in tools_per_term_ETL.values():\n",
    "        if tool in list(l):\n",
    "            matches += 1\n",
    "    matches_tools[tool] = matches\n",
    "\n",
    "ETL_annot_count_df = pd.DataFrame(list(matches_tools.items()), columns= ['tool','ETL annotations count']).sort_values('ETL annotations count', ascending=False)\n",
    "print(ETL_annot_count_df)"
   ]
  },
  {
   "cell_type": "code",
   "execution_count": 27,
   "metadata": {},
   "outputs": [
    {
     "data": {
      "image/png": "[encoded data removed]",
      "text/plain": [
       "<Figure size 432x288 with 1 Axes>"
      ]
     },
     "metadata": {},
     "output_type": "display_data"
    }
   ],
   "source": [
    "plt.hist(ETL_annot_count_df['ETL annotations count'],alpha=0.5)\n",
    "plt.xlim([2, 7])\n",
    "plt.ylim([0, 50])\n",
    "plt.title('ETL related terms each tool ')\n",
    "plt.xlabel('Number of ETL terms')\n",
    "plt.ylabel('Number of discovered tools')\n",
    "plt.show()"
   ]
  },
  {
   "cell_type": "code",
   "execution_count": 28,
   "metadata": {
    "pycharm": {
     "name": "#%%\n"
    }
   },
   "outputs": [],
   "source": [
    "# Save ETL ranked by count results\n",
    "ETL_annot_count_df.to_csv(\"outputs/20210122_ETL_ranked_by_counts.csv\")"
   ]
  },
  {
   "cell_type": "markdown",
   "metadata": {
    "pycharm": {
     "name": "#%% md\n"
    }
   },
   "source": [
    "### ETL rank tools using keywords and weight"
   ]
  },
  {
   "cell_type": "code",
   "execution_count": 29,
   "metadata": {
    "pycharm": {
     "name": "#%%\n"
    }
   },
   "outputs": [],
   "source": [
    "# load weigh file\n",
    "\n",
    "def read_ranking(filename):\n",
    "    ranked_keywords = pd.read_csv(filename)\n",
    "    \n",
    "    ranked_keywords['weight'] = ranked_keywords[\"weight\"].apply(lambda x: float(x.strip('%'))*0.01)\n",
    "    trim_strings = lambda x: x.strip() if isinstance(x, str) else x\n",
    "    ranked_keywords = ranked_keywords.applymap(trim_strings)\n",
    "    return ranked_keywords\n",
    "\n",
    "def get_description(tool_name):\n",
    "    url_temp ='https://bio.tools/api/tool/?name=\"{name}\"&format=json'\n",
    "    ep = 'https://bio.tools/api/tool/?name=\"'\n",
    "    query = url_temp.format(name=tool_name)\n",
    "    try:\n",
    "        response = requests.get(query)\n",
    "        response.raise_for_status()\n",
    "    except requests.exceptions.HTTPError as err:\n",
    "        print(err)\n",
    "    finally:\n",
    "        response = json.loads(response.text)\n",
    "        descriptions = [l['description'] for l in response['list']]\n",
    "    \n",
    "    return(descriptions)\n",
    "\n",
    "# Todo revise and count weight"
   ]
  },
  {
   "cell_type": "code",
   "execution_count": 30,
   "metadata": {},
   "outputs": [
    {
     "data": {
      "text/plain": [
       "['Tool for data retrieval and data mining that integrates data from Ensembl. Through the web interface it allows you to apply a series of filters to create custom datasets which can be converted to several useful output formats.']"
      ]
     },
     "execution_count": 30,
     "metadata": {},
     "output_type": "execute_result"
    }
   ],
   "source": [
    "get_description('martview')"
   ]
  },
  {
   "cell_type": "code",
   "execution_count": 31,
   "metadata": {},
   "outputs": [
    {
     "name": "stdout",
     "output_type": "stream",
     "text": [
      "                                     keyword  weight\n",
      "0                                 data store     1.0\n",
      "1                              data warehous     1.0\n",
      "2                                  data lake     1.0\n",
      "3                            aggregated data     0.5\n",
      "4                                        ETL     1.0\n",
      "5                                     ingest     0.5\n",
      "6                                    retriev     0.5\n",
      "7                            Cloud migration     0.5\n",
      "8                       Database replication     0.5\n",
      "9                                   dataflow     0.5\n",
      "10                                  integrat     1.0\n",
      "11                                   extract     1.0\n",
      "12                                 transform     1.0\n",
      "13                             data cleaning     1.0\n",
      "14                                   loading     0.5\n",
      "15                                   validat     1.0\n",
      "16                                     query     0.5\n",
      "17                                provenance     0.5\n",
      "18                              Data quality     0.5\n",
      "19                                   deposit     1.0\n",
      "20                                    format     0.3\n",
      "21                          data unification     1.0\n",
      "22                                  workflow     0.5\n",
      "23                                  transfer     0.5\n",
      "24          Data integration and warehousing     0.7\n",
      "25                           data governance     0.7\n",
      "26                 Data identity and mapping     0.7\n",
      "27  Data submission, annotation and curation     0.7\n",
      "28                       Database management     0.7\n",
      "29                                 workflows     0.7\n",
      "30                   Data quality management     0.7\n",
      "31                                   parsing     0.7\n",
      "32                                deposition     0.7\n",
      "33                               aggregation     0.7\n",
      "34                                formatting     0.7\n",
      "35                       Query and retrieval     0.7\n",
      "36                    Information extraction     0.7\n",
      "37                         Format validation     0.7\n"
     ]
    }
   ],
   "source": [
    "ETL_ranked = \"keywords/ETL_EDAM_ranked.csv\"\n",
    "ranked_keys = read_ranking(ETL_ranked)\n",
    "print(ranked_keys)"
   ]
  },
  {
   "cell_type": "code",
   "execution_count": 32,
   "metadata": {},
   "outputs": [
    {
     "name": "stdout",
     "output_type": "stream",
     "text": [
      "\n"
     ]
    }
   ],
   "source": [
    "print()"
   ]
  },
  {
   "cell_type": "code",
   "execution_count": 33,
   "metadata": {},
   "outputs": [],
   "source": [
    "def rank_tools(tool_list,ranked_keywords):\n",
    "    matches_tools = {}\n",
    "    for tool in list(tool_list):\n",
    "        matches = 0\n",
    "        row = []\n",
    "        for l in ranked_keywords['keyword']:\n",
    "            if tool in list(l):\n",
    "                matches += 1\n",
    "        for l in tools_per_term_ETL.values():\n",
    "            if tool in list(l):\n",
    "                matches += 1\n",
    "        matches_tools[tool] = matches\n",
    "        \n",
    "def rank_tools(tool_list,ranked_keywords,tools_per_term_ETL, tools_per_term_free_ETL):\n",
    "    w_matches_tools = []\n",
    "    keywords = ranked_keywords['keyword'].tolist()\n",
    "    print(keywords)\n",
    "    for tool in list(tool_list):\n",
    "        w_matches = 0\n",
    "        matches = 0\n",
    "        for k,l in tools_per_term_free_ETL.items():\n",
    "            if tool in list(l):\n",
    "                if k not in keywords:\n",
    "                    print('%s not in keywords list. Assigning score of 0.7'%k)\n",
    "                    w_matches += 0.7\n",
    "                    matches += 1\n",
    "                else:\n",
    "                    w_matches += ranked_keywords.loc[ranked_keywords['keyword'] == k, 'weight'].item()\n",
    "                    matches += 1\n",
    "                    \n",
    "        for l in tools_per_term_ETL.values():\n",
    "            if tool in list(l):\n",
    "                if k not in keywords:\n",
    "                    print('%s not in keywords list. Assigning score of 0.7'%k)\n",
    "                    w_matches += 0.7\n",
    "                    matches += 1\n",
    "                else:\n",
    "                    w_matches += ranked_keywords.loc[ranked_keywords['keyword'] == k, 'weight'].item()\n",
    "                    matches += 1\n",
    "        \n",
    "        tool_description = get_description(tool)\n",
    "        row = [tool, w_matches, tool_description]\n",
    "        w_matches_tools.append(row)\n",
    "    \n",
    "    weight_ranked=pd.DataFrame(w_matches_tools, columns = ['Tool', 'Score', 'Description']).sort_values('Score', ascending=False)\n",
    "    return(weight_ranked)\n",
    "    "
   ]
  },
  {
   "cell_type": "code",
   "execution_count": 34,
   "metadata": {},
   "outputs": [
    {
     "name": "stdout",
     "output_type": "stream",
     "text": [
      "['data store', 'data warehous', 'data lake', 'aggregated data', 'ETL', 'ingest', 'retriev', 'Cloud migration', 'Database replication', 'dataflow', 'integrat', 'extract', 'transform', 'data cleaning', 'loading', 'validat', 'query', 'provenance', 'Data quality', 'deposit', 'format', 'data unification', 'workflow', 'transfer', 'Data integration and warehousing', 'data governance', 'Data identity and mapping', 'Data submission, annotation and curation', 'Database management', 'workflows', 'Data quality management', 'parsing', 'deposition', 'aggregation', 'formatting', 'Query and retrieval', 'Information extraction', 'Format validation']\n"
     ]
    }
   ],
   "source": [
    "df_ranked_tools = rank_tools(all_ETL_tools,ranked_keys, tools_per_term_ETL, tools_per_term_free_ETL)"
   ]
  },
  {
   "cell_type": "code",
   "execution_count": 35,
   "metadata": {},
   "outputs": [],
   "source": [
    "df_ranked_tools.to_csv('outputs/ETL/ranked_tools.csv', index=False)"
   ]
  },
  {
   "cell_type": "markdown",
   "metadata": {
    "pycharm": {
     "name": "#%% md\n"
    }
   },
   "source": [
    "## Case 2: Ontology tools discovery"
   ]
  },
  {
   "cell_type": "markdown",
   "metadata": {
    "pycharm": {
     "name": "#%% md\n"
    }
   },
   "source": [
    "In this case, the file of zooma results is `ontology_annotation_EDAM_curated_csv.csv`."
   ]
  },
  {
   "cell_type": "markdown",
   "metadata": {
    "pycharm": {
     "name": "#%% md\n"
    }
   },
   "source": [
    "### Step 1: parsing zooma results"
   ]
  },
  {
   "cell_type": "code",
   "execution_count": 36,
   "metadata": {},
   "outputs": [
    {
     "name": "stdout",
     "output_type": "stream",
     "text": [
      "['operation_0226', 'operation_3778', 'topic_0089', 'operation_3280']\n",
      "{'operation_0226': 'Annotation', 'operation_3778': 'Text annotation', 'topic_0089': 'ontology and terminology', 'operation_3280': 'Named-entity and concept recognition'}\n",
      "['Ontology annotation', 'semantic annotation', 'Text mining', 'Entity tagging', 'Entity recognition', 'Query expansion', 'Query expansion', 'Knowledge graph', 'Knowledge graph', 'Module extraction (eg slims)', 'Module extraction (eg slims)', 'Free text mapping', 'NLP']\n"
     ]
    }
   ],
   "source": [
    "terms_file='keywords/ontology_annotation_EDAM_curated.csv'\n",
    "ontology_edam_terms, terms_label_ontology, ontology_free_terms = parse_zooma_results(terms_file)\n",
    "print(ontology_edam_terms)\n",
    "print(terms_label_ontology)\n",
    "print(ontology_free_terms)"
   ]
  },
  {
   "cell_type": "markdown",
   "metadata": {},
   "source": [
    "### Step 2: doing the query. "
   ]
  },
  {
   "cell_type": "markdown",
   "metadata": {},
   "source": [
    "#### Step 2.1: EDAM queries"
   ]
  },
  {
   "cell_type": "code",
   "execution_count": 37,
   "metadata": {},
   "outputs": [
    {
     "name": "stdout",
     "output_type": "stream",
     "text": [
      "Starting making the requests...\n",
      "Requesting: https://bio.tools/api/tool/?operationID=\"operation_0226\"&page=14&format=json\n",
      "Requests finished.\n",
      "Starting making the requests...\n",
      "Requesting: https://bio.tools/api/tool/?operationID=\"operation_3778\"&page=5&format=json\n",
      "Requests finished.\n",
      "Starting making the requests...\n",
      "Requesting: https://bio.tools/api/tool/?topicID=\"topic_0089\"&page=31&format=json\n",
      "Requests finished.\n",
      "Starting making the requests...\n",
      "Requesting: https://bio.tools/api/tool/?operationID=\"operation_3280\"&page=7&format=json\n",
      "Requests finished.\n"
     ]
    }
   ],
   "source": [
    "ontology_results_general, ontology_results_detailed  = query_for_terms(ontology_edam_terms, True)"
   ]
  },
  {
   "cell_type": "code",
   "execution_count": 38,
   "metadata": {},
   "outputs": [],
   "source": [
    "path_output_ontology = \"outputs/ontology\"\n",
    "Path(path_output_ontology).mkdir(parents=True, exist_ok=True)\n",
    "save_results(ontology_results_general, terms_label_ontology, path_output_ontology)"
   ]
  },
  {
   "cell_type": "markdown",
   "metadata": {},
   "source": [
    "#### Step 2.2: free text queries"
   ]
  },
  {
   "cell_type": "code",
   "execution_count": 39,
   "metadata": {},
   "outputs": [
    {
     "name": "stdout",
     "output_type": "stream",
     "text": [
      "Starting making the requests...\n",
      "Requesting: https://bio.tools/api/tool/?description=\"Ontology annotation\"&page=1&format=json\n",
      "Requests finished.\n",
      "Starting making the requests...\n",
      "Requesting: https://bio.tools/api/tool/?description=\"semantic annotation\"&page=1&format=json\n",
      "Requests finished.\n",
      "Starting making the requests...\n",
      "Requesting: https://bio.tools/api/tool/?description=\"Text mining\"&page=6&format=json\n",
      "Requests finished.\n",
      "Starting making the requests...\n",
      "Requesting: https://bio.tools/api/tool/?description=\"Entity tagging\"&page=1&format=json\n",
      "Requests finished.\n",
      "Starting making the requests...\n",
      "Requesting: https://bio.tools/api/tool/?description=\"Entity recognition\"&page=1&format=json\n",
      "Requests finished.\n",
      "Starting making the requests...\n",
      "Requesting: https://bio.tools/api/tool/?description=\"Query expansion\"&page=1&format=json\n",
      "Requests finished.\n",
      "Starting making the requests...\n",
      "Requesting: https://bio.tools/api/tool/?description=\"Knowledge graph\"&page=1&format=json\n",
      "Requests finished.\n",
      "Starting making the requests...\n",
      "Requesting: https://bio.tools/api/tool/?description=\"Module extraction (eg slims)\"&page=1&format=json\n",
      "Requests finished.\n",
      "Starting making the requests...\n",
      "Requesting: https://bio.tools/api/tool/?description=\"Free text mapping\"&page=1&format=json\n",
      "Requests finished.\n",
      "Starting making the requests...\n",
      "Requesting: https://bio.tools/api/tool/?description=\"NLP\"&page=1&format=json\n",
      "Requests finished.\n"
     ]
    }
   ],
   "source": [
    "ontology_free_results_general, ontology_free_results_detailed  = query_for_terms(ontology_free_terms, False)"
   ]
  },
  {
   "cell_type": "markdown",
   "metadata": {},
   "source": [
    "#### Total number of terms"
   ]
  },
  {
   "cell_type": "code",
   "execution_count": 40,
   "metadata": {
    "pycharm": {
     "name": "#%%\n"
    }
   },
   "outputs": [
    {
     "data": {
      "text/plain": [
       "4"
      ]
     },
     "execution_count": 40,
     "metadata": {},
     "output_type": "execute_result"
    }
   ],
   "source": [
    "len(ontology_results_general.keys())"
   ]
  },
  {
   "cell_type": "code",
   "execution_count": 41,
   "metadata": {},
   "outputs": [
    {
     "data": {
      "text/plain": [
       "10"
      ]
     },
     "execution_count": 41,
     "metadata": {},
     "output_type": "execute_result"
    }
   ],
   "source": [
    "len(ontology_free_results_general.keys())"
   ]
  },
  {
   "cell_type": "markdown",
   "metadata": {},
   "source": [
    "#### Tools per term"
   ]
  },
  {
   "cell_type": "code",
   "execution_count": 42,
   "metadata": {
    "pycharm": {
     "name": "#%%\n"
    }
   },
   "outputs": [
    {
     "data": {
      "text/plain": [
       "{'operation_0226': 131,\n",
       " 'operation_3280': 63,\n",
       " 'operation_3778': 47,\n",
       " 'topic_0089': 283}"
      ]
     },
     "execution_count": 42,
     "metadata": {},
     "output_type": "execute_result"
    }
   ],
   "source": [
    "count_tools_per_term(ontology_results_general)"
   ]
  },
  {
   "cell_type": "code",
   "execution_count": 43,
   "metadata": {},
   "outputs": [
    {
     "data": {
      "text/plain": [
       "{'Entity recognition': 9,\n",
       " 'Entity tagging': 1,\n",
       " 'Free text mapping': 0,\n",
       " 'Knowledge graph': 10,\n",
       " 'Module extraction (eg slims)': 0,\n",
       " 'NLP': 7,\n",
       " 'Ontology annotation': 10,\n",
       " 'Query expansion': 0,\n",
       " 'Text mining': 51,\n",
       " 'semantic annotation': 7}"
      ]
     },
     "execution_count": 43,
     "metadata": {},
     "output_type": "execute_result"
    }
   ],
   "source": [
    "count_tools_per_term(ontology_free_results_general)"
   ]
  },
  {
   "cell_type": "markdown",
   "metadata": {},
   "source": [
    "#### Lists of tool names per term\n",
    "This is handy for validation"
   ]
  },
  {
   "cell_type": "code",
   "execution_count": 44,
   "metadata": {
    "pycharm": {
     "name": "#%%\n"
    }
   },
   "outputs": [],
   "source": [
    "tools_per_term_ontology = tools_per_term(ontology_results_general)\n",
    "tools_per_term_ontology = {terms_label_ontology[term]:tools_per_term_ontology[term] for term in tools_per_term_ontology.keys()}"
   ]
  },
  {
   "cell_type": "code",
   "execution_count": 45,
   "metadata": {},
   "outputs": [],
   "source": [
    "tools_per_term_free_ontology = tools_per_term(ontology_free_results_general)\n",
    "tools_per_term_free_ontology = {term:tools_per_term_free_ontology[term] for term in tools_per_term_free_ontology.keys()}"
   ]
  },
  {
   "cell_type": "code",
   "execution_count": 46,
   "metadata": {
    "pycharm": {
     "name": "#%%\n"
    }
   },
   "outputs": [],
   "source": [
    "save_lists_tools(tools_per_term_ontology, path_output_ontology, True)"
   ]
  },
  {
   "cell_type": "code",
   "execution_count": 47,
   "metadata": {},
   "outputs": [],
   "source": [
    "save_lists_tools(tools_per_term_free_ontology, path_output_ontology, False)"
   ]
  },
  {
   "cell_type": "markdown",
   "metadata": {},
   "source": [
    "#### Merged tools lists\n",
    "All tools discovered merged in a single set"
   ]
  },
  {
   "cell_type": "code",
   "execution_count": 48,
   "metadata": {
    "pycharm": {
     "name": "#%%\n"
    }
   },
   "outputs": [
    {
     "data": {
      "text/plain": [
       "{'a4preproc',\n",
       " 'aber-owl',\n",
       " 'acela',\n",
       " 'aceparser',\n",
       " 'ads',\n",
       " 'adverse drug event presentation and tracking (adept)',\n",
       " 'agrigo',\n",
       " 'ahtpdb',\n",
       " 'aiso',\n",
       " 'ajia',\n",
       " 'allenricher',\n",
       " 'alliance genome resources',\n",
       " 'aloha',\n",
       " 'alvisir',\n",
       " 'amigo 2',\n",
       " 'amtdb',\n",
       " 'anabel',\n",
       " 'anddigest',\n",
       " 'annot',\n",
       " 'annotationfilter',\n",
       " 'ape',\n",
       " 'arachnoserver',\n",
       " 'argminer',\n",
       " 'aristo',\n",
       " 'arpir',\n",
       " 'asa-ps',\n",
       " 'aspgd',\n",
       " 'association viewer',\n",
       " 'avian immunome db',\n",
       " 'bagel2',\n",
       " 'becas',\n",
       " 'beere',\n",
       " 'bel commons',\n",
       " 'bel2abm',\n",
       " 'belief',\n",
       " 'bgeedb',\n",
       " 'bibliome variant database',\n",
       " 'bio.tools',\n",
       " 'bio2bel',\n",
       " 'biobert',\n",
       " 'biocaddie',\n",
       " 'biocatalogue',\n",
       " 'biocontext',\n",
       " 'biocpkgtools',\n",
       " 'bioecs',\n",
       " 'bioexcel genome sequence quality control workflow',\n",
       " 'biogateway',\n",
       " 'biojs-vis-gprofiler',\n",
       " 'biolabeler',\n",
       " 'biolit',\n",
       " 'biomoby',\n",
       " 'biomodels database',\n",
       " 'bionda - biomarker database',\n",
       " 'bioner',\n",
       " 'bionet-mining',\n",
       " 'bioportal',\n",
       " 'bior',\n",
       " 'bittersweet',\n",
       " 'biwalklda',\n",
       " 'blood exposome database',\n",
       " 'bo-lstm',\n",
       " 'bsqa',\n",
       " 'bubastis',\n",
       " 'bugbuilder',\n",
       " 'cadgene',\n",
       " 'cagefightr',\n",
       " 'calchas',\n",
       " 'candida genome database cgd',\n",
       " 'cargo',\n",
       " 'carmo',\n",
       " 'causalbuilder',\n",
       " 'caw',\n",
       " 'cbo',\n",
       " 'cddapp',\n",
       " 'cdfread',\n",
       " 'cedar ondemand',\n",
       " 'cellbaser',\n",
       " 'ceu mass mediator',\n",
       " 'charprotdb',\n",
       " 'chat',\n",
       " 'chebi ws',\n",
       " 'chemdistiller',\n",
       " 'chimera',\n",
       " 'chipinfo',\n",
       " 'ciona robusta anatomy and development ontology',\n",
       " 'circular gene ontology (cirgo)',\n",
       " 'citexplore literature database',\n",
       " 'civicmine',\n",
       " 'classyfire',\n",
       " 'clinical metadata ontology (cmdo)',\n",
       " 'clinical-sentences',\n",
       " 'clinotator',\n",
       " 'cocitestats',\n",
       " 'coeus',\n",
       " 'cogs',\n",
       " 'collabonet',\n",
       " 'combigor',\n",
       " 'compartments',\n",
       " 'compendium of protein lysine acetylation (cpla)',\n",
       " 'copheism',\n",
       " 'copub',\n",
       " 'covid-19 knetminer',\n",
       " 'cpgavas',\n",
       " 'craft',\n",
       " 'crispy',\n",
       " 'crowdgo',\n",
       " 'cui2vec',\n",
       " 'dasir',\n",
       " 'david bioinformatics resources',\n",
       " 'dbcan',\n",
       " 'dbcrid',\n",
       " 'dcgor',\n",
       " 'ddbj',\n",
       " 'deca',\n",
       " 'decres',\n",
       " 'deeppheno',\n",
       " 'deeppvp',\n",
       " 'deepred',\n",
       " 'defume',\n",
       " 'delayedarray',\n",
       " 'descseq',\n",
       " 'diana-lncbase',\n",
       " 'diana-microt v5.0',\n",
       " 'diana-mirgen',\n",
       " 'dictybase update 2011',\n",
       " 'dictyexpress',\n",
       " 'digchem',\n",
       " 'digsee',\n",
       " 'dingo',\n",
       " 'diseases',\n",
       " 'disqover',\n",
       " 'diversity workbench',\n",
       " 'diversityreferences',\n",
       " 'diversityscientificterms',\n",
       " 'dnatraffic',\n",
       " 'do',\n",
       " 'doc2hpo',\n",
       " 'dquest',\n",
       " 'drar-cpi',\n",
       " 'drawglycan-snfg',\n",
       " 'drosophila dnase i footprint database',\n",
       " 'drug targets',\n",
       " 'e3miner',\n",
       " 'easy-hla',\n",
       " 'ebi search',\n",
       " 'edamdef',\n",
       " 'edamhasinput',\n",
       " 'edamhasoutput',\n",
       " 'edamisformat',\n",
       " 'edamisid',\n",
       " 'edamname',\n",
       " 'elmmo',\n",
       " 'emma2 ws',\n",
       " 'enrichment map cytoscape plugin',\n",
       " 'enrichplot',\n",
       " 'est2assembly',\n",
       " 'estscan',\n",
       " 'etm-db',\n",
       " 'europhenome',\n",
       " 'eventepi',\n",
       " 'evex',\n",
       " 'evntextrc',\n",
       " 'extract',\n",
       " 'facta plus',\n",
       " 'faf-drugs',\n",
       " 'fair',\n",
       " 'fairdatapoint',\n",
       " 'famplex',\n",
       " 'fasto',\n",
       " 'feelnc',\n",
       " 'ffpred',\n",
       " 'fhir',\n",
       " 'flowrepositoryr',\n",
       " 'flyode',\n",
       " 'flytf',\n",
       " 'fontcell',\n",
       " 'funcexplorer',\n",
       " 'funcprop',\n",
       " 'funmappone',\n",
       " 'fusionanalyser',\n",
       " 'g-sesame',\n",
       " 'g:profiler',\n",
       " 'gbol',\n",
       " 'gcocoa',\n",
       " 'gdsarray',\n",
       " 'gedex',\n",
       " 'gemtractor',\n",
       " 'gene ontology',\n",
       " 'gene ontology (go)',\n",
       " 'gene ontology browser',\n",
       " 'genease',\n",
       " 'generic go term finder',\n",
       " 'generic go term mapper',\n",
       " 'geneview',\n",
       " 'genex_ontology',\n",
       " 'genfam',\n",
       " 'geniatagger',\n",
       " 'genodraw',\n",
       " 'genome trax',\n",
       " 'genome3d',\n",
       " 'genomicscores',\n",
       " 'genosurf',\n",
       " 'genvisage',\n",
       " 'geseq',\n",
       " 'gfbio',\n",
       " 'gimli',\n",
       " 'globalfungi',\n",
       " 'glycoglyph',\n",
       " 'go enrichment analysis tool',\n",
       " 'go-elite',\n",
       " 'go-figure',\n",
       " 'go2msig',\n",
       " 'go2vec',\n",
       " 'goa',\n",
       " 'goa_gubbar',\n",
       " 'goblet',\n",
       " 'gocats',\n",
       " 'godef',\n",
       " 'godoc',\n",
       " 'goeast',\n",
       " 'gofuncr',\n",
       " 'gogene',\n",
       " 'gomap',\n",
       " 'gomapman',\n",
       " 'gomcl',\n",
       " 'gominer ws',\n",
       " 'goname',\n",
       " 'gonet',\n",
       " 'gonuts',\n",
       " 'gopubmed',\n",
       " 'gorilla',\n",
       " 'gosemsim',\n",
       " 'gosim',\n",
       " 'goslin',\n",
       " 'gostag',\n",
       " 'gostats',\n",
       " 'gotools',\n",
       " 'gotrapper',\n",
       " 'gpannotate',\n",
       " 'gpsdb',\n",
       " 'grasp',\n",
       " 'gsan',\n",
       " 'gsso',\n",
       " 'gsvec',\n",
       " 'gtrd',\n",
       " 'guide',\n",
       " 'gwastools',\n",
       " 'hare',\n",
       " 'hatk',\n",
       " 'hgt-id',\n",
       " 'hgv_david',\n",
       " 'hgv_linktogprofile',\n",
       " 'hig2vec',\n",
       " 'higdb',\n",
       " 'hio',\n",
       " 'hipathia',\n",
       " 'histone coder',\n",
       " 'hlungdb',\n",
       " 'hmtvar',\n",
       " 'holovir',\n",
       " 'hpo2go',\n",
       " 'hubmed',\n",
       " 'human gene nomenclature database (hgnc)',\n",
       " 'hyper',\n",
       " 'iambee',\n",
       " 'ictnet2',\n",
       " 'ideal',\n",
       " 'ietd',\n",
       " 'ihop ws',\n",
       " 'ikap_cells',\n",
       " 'impres',\n",
       " 'inaturalist',\n",
       " 'ipd project',\n",
       " 'iscan',\n",
       " 'isotopident',\n",
       " 'itextmine',\n",
       " 'ivariantguide',\n",
       " 'j-express',\n",
       " 'jmztab-m',\n",
       " 'jprogo',\n",
       " 'karma',\n",
       " 'kbase',\n",
       " 'kccg patient archive',\n",
       " 'kegganim',\n",
       " 'keggprofile',\n",
       " 'kinetoplastid genome resources (tritrypdb)',\n",
       " 'koffi',\n",
       " 'l2l',\n",
       " 'lailaps-qsm',\n",
       " 'limtox',\n",
       " 'linkphinder',\n",
       " 'lion-web',\n",
       " 'lipid data analyzer (lda)',\n",
       " 'lipid mini-on',\n",
       " 'list ontologies',\n",
       " 'litinspector',\n",
       " 'litminer',\n",
       " 'lobstahs',\n",
       " 'locdb',\n",
       " 'loinc2hpo',\n",
       " 'lungmap',\n",
       " 'macie',\n",
       " 'magecomet',\n",
       " 'magi',\n",
       " 'mambo',\n",
       " 'mamot',\n",
       " 'markerhub',\n",
       " 'marky',\n",
       " 'matscholar',\n",
       " 'maxent-ppi',\n",
       " 'mbrole',\n",
       " 'mechspy',\n",
       " 'medextractr',\n",
       " 'medical relation extraction',\n",
       " 'melanomamine',\n",
       " 'meshsim',\n",
       " 'mesophotic.org',\n",
       " 'messa',\n",
       " 'metdisease',\n",
       " 'metfamily',\n",
       " 'mg-rast',\n",
       " 'microbe browser',\n",
       " 'microtss',\n",
       " 'mir-prefer',\n",
       " 'mirnatarbase',\n",
       " 'mirtarbas',\n",
       " 'mirtex',\n",
       " 'modex',\n",
       " 'monarch initiative',\n",
       " 'morphdb',\n",
       " 'mouse phenome database',\n",
       " 'mousebook',\n",
       " 'mpagenomics',\n",
       " 'mtgo-sc',\n",
       " 'mucor',\n",
       " 'multiloc2',\n",
       " 'mvgst',\n",
       " 'myminer',\n",
       " 'nadfinder',\n",
       " 'nbdc rdf portal',\n",
       " 'nbrp resources',\n",
       " 'nemine',\n",
       " 'neuropp',\n",
       " 'neuroscience information framework',\n",
       " 'ngly1',\n",
       " 'nlimed',\n",
       " 'nlp ml',\n",
       " 'nlprot',\n",
       " 'nlr-parser',\n",
       " 'nmrml converter',\n",
       " 'noa',\n",
       " 'npact',\n",
       " 'nutrichem',\n",
       " 'odae',\n",
       " 'odg',\n",
       " 'odmltables',\n",
       " 'ols dialog',\n",
       " 'omadb',\n",
       " 'ometa',\n",
       " 'omim explorer',\n",
       " 'onassis',\n",
       " 'onclass',\n",
       " 'onesense',\n",
       " 'ontobrowser',\n",
       " 'ontocat',\n",
       " 'ontocount',\n",
       " 'ontoget',\n",
       " 'ontogetcommon',\n",
       " 'ontogetdown',\n",
       " 'ontogetobsolete',\n",
       " 'ontogetroot',\n",
       " 'ontogetsibs',\n",
       " 'ontogetup',\n",
       " 'ontoisobsolete',\n",
       " 'ontokin',\n",
       " 'ontology lookup service',\n",
       " 'ontoproc',\n",
       " 'ontoquest ws',\n",
       " 'ontoquestmain',\n",
       " 'ontotext',\n",
       " 'openflu',\n",
       " 'orange',\n",
       " 'organism.dplyr',\n",
       " 'organisms',\n",
       " 'pageman',\n",
       " 'pangaea',\n",
       " 'pannotator',\n",
       " 'pannzer',\n",
       " 'pannzer2',\n",
       " 'parameciumdb',\n",
       " 'pavian',\n",
       " 'pcosbase',\n",
       " 'pcpheno',\n",
       " 'pdbj',\n",
       " 'pdzpepint',\n",
       " 'peakanalyzer',\n",
       " 'pedl',\n",
       " 'peregrine',\n",
       " 'pgxmine',\n",
       " 'phaedra',\n",
       " 'phen2gene',\n",
       " 'phenohm',\n",
       " 'phenominer',\n",
       " 'phenoscape',\n",
       " 'phenotator',\n",
       " 'phexpo',\n",
       " 'pint',\n",
       " 'plan2l',\n",
       " 'planet microbe',\n",
       " 'plangexq',\n",
       " 'plant experimental assay ontology (peao)',\n",
       " 'plantcircnet',\n",
       " 'plato plugin for autocomplete on ontologies',\n",
       " 'pmo',\n",
       " 'poeas',\n",
       " 'pogos',\n",
       " 'polysearch2',\n",
       " 'pombase',\n",
       " 'pomelo ii',\n",
       " 'ppr-ssm',\n",
       " 'pptm',\n",
       " 'predictprotein open',\n",
       " 'progenetix',\n",
       " 'proloc-go',\n",
       " 'propheno',\n",
       " 'protein naming utility',\n",
       " 'protfus',\n",
       " 'protmapper',\n",
       " 'pubrecheck',\n",
       " 'pubrunner',\n",
       " 'pubtator',\n",
       " 'pubtator central',\n",
       " 'pure',\n",
       " 'pybravo',\n",
       " 'pyiomica',\n",
       " 'pymeshsim',\n",
       " 'pyradiomics',\n",
       " 'python video annotator',\n",
       " 'qsbio',\n",
       " 'qtl tableminer++(qtm)',\n",
       " 'quickgo',\n",
       " 'quin',\n",
       " 'ramigo',\n",
       " 'rast',\n",
       " 'ratt',\n",
       " 'rbbt',\n",
       " 'rdavidwebservice',\n",
       " 'rdfscape',\n",
       " 'rdrf',\n",
       " 'relna',\n",
       " 'riken integrated database of mammals',\n",
       " 'ril-contour',\n",
       " 'rlims-p',\n",
       " 'rnaindel',\n",
       " 'robokop',\n",
       " 'robokop kg',\n",
       " 'robot',\n",
       " 'rols',\n",
       " 'roma',\n",
       " 'romop',\n",
       " 'rulego',\n",
       " 'samsa2',\n",
       " 'sapp',\n",
       " 'sbpks2',\n",
       " 'scdo',\n",
       " 'sci.ai',\n",
       " 'seaweb',\n",
       " 'secstrannotator',\n",
       " 'semantic body browser',\n",
       " 'semdist',\n",
       " 'seqexpress',\n",
       " 'seqhound',\n",
       " 'sequence similarity maps (ssm)',\n",
       " 'sevenc',\n",
       " 'shinygo',\n",
       " 'simconcept',\n",
       " 'simdef',\n",
       " 'sinopedia',\n",
       " 'skimmr',\n",
       " 'smog',\n",
       " 'snomed ct',\n",
       " 'snpnotes',\n",
       " 'soba: sequence ontology bioinformatics analysis',\n",
       " 'sparql',\n",
       " 'spex2',\n",
       " 'starpdb',\n",
       " 'sts-nlsp',\n",
       " 'superfamily',\n",
       " 'synteny browser',\n",
       " 't-library',\n",
       " 'tableannotator',\n",
       " 'terrestrialmetagenomedb',\n",
       " 'thbp',\n",
       " 'the brenda tissue ontology (bto)',\n",
       " 'the comparative toxicogenomics database (ctd)',\n",
       " 'the comprehensive antibiotic resistance database (card)',\n",
       " 'the protein ontology',\n",
       " 'tissues',\n",
       " 'tm-imc',\n",
       " 'tmvar',\n",
       " 'togogenome',\n",
       " 'tooldog',\n",
       " 'topgo',\n",
       " 'treeio',\n",
       " 'trifle',\n",
       " 'tromer',\n",
       " 'typeinfo',\n",
       " 'ukpmc',\n",
       " 'umlsmapper',\n",
       " 'uniconsig',\n",
       " 'unired',\n",
       " 'varimerge',\n",
       " 'vastdb',\n",
       " 'vio',\n",
       " 'viralzone',\n",
       " 'viseago',\n",
       " 'vist',\n",
       " 'webanno',\n",
       " 'webapollo',\n",
       " 'wego',\n",
       " 'wego2.0',\n",
       " 'workflow4metabolomics',\n",
       " 'xenbase',\n",
       " 'yeast metaboliner',\n",
       " 'yogy',\n",
       " 'zooma'}"
      ]
     },
     "execution_count": 48,
     "metadata": {},
     "output_type": "execute_result"
    }
   ],
   "source": [
    "all_ontology_tools = merge_tools_lists([ontology_results_general,  ontology_free_results_general])\n",
    "all_ontology_tools"
   ]
  },
  {
   "cell_type": "code",
   "execution_count": 49,
   "metadata": {
    "pycharm": {
     "name": "#%%\n"
    }
   },
   "outputs": [
    {
     "data": {
      "text/plain": [
       "526"
      ]
     },
     "execution_count": 49,
     "metadata": {},
     "output_type": "execute_result"
    }
   ],
   "source": [
    "len(all_ontology_tools)"
   ]
  },
  {
   "cell_type": "markdown",
   "metadata": {},
   "source": [
    "### Ontology related annotations count"
   ]
  },
  {
   "cell_type": "code",
   "execution_count": 50,
   "metadata": {
    "pycharm": {
     "name": "#%%\n"
    }
   },
   "outputs": [
    {
     "name": "stdout",
     "output_type": "stream",
     "text": [
      "             tool  ontology annotations count\n",
      "420       ppr-ssm                           3\n",
      "337         acela                           3\n",
      "137         craft                           3\n",
      "114       calchas                           2\n",
      "418         zooma                           2\n",
      "..            ...                         ...\n",
      "83      mirtarbas                           0\n",
      "333       phaedra                           0\n",
      "86     protmapper                           0\n",
      "89         limtox                           0\n",
      "1    biocpkgtools                           0\n",
      "\n",
      "[526 rows x 2 columns]\n"
     ]
    }
   ],
   "source": [
    "matches_tools = {}\n",
    "for tool in list(all_ontology_tools):\n",
    "    matches = 0\n",
    "    for l in tools_per_term_ontology.values():\n",
    "        if tool in list(l):\n",
    "            matches += 1\n",
    "    matches_tools[tool] = matches\n",
    "\n",
    "ontology_annot_count_df = pd.DataFrame(list(matches_tools.items()), columns= ['tool','ontology annotations count']).sort_values('ontology annotations count', ascending=False)\n",
    "print(ontology_annot_count_df)"
   ]
  },
  {
   "cell_type": "code",
   "execution_count": 51,
   "metadata": {
    "pycharm": {
     "name": "#%%\n"
    }
   },
   "outputs": [
    {
     "data": {
      "image/png": "[encoded data removed]",
      "text/plain": [
       "<Figure size 432x288 with 1 Axes>"
      ]
     },
     "metadata": {},
     "output_type": "display_data"
    }
   ],
   "source": [
    "plt.hist(ontology_annot_count_df['ontology annotations count'],alpha=0.5)\n",
    "plt.xlim([2, 4])\n",
    "plt.ylim([0, 50])\n",
    "plt.title('ontology related terms each tool ')\n",
    "plt.xlabel('Number of ontology terms')\n",
    "plt.ylabel('Number of discovered tools')\n",
    "plt.show()"
   ]
  },
  {
   "cell_type": "markdown",
   "metadata": {},
   "source": [
    "plt.hist(ontology_annot_count_df['ontology annotations count'],alpha=0.5)\n",
    "plt.xlim([2, 4])\n",
    "plt.ylim([0, 50])\n",
    "plt.title('ontology related terms each tool ')\n",
    "plt.xlabel('Number of ontology terms')\n",
    "plt.ylabel('Number of discovered tools')\n",
    "plt.show()"
   ]
  },
  {
   "cell_type": "code",
   "execution_count": null,
   "metadata": {},
   "outputs": [],
   "source": []
  },
  {
   "cell_type": "markdown",
   "metadata": {},
   "source": [
    "### Ontology rank tools using keywords and weight"
   ]
  },
  {
   "cell_type": "code",
   "execution_count": 57,
   "metadata": {},
   "outputs": [
    {
     "name": "stdout",
     "output_type": "stream",
     "text": [
      "                keyword  weight\n",
      "0   Ontology annotation    1.00\n",
      "1   semantic annotation    0.80\n",
      "2           Text mining    0.50\n",
      "3        Entity tagging    0.50\n",
      "4    Entity recognition    0.75\n",
      "5       Query expansion    0.75\n",
      "6     Module extraction    0.75\n",
      "7     Free text mapping    1.00\n",
      "8       Text Annotation    1.00\n",
      "9      Ontology mapping    1.00\n",
      "10   Ontology alignment    1.00\n",
      "11         Term mapping    1.00\n",
      "12                  NLP    0.50\n"
     ]
    }
   ],
   "source": [
    "ontology_ranked = \"keywords/ontology_annotation_EDAM_ranked.csv\"\n",
    "ontology_ranked_keys = read_ranking(ontology_ranked)\n",
    "print(ontology_ranked_keys)"
   ]
  },
  {
   "cell_type": "code",
   "execution_count": 58,
   "metadata": {},
   "outputs": [
    {
     "name": "stdout",
     "output_type": "stream",
     "text": [
      "['Ontology annotation', 'semantic annotation', 'Text mining', 'Entity tagging', 'Entity recognition', 'Query expansion', 'Module extraction', 'Free text mapping', 'Text Annotation', 'Ontology mapping', 'Ontology alignment', 'Term mapping', 'NLP']\n",
      "Knowledge graph not in keywords list. Assigning score of 0.7\n",
      "Knowledge graph not in keywords list. Assigning score of 0.7\n",
      "Knowledge graph not in keywords list. Assigning score of 0.7\n",
      "Knowledge graph not in keywords list. Assigning score of 0.7\n",
      "Knowledge graph not in keywords list. Assigning score of 0.7\n",
      "Knowledge graph not in keywords list. Assigning score of 0.7\n",
      "Knowledge graph not in keywords list. Assigning score of 0.7\n",
      "Knowledge graph not in keywords list. Assigning score of 0.7\n",
      "Knowledge graph not in keywords list. Assigning score of 0.7\n",
      "Knowledge graph not in keywords list. Assigning score of 0.7\n"
     ]
    }
   ],
   "source": [
    "df_ranked_ontology_tools = rank_tools(all_ontology_tools,ontology_ranked_keys, tools_per_term_ontology, tools_per_term_free_ontology)"
   ]
  },
  {
   "cell_type": "code",
   "execution_count": null,
   "metadata": {},
   "outputs": [],
   "source": []
  }
 ],
 "metadata": {
  "kernelspec": {
   "display_name": "Python 3",
   "language": "python",
   "name": "python3"
  },
  "language_info": {
   "codemirror_mode": {
    "name": "ipython",
    "version": 3
   },
   "file_extension": ".py",
   "mimetype": "text/x-python",
   "name": "python",
   "nbconvert_exporter": "python",
   "pygments_lexer": "ipython3",
   "version": "3.6.9"
  }
 },
 "nbformat": 4,
 "nbformat_minor": 2
}
