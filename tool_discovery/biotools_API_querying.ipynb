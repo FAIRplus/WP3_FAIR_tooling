{
 "cells": [
  {
   "cell_type": "markdown",
   "metadata": {},
   "source": [
    "# bio.tools querying"
   ]
  },
  {
   "cell_type": "markdown",
   "metadata": {},
   "source": [
    "## Overview"
   ]
  },
  {
   "cell_type": "markdown",
   "metadata": {},
   "source": [
    "## Code"
   ]
  },
  {
   "cell_type": "code",
   "execution_count": 25,
   "metadata": {},
   "outputs": [],
   "source": [
    "import sys\n",
    "import json\n",
    "import requests\n",
    "import argparse\n",
    "import yaml\n",
    "import biotools_parse as bp\n",
    "import pandas as pd\n",
    "\n",
    "# The call to get all bio.tools entries through the api is: https://bio.tools/api/tool/?format=json.\n",
    "# Unfortunately, the response is limited to n tools. To get the whole set, the next pages must be retrieve.\n",
    "# use \"next\" in the response to get succesive entries.\n",
    " \n",
    "base_call = \"https://bio.tools/api/tool/?format=json\"\n",
    "\n",
    "\n",
    "def make_request(URL):\n",
    "    try:\n",
    "        response = requests.get(URL)\n",
    "    except:\n",
    "        print('Could not make the request')\n",
    "        return\n",
    "    else:\n",
    "        response = json.loads(response.text)\n",
    "        return(response)\n",
    "\n",
    "def build_url(next_page, filters):\n",
    "    call_template = \"https://bio.tools/api/tool/?{attributes}{next_page}&format=json\"\n",
    "    if next_page:\n",
    "        next_page = \"&%s\"%next_page\n",
    "    else:\n",
    "        next_page = \"\"\n",
    "    attributes = '&'.join(filters)    \n",
    "    url = call_template.format(next_page=next_page, attributes=attributes)\n",
    "    return(url)\n",
    "\n",
    "\n",
    "def get_all_pages(filters):\n",
    "    res = []\n",
    "    next_page = \"page=1\"\n",
    "    print('Starting making the requests...')\n",
    "    while next_page:\n",
    "        response = make_request(build_url(next_page, filters))\n",
    "        print(\"Requesting: \" + build_url(next_page, filters), end='\\r')\n",
    "        res = res + response[\"list\"]\n",
    "        next_page = response[\"next\"]\n",
    "        if next_page:\n",
    "            next_page = next_page[1:]\n",
    "    print('\\nRequests finished.')\n",
    "    return(res)\n",
    "\n",
    "def save_result(out_path, result):\n",
    "    with open(out_path, 'w') as out:\n",
    "        json.dump(result, out)\n",
    "    print('Result saved as ' + out_path )\n",
    "    \n",
    "\n",
    "colnames_general = ['name', 'description', 'type', 'topic', 'input', 'output']\n",
    "colnames_detailed = [ 'name', 'description', 'version', 'type', 'topic', 'links', 'publication', 'download', 'inst_instr', 'test', 'src', 'os', 'input', 'output', 'dependencies', 'documentation', 'license', 'termsUse', 'contribPolicy', 'authors', 'repository']\n",
    "def results_to_table(result, colnames):\n",
    "    tools = bp.biotoolsToolsGenerator(result).instances\n",
    "    # Load features into table\n",
    "    colnames_features = colnames\n",
    "    df_dict = dict()\n",
    "    for name in colnames_features:\n",
    "        df_dict[name] = []\n",
    "\n",
    "    for tool in tools:\n",
    "        for field in colnames_features:\n",
    "            df_dict[field].append(tool.__dict__.get(field))\n",
    "\n",
    "    df_features = pd.DataFrame.from_dict(df_dict)\n",
    "    return(df_features)\n",
    "\n",
    "\n",
    "def results_to_table_detailed(result):\n",
    "    tools = bp.biotoolsToolsGenerator(result).instances\n",
    "    # Load features into table\n",
    "    colnames_features = [ 'name', 'description', 'version', 'type', 'topic', 'links', 'publication', 'download', 'inst_instr', 'test', 'src', 'os', 'input', 'output', 'dependencies', 'documentation', 'license', 'termsUse', 'contribPolicy', 'authors', 'repository']\n",
    "    df_dict = dict()\n",
    "    for name in colnames_features:\n",
    "        df_dict[name] = []\n",
    "\n",
    "    for tool in tools:\n",
    "        for field in colnames_features:\n",
    "            df_dict[field].append(tool.__dict__.get(field))\n",
    "\n",
    "    df_features = pd.DataFrame.from_dict(df_dict)\n",
    "    return(df_features)\n",
    "\n",
    "\n",
    "def parse_zooma_results(input_file):\n",
    "    with open(input_file, 'r') as inp:\n",
    "        zooma_terms_df = pd.read_csv(input_file)\n",
    "        terms = zooma_terms_df['iri']\n",
    "        terms = [term.split('http://edamontology.org/')[1] for term in terms if type(term) == str]\n",
    "    return(terms)\n",
    "\n",
    "def build_filter(term):\n",
    "    filters_template =  {'topic': 'topicID=\"%s\"', 'format':'dataFormatID=\"%s\"', 'operation':'operationID=\"%s\"', 'data':'dataTypeID=\"%s\"'}\n",
    "    if 'topic' in term:\n",
    "        filters = filters_template['topic']%(term)\n",
    "    elif 'data' in term:\n",
    "        filters = filters_template['data']%(term)\n",
    "    elif 'operation' in term:\n",
    "        filters = filters_template['operation']%(term)\n",
    "    elif 'format' in term:\n",
    "        filters = filters_template['format']%(term)\n",
    "    return(filters)     \n",
    "\n",
    "def query_for_EDAM_terms(terms):\n",
    "    '''\n",
    "    Takes a list of EDAM terms and does a query for each\n",
    "    Return a dictionary of results of the form: {<term>: <dataframe of results>}\n",
    "    '''\n",
    "    results = dict()\n",
    "    results_detailed = dict()\n",
    "    # Iteratre through terms\n",
    "    for term in terms:\n",
    "        # Avoid duplicated queries\n",
    "        if term not in results.keys():\n",
    "            # Building the filters using the EDAM terms\n",
    "            filter_ = [build_filter(term)]\n",
    "            # Do the query\n",
    "            result = get_all_pages(filter_)\n",
    "            # Put result in table\n",
    "            result_df = results_to_table(result, colnames_general)\n",
    "            result_detailed_df = results_to_table(result, colnames_detailed)\n",
    "            # Put results table in dictionary with the results for the other terms\n",
    "            results[term] = result_df\n",
    "            results_detailed[term] = result_detailed_df\n",
    "            return(results, results_detailed)"
   ]
  },
  {
   "cell_type": "markdown",
   "metadata": {},
   "source": [
    "The attributes chosen to filter the query must be passed to the `get_all_pages` function in a list. Each attribute must be a string of the form `name=signalp`. This string will be put as a parameter in the query URL as it is. Please, follow the [bio.tools API reference](https://biotools.readthedocs.io/en/latest/api_reference.html) to construct this parameters successfully."
   ]
  },
  {
   "cell_type": "markdown",
   "metadata": {},
   "source": [
    "### Simple Query Example 1:"
   ]
  },
  {
   "cell_type": "markdown",
   "metadata": {},
   "source": [
    "The following is an example of a query of tools annotted with the EDAM topic \"Sequence composition, complexity and repeats\" and with the word \"game\"  in their description. "
   ]
  },
  {
   "cell_type": "code",
   "execution_count": 3,
   "metadata": {},
   "outputs": [
    {
     "name": "stdout",
     "output_type": "stream",
     "text": [
      "Starting making the requests...\n",
      "Requesting: https://bio.tools/api/tool/?topic=\"Sequence composition, complexity and repeats\"&description=\"game\"&page=1&format=json\n",
      "Requests finished.\n"
     ]
    }
   ],
   "source": [
    "sample_filters = ['topic=\"Sequence composition, complexity and repeats\"', 'description=\"game\"']\n",
    "filters = sample_filters\n",
    "result = get_all_pages(filters)"
   ]
  },
  {
   "cell_type": "code",
   "execution_count": 4,
   "metadata": {},
   "outputs": [
    {
     "name": "stdout",
     "output_type": "stream",
     "text": [
      "[{'elixirCommunity': [], 'collectionID': ['EMBOSS'], 'accessibility': None, 'community': None, 'topic': [{'term': 'Sequence composition, complexity and repeats', 'uri': 'http://edamontology.org/topic_0157'}], 'owner': 'EMBOSS', 'cost': 'Free of charge', 'relation': [], 'download': [{'url': 'http://emboss.open-bio.org/html/adm/ch01s01.html', 'note': None, 'version': None, 'type': 'Source code'}, {'url': 'http://emboss.open-bio.org/html/adm/ch01s01.html', 'note': None, 'version': None, 'type': 'Binaries'}], 'validated': 1, 'publication': [{'doi': '10.1016/S0168-9525(00)02024-2', 'note': None, 'version': None, 'pmid': None, 'type': ['Primary'], 'pmcid': None, 'metadata': {'title': 'EMBOSS: The European Molecular Biology Open Software Suite', 'abstract': '', 'citationCount': 4828, 'authors': [{'name': 'Rice P.'}, {'name': 'Longden L.'}, {'name': 'Bleasby A.'}], 'date': '2000-06-01T00:00:00Z', 'journal': 'Trends in Genetics'}}, {'doi': '10.1017/CBO9781139151399', 'note': None, 'version': None, 'pmid': None, 'type': ['Other'], 'pmcid': None, 'metadata': None}, {'doi': '10.1017/CBO9781139151405', 'note': None, 'version': None, 'pmid': None, 'type': ['Other'], 'pmcid': None, 'metadata': None}], 'homepage_status': 0, 'credit': [{'typeRole': ['Contributor'], 'name': 'EMBOSS Contributors', 'rorid': None, 'url': 'http://emboss.open-bio.org/html/use/pr01s01.html', 'gridid': None, 'note': None, 'fundrefid': None, 'orcidid': None, 'typeEntity': None, 'email': None}, {'typeRole': ['Provider'], 'name': 'EMBL-EBI', 'rorid': None, 'url': None, 'gridid': None, 'note': None, 'fundrefid': None, 'orcidid': None, 'typeEntity': 'Institute', 'email': None}, {'typeRole': ['Contributor'], 'name': 'UK MRC', 'rorid': None, 'url': None, 'gridid': None, 'note': None, 'fundrefid': None, 'orcidid': None, 'typeEntity': 'Funding agency', 'email': None}, {'typeRole': ['Contributor'], 'name': 'Wellcome Trust', 'rorid': None, 'url': None, 'gridid': None, 'note': None, 'fundrefid': None, 'orcidid': None, 'typeEntity': 'Funding agency', 'email': None}, {'typeRole': ['Contributor'], 'name': 'UK BBSRC', 'rorid': None, 'url': None, 'gridid': None, 'note': None, 'fundrefid': None, 'orcidid': None, 'typeEntity': 'Funding agency', 'email': None}, {'typeRole': ['Provider'], 'name': 'EMBOSS', 'rorid': None, 'url': None, 'gridid': None, 'note': None, 'fundrefid': None, 'orcidid': None, 'typeEntity': 'Institute', 'email': None}, {'typeRole': ['Support'], 'name': 'EMBOSS', 'rorid': None, 'url': None, 'gridid': None, 'note': None, 'fundrefid': None, 'orcidid': None, 'typeEntity': None, 'email': 'emboss@emboss.open-bio.org'}, {'typeRole': ['Primary contact'], 'name': None, 'rorid': None, 'url': None, 'gridid': None, 'note': None, 'fundrefid': None, 'orcidid': None, 'typeEntity': 'Person', 'email': 'emboss@emboss.open-bio.org'}, {'typeRole': ['Primary contact'], 'name': None, 'rorid': None, 'url': None, 'gridid': None, 'note': None, 'fundrefid': None, 'orcidid': None, 'typeEntity': 'Person', 'email': 'emboss-bug@emboss.open-bio.org'}], 'biotoolsCURIE': 'biotools:chaos', 'elixirPlatform': [], 'elixirNode': [], 'version': ['r6'], 'elixir_badge': 0, 'homepage': 'http://emboss.open-bio.org/rel/rel6/apps/chaos.html', 'function': [{'note': None, 'input': [{'data': {'term': 'Nucleic acid sequence record', 'uri': 'http://edamontology.org/data_2887'}, 'format': []}], 'operation': [{'term': 'Sequence composition calculation', 'uri': 'http://edamontology.org/operation_0236'}], 'cmd': None, 'output': [{'data': {'term': 'Sequence composition plot', 'uri': 'http://edamontology.org/data_2166'}, 'format': []}]}], 'lastUpdate': '2018-12-10T12:58:52Z', 'otherID': [], 'description': 'Draw a chaos game representation plot for a nucleotide sequence.', 'toolType': ['Command-line tool'], 'editPermission': {'type': 'private', 'authors': []}, 'language': ['C'], 'link': [{'url': 'http://emboss.open-bio.org/html/adm/ch01s01.html', 'note': None, 'type': ['Repository']}], 'biotoolsID': 'chaos', 'additionDate': '2015-11-08T14:40:19Z', 'name': 'chaos', 'license': 'GPL-3.0', 'documentation': [{'url': 'http://emboss.open-bio.org/html/dev/ch01s01.html', 'note': None, 'type': ['Terms of use']}, {'url': 'http://emboss.open-bio.org/html/use/pr02s04.html', 'note': None, 'type': ['Citation instructions']}, {'url': 'http://emboss.open-bio.org/rel/rel6/apps/chaos.html', 'note': None, 'type': ['General']}], 'maturity': 'Mature', 'confidence_flag': None, 'operatingSystem': ['Linux', 'Windows', 'Mac']}]\n"
     ]
    }
   ],
   "source": [
    "print(result)"
   ]
  },
  {
   "cell_type": "markdown",
   "metadata": {},
   "source": [
    "To save the rusult, use the `save_result(out_path, result)` funtion. `out_path` is the path where the `result` will be saved."
   ]
  },
  {
   "cell_type": "code",
   "execution_count": 8,
   "metadata": {},
   "outputs": [
    {
     "name": "stdout",
     "output_type": "stream",
     "text": [
      "Result saved as run_3.json\n"
     ]
    }
   ],
   "source": [
    "save_result('run_3.json', result)"
   ]
  },
  {
   "cell_type": "code",
   "execution_count": 9,
   "metadata": {},
   "outputs": [],
   "source": [
    "df_feaures = results_to_table(result)"
   ]
  },
  {
   "cell_type": "markdown",
   "metadata": {},
   "source": [
    "###  Simple Query Example 2:"
   ]
  },
  {
   "cell_type": "code",
   "execution_count": 10,
   "metadata": {},
   "outputs": [
    {
     "name": "stdout",
     "output_type": "stream",
     "text": [
      "Starting making the requests...\n",
      "Requesting: https://bio.tools/api/tool/?operation=\"Formatting\"&page=39&format=json\n",
      "Requests finished.\n",
      "Number of tools found: 387\n"
     ]
    }
   ],
   "source": [
    "sample_filters = ['operation=\"Formatting\"']\n",
    "filters = sample_filters\n",
    "result = get_all_pages(filters)\n",
    "\n",
    "print(\"Number of tools found: %d\"%len(result))"
   ]
  },
  {
   "cell_type": "markdown",
   "metadata": {},
   "source": [
    "## Discovering tools with EDAM terms mapped with ZOOMA."
   ]
  },
  {
   "cell_type": "markdown",
   "metadata": {},
   "source": [
    "### Step 1: parsing zooma results"
   ]
  },
  {
   "cell_type": "markdown",
   "metadata": {},
   "source": [
    "ZOOMA reslts must be in a csv format.The colunm names, in this order, must be: `keyword`,`iri`,`label` and `confidence`. An example of a valid: \n",
    "\n",
    "|keyword            |iri                                   |label                      |confidence|\n",
    "|-------------------|--------------------------------------|---------------------------|----------|\n",
    "|Ontology annotation|http://edamontology.org/operation_0226|Annotation                 |MEDIUM    |\n",
    "|Ontology annotation|                                      |                           |          |\n",
    "|semantic annotation|                                      |                           |          |\n",
    "|semantic annotation|http://edamontology.org/operation_3778|Text annotation            |MEDIUM    |\n",
    "|Text mining        |http://edamontology.org/topic_0218    |Natural language processing|GOOD      |\n",
    "\n",
    "Raw: \n",
    "\n",
    "```\n",
    "keyword,iri,label,confidence\n",
    "Ontology annotation,http://edamontology.org/operation_0226,Annotation,MEDIUM\n",
    "Ontology annotation,,,\n",
    "semantic annotation,,,\n",
    "semantic annotation,http://edamontology.org/operation_3778,Text annotation,MEDIUM\n",
    "Text mining,http://edamontology.org/topic_0218,Natural language processing,GOOD\n",
    "```\n",
    "\n",
    "The function `parse_zooma_results` parses this csv and returns a list of terms suitable for the querying."
   ]
  },
  {
   "cell_type": "markdown",
   "metadata": {},
   "source": [
    "#### Example:\n",
    "For a mapping of keyword related with ETL against EDAM, we got the ZOOMA results in the path `ontology_annotation_EDAM_curated_csv.csv`."
   ]
  },
  {
   "cell_type": "code",
   "execution_count": 23,
   "metadata": {},
   "outputs": [
    {
     "name": "stdout",
     "output_type": "stream",
     "text": [
      "['operation_0226', 'operation_3778', 'topic_0218', 'topic_3474', 'topic_0218']\n"
     ]
    }
   ],
   "source": [
    "terms_file='ontology_annotation_EDAM_curated_csv.csv'\n",
    "ETL_edam_terms = parse_zooma_results(terms_file)\n",
    "print(ETL_edam_terms)"
   ]
  },
  {
   "cell_type": "markdown",
   "metadata": {},
   "source": [
    "### Step 2: doing the query. "
   ]
  },
  {
   "cell_type": "markdown",
   "metadata": {},
   "source": [
    "The function `query_for_EDAM_terms` does the quering for the previously obtained list of EDAM terms. It resturns two kind of outputs: general and detailed. Each is a dictionary of the form: `{<term>: <dataframe of results>}`"
   ]
  },
  {
   "cell_type": "markdown",
   "metadata": {},
   "source": [
    "#### Example\n",
    "For the previous terms:"
   ]
  },
  {
   "cell_type": "code",
   "execution_count": 20,
   "metadata": {},
   "outputs": [
    {
     "name": "stdout",
     "output_type": "stream",
     "text": [
      "Starting making the requests...\n",
      "Requesting: https://bio.tools/api/tool/?operationID=\"operation_0226\"&page=14&format=json\n",
      "Requests finished.\n"
     ]
    }
   ],
   "source": [
    "ETL_results_general, ETL_results_detailed  = query_for_EDAM_terms(ETL_edam_terms)"
   ]
  },
  {
   "cell_type": "code",
   "execution_count": 21,
   "metadata": {},
   "outputs": [
    {
     "data": {
      "text/plain": [
       "{'operation_0226':                       name                                        description  \\\n",
       " 0                   treeio  Base classes and functions for parsing and exp...   \n",
       " 1    workflow4metabolomics  First fully open-source and collaborative onli...   \n",
       " 2              globalfungi  User interface to data from high-throughput se...   \n",
       " 3                    amtdb  This is the place where you can find an update...   \n",
       " 4            causalbuilder  The causalBuilder is a prototype web applicati...   \n",
       " ..                     ...                                                ...   \n",
       " 140             metdisease  App for Cytoscape, the bioinformatics network ...   \n",
       " 141                   magi  Publicly available web application to explore ...   \n",
       " 142                  npact  Computational and graphical representation too...   \n",
       " 143                   cogs  Collections of Clusters of Orthologous Genes p...   \n",
       " 144                  marky  It is able to annotate biomedical texts using ...   \n",
       " \n",
       "                         type  \\\n",
       " 0                  [Library]   \n",
       " 1    [Bioinformatics portal]   \n",
       " 2          [Database portal]   \n",
       " 3          [Database portal]   \n",
       " 4          [Web application]   \n",
       " ..                       ...   \n",
       " 140    [Desktop application]   \n",
       " 141        [Web application]   \n",
       " 142      [Command-line tool]   \n",
       " 143        [Web application]   \n",
       " 144    [Desktop application]   \n",
       " \n",
       "                                                  topic  \\\n",
       " 0    [{'term': 'Phylogenetics', 'uri': 'http://edam...   \n",
       " 1    [{'term': 'Systems biology', 'uri': 'http://ed...   \n",
       " 2    [{'term': 'Agricultural science', 'uri': 'http...   \n",
       " 3    [{'term': 'Biology', 'uri': 'http://edamontolo...   \n",
       " 4    [{'term': 'Molecular interactions, pathways an...   \n",
       " ..                                                 ...   \n",
       " 140  [{'term': 'Molecular interactions, pathways an...   \n",
       " 141  [{'term': 'Oncology', 'uri': 'http://edamontol...   \n",
       " 142  [{'term': 'DNA', 'uri': 'http://edamontology.o...   \n",
       " 143  [{'term': 'Proteins', 'uri': 'http://edamontol...   \n",
       " 144  [{'term': 'Data submission, annotation and cur...   \n",
       " \n",
       "                                                  input  \\\n",
       " 0                                                   []   \n",
       " 1    [{'data': {'term': 'mass spectrum', 'uri': 'ht...   \n",
       " 2    [{'data': {'term': 'nucleic acid sequence', 'u...   \n",
       " 3    [{'data': {'term': 'nucleic acid sequence', 'u...   \n",
       " 4    [{'data': {'term': 'text', 'uri': 'http://edam...   \n",
       " ..                                                 ...   \n",
       " 140                                                 []   \n",
       " 141                                                 []   \n",
       " 142                                                 []   \n",
       " 143                                                 []   \n",
       " 144                                                 []   \n",
       " \n",
       "                                                 output  \n",
       " 0                                                   []  \n",
       " 1    [{'data': {'term': 'mass spectrum', 'uri': 'ht...  \n",
       " 2    [{'data': {'term': 'nucleic acid sequence', 'u...  \n",
       " 3    [{'data': {'term': 'nucleic acid sequence', 'u...  \n",
       " 4    [{'data': {'term': 'text', 'uri': 'http://edam...  \n",
       " ..                                                 ...  \n",
       " 140                                                 []  \n",
       " 141                                                 []  \n",
       " 142                                                 []  \n",
       " 143                                                 []  \n",
       " 144                                                 []  \n",
       " \n",
       " [145 rows x 6 columns]}"
      ]
     },
     "execution_count": 21,
     "metadata": {},
     "output_type": "execute_result"
    }
   ],
   "source": [
    "ETL_results_general"
   ]
  },
  {
   "cell_type": "code",
   "execution_count": null,
   "metadata": {},
   "outputs": [],
   "source": []
  }
 ],
 "metadata": {
  "kernelspec": {
   "display_name": "Python 3",
   "language": "python",
   "name": "python3"
  },
  "language_info": {
   "codemirror_mode": {
    "name": "ipython",
    "version": 3
   },
   "file_extension": ".py",
   "mimetype": "text/x-python",
   "name": "python",
   "nbconvert_exporter": "python",
   "pygments_lexer": "ipython3",
   "version": "3.6.9"
  }
 },
 "nbformat": 4,
 "nbformat_minor": 2
}
