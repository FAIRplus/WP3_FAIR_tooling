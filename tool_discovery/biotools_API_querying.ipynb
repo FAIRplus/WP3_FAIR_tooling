{
 "cells": [
  {
   "cell_type": "markdown",
   "metadata": {},
   "source": [
    "# bio.tools querying"
   ]
  },
  {
   "cell_type": "markdown",
   "metadata": {},
   "source": [
    "## Overview"
   ]
  },
  {
   "cell_type": "markdown",
   "metadata": {},
   "source": [
    "## Code"
   ]
  },
  {
   "cell_type": "code",
   "execution_count": 14,
   "metadata": {},
   "outputs": [],
   "source": [
    "import sys\n",
    "import json\n",
    "import requests\n",
    "import argparse\n",
    "import yaml\n",
    "import biotools_parse as bp\n",
    "import pandas as pd\n",
    "from pathlib import Path\n",
    "from matplotlib import pyplot as plt\n",
    "\n",
    "\n",
    "# The call to get all bio.tools entries through the api is: https://bio.tools/api/tool/?format=json.\n",
    "# Unfortunately, the response is limited to n tools. To get the whole set, the next pages must be retrieve.\n",
    "# use \"next\" in the response to get succesive entries.\n",
    " \n",
    "base_call = \"https://bio.tools/api/tool/?format=json\"\n",
    "\n",
    "\n",
    "def make_request(URL):\n",
    "    try:\n",
    "        response = requests.get(URL)\n",
    "    except:\n",
    "        print('Could not make the request')\n",
    "        return\n",
    "    else:\n",
    "        response = json.loads(response.text)\n",
    "        return(response)\n",
    "\n",
    "def build_url(next_page, filters):\n",
    "    call_template = \"https://bio.tools/api/tool/?{attributes}{next_page}&format=json\"\n",
    "    if next_page:\n",
    "        next_page = \"&%s\"%next_page\n",
    "    else:\n",
    "        next_page = \"\"\n",
    "    attributes = '&'.join(filters)    \n",
    "    url = call_template.format(next_page=next_page, attributes=attributes)\n",
    "    return(url)\n",
    "\n",
    "\n",
    "def get_all_pages(filters):\n",
    "    res = []\n",
    "    next_page = \"page=1\"\n",
    "    print('Starting making the requests...')\n",
    "    while next_page:\n",
    "        response = make_request(build_url(next_page, filters))\n",
    "        print(\"Requesting: \" + build_url(next_page, filters), end='\\r')\n",
    "        res = res + response[\"list\"]\n",
    "        next_page = response[\"next\"]\n",
    "        if next_page:\n",
    "            next_page = next_page[1:]\n",
    "    print('\\nRequests finished.')\n",
    "    return(res)\n",
    "\n",
    "def save_result(out_path, result):\n",
    "    with open(out_path, 'w') as out:\n",
    "        json.dump(result, out)\n",
    "    print('Result saved as ' + out_path )\n",
    "    \n",
    "\n",
    "colnames_general = ['name', 'description', 'type', 'topic', 'input', 'output']\n",
    "colnames_detailed = [ 'name', 'description', 'version', 'type', 'topic', 'links', 'publication', 'download', 'inst_instr', 'test', 'src', 'os', 'input', 'output', 'dependencies', 'documentation', 'license', 'termsUse', 'contribPolicy', 'authors', 'repository']\n",
    "def results_to_table(result, colnames):\n",
    "    tools = bp.biotoolsToolsGenerator(result).instances\n",
    "    # Load features into table\n",
    "    colnames_features = colnames\n",
    "    df_dict = {name : [] for name in colnames_features}\n",
    "\n",
    "    for tool in tools:\n",
    "        for field in colnames_features:\n",
    "            df_dict[field].append(tool.__dict__.get(field))\n",
    "\n",
    "    df_features = pd.DataFrame.from_dict(df_dict)\n",
    "    df_features.drop_duplicates(subset =\"name\", keep = False, inplace = True) \n",
    "    return(df_features)\n",
    "\n",
    "\n",
    "def parse_zooma_results(input_file):\n",
    "    with open(input_file, 'r') as inp:\n",
    "        zooma_terms_df = pd.read_csv(input_file)\n",
    "        # getting list of terms\n",
    "        terms = zooma_terms_df['iri']\n",
    "        terms = []\n",
    "        free_terms = []\n",
    "        terms_label = {}\n",
    "        for index, row in zooma_terms_df.iterrows():\n",
    "            if type(row['iri']) == str:\n",
    "                term = row['iri'].split('http://edamontology.org/')[1].strip('\\n')\n",
    "                terms.append(term)\n",
    "                terms_label[term] = row['label'].strip('\\n')\n",
    "            else:\n",
    "                free_terms.append(row['keyword'].strip('\\n'))\n",
    "                \n",
    "    return(terms, terms_label, free_terms)\n",
    "\n",
    "def build_filter(term):\n",
    "    filters_template =  {'topic': 'topicID=\"%s\"', 'format':'dataFormatID=\"%s\"', 'operation':'operationID=\"%s\"', 'data':'dataTypeID=\"%s\"'}\n",
    "    if 'topic' in term:\n",
    "        filters = filters_template['topic']%(term)\n",
    "    elif 'data' in term:\n",
    "        filters = filters_template['data']%(term)\n",
    "    elif 'operation' in term:\n",
    "        filters = filters_template['operation']%(term)\n",
    "    elif 'format' in term:\n",
    "        filters = filters_template['format']%(term)\n",
    "    return(filters)     \n",
    "\n",
    "def query_for_terms(terms, EDAM=False):\n",
    "    '''\n",
    "    Takes a list of EDAM terms or free text keywords and does a query for each\n",
    "    EDAM=True for edam terms, EDAM=False for freetext keywords. Default: EDAM=False.\n",
    "    Return a dictionary of results of the form: {<term>: <dataframe of results>}\n",
    "    '''\n",
    "    free_filter_template = 'description=\"%s\"'\n",
    "    results = dict()\n",
    "    results_detailed = dict()\n",
    "    # Iteratre through terms\n",
    "    for term in terms:\n",
    "        term  = term.replace(\"/\",'-')\n",
    "        # Avoid duplicated queries\n",
    "        if term not in results.keys():\n",
    "            # Building the filters using the EDAM terms\n",
    "            if EDAM == True:\n",
    "                filter_ = [build_filter(term)]\n",
    "            else:\n",
    "                filter_ = [free_filter_template%(term)]\n",
    "            # Do the query\n",
    "            result = get_all_pages(filter_)\n",
    "            # Put result in table\n",
    "            result_df = results_to_table(result, colnames_general)\n",
    "            result_detailed_df = results_to_table(result, colnames_detailed)\n",
    "            # Put results table in dictionary with the results for the other terms\n",
    "            results[term] = result_df\n",
    "            results_detailed[term] = result_detailed_df\n",
    "    return(results, results_detailed)\n",
    "\n",
    "def count_tools_per_term(results):\n",
    "    count_tools_per_term = {term :len(results[term]) for term in results.keys()}\n",
    "    return(count_tools_per_term)\n",
    "\n",
    "def tools_per_term(results):\n",
    "    tools_per_term = {term:results[term]['name'] for term in results}  \n",
    "    return(tools_per_term)\n",
    "\n",
    "def merge_tools_lists(results):\n",
    "    tools = set()\n",
    "    for table in results:\n",
    "        tools_per_term_ = tools_per_term(table)\n",
    "        for term in tools_per_term_:\n",
    "            for tool in tools_per_term_[term]:\n",
    "                tools.add(tool)\n",
    "    return(tools)\n",
    "\n",
    "def save_results(results_general, terms_label, path):\n",
    "    template_output = path + '/tools_%s.tsv'\n",
    "    for term in results_general.keys():\n",
    "        file_name = template_output%(terms_label[term])\n",
    "        results_general[term].to_csv(file_name, index = False, sep='\\t')\n",
    "\n",
    "def save_lists_tools(tools_per_term,path, EDAM=False):\n",
    "    if EDAM==True:\n",
    "        template_output = path + '/tools_edam_%s.txt'\n",
    "    else:\n",
    "        template_output = path + '/tools_free_%s.txt'\n",
    "    for term in tools_per_term.keys():\n",
    "        with open(template_output%(term), 'w') as f:\n",
    "            for item in tools_per_term[term]:\n",
    "                f.write(\"%s\\n\" % item)\n",
    "    "
   ]
  },
  {
   "cell_type": "markdown",
   "metadata": {},
   "source": [
    "The attributes chosen to filter the query must be passed to the `get_all_pages` function in a list. Each attribute must be a string of the form `name=signalp`. This string will be put as a parameter in the query URL as it is. Please, follow the [bio.tools API reference](https://biotools.readthedocs.io/en/latest/api_reference.html) to construct this parameters successfully."
   ]
  },
  {
   "cell_type": "markdown",
   "metadata": {},
   "source": [
    "### Simple Query Example 1:"
   ]
  },
  {
   "cell_type": "markdown",
   "metadata": {},
   "source": [
    "The following is an example of a query of tools annotted with the EDAM topic \"Sequence composition, complexity and repeats\" and with the word \"game\"  in their description. "
   ]
  },
  {
   "cell_type": "code",
   "execution_count": 3,
   "metadata": {},
   "outputs": [
    {
     "ename": "NameError",
     "evalue": "name 'get_all_pages' is not defined",
     "output_type": "error",
     "traceback": [
      "\u001B[0;31m---------------------------------------------------------------------------\u001B[0m",
      "\u001B[0;31mNameError\u001B[0m                                 Traceback (most recent call last)",
      "\u001B[0;32m<ipython-input-3-57222ca49c22>\u001B[0m in \u001B[0;36m<module>\u001B[0;34m()\u001B[0m\n\u001B[1;32m      2\u001B[0m \u001B[0msample_filters\u001B[0m \u001B[0;34m=\u001B[0m \u001B[0;34m[\u001B[0m\u001B[0;34m'topic=\"Sequence composition, complexity and repeats\"'\u001B[0m\u001B[0;34m,\u001B[0m \u001B[0;34m'description=\"game\"'\u001B[0m\u001B[0;34m]\u001B[0m\u001B[0;34m\u001B[0m\u001B[0;34m\u001B[0m\u001B[0m\n\u001B[1;32m      3\u001B[0m \u001B[0mfilters\u001B[0m \u001B[0;34m=\u001B[0m \u001B[0msample_filters\u001B[0m\u001B[0;34m\u001B[0m\u001B[0;34m\u001B[0m\u001B[0m\n\u001B[0;32m----> 4\u001B[0;31m \u001B[0mresult\u001B[0m \u001B[0;34m=\u001B[0m \u001B[0mget_all_pages\u001B[0m\u001B[0;34m(\u001B[0m\u001B[0mfilters\u001B[0m\u001B[0;34m)\u001B[0m\u001B[0;34m\u001B[0m\u001B[0;34m\u001B[0m\u001B[0m\n\u001B[0m\u001B[1;32m      5\u001B[0m \u001B[0;34m\u001B[0m\u001B[0m\n",
      "\u001B[0;31mNameError\u001B[0m: name 'get_all_pages' is not defined"
     ]
    }
   ],
   "source": [
    "sample_filters = ['topic=\"Sequence composition, complexity and repeats\"', 'description=\"game\"']\n",
    "filters = sample_filters\n",
    "result = get_all_pages(filters)"
   ]
  },
  {
   "cell_type": "code",
   "execution_count": 3,
   "metadata": {},
   "outputs": [
    {
     "name": "stdout",
     "output_type": "stream",
     "text": [
      "[{'elixirCommunity': [], 'collectionID': ['EMBOSS'], 'accessibility': None, 'community': None, 'topic': [{'term': 'Sequence composition, complexity and repeats', 'uri': 'http://edamontology.org/topic_0157'}], 'owner': 'EMBOSS', 'cost': 'Free of charge', 'relation': [], 'download': [{'url': 'http://emboss.open-bio.org/html/adm/ch01s01.html', 'note': None, 'version': None, 'type': 'Source code'}, {'url': 'http://emboss.open-bio.org/html/adm/ch01s01.html', 'note': None, 'version': None, 'type': 'Binaries'}], 'validated': 1, 'publication': [{'doi': '10.1016/S0168-9525(00)02024-2', 'note': None, 'version': None, 'pmid': None, 'type': ['Primary'], 'pmcid': None, 'metadata': {'title': 'EMBOSS: The European Molecular Biology Open Software Suite', 'abstract': '', 'citationCount': 4828, 'authors': [{'name': 'Rice P.'}, {'name': 'Longden L.'}, {'name': 'Bleasby A.'}], 'date': '2000-06-01T00:00:00Z', 'journal': 'Trends in Genetics'}}, {'doi': '10.1017/CBO9781139151399', 'note': None, 'version': None, 'pmid': None, 'type': ['Other'], 'pmcid': None, 'metadata': None}, {'doi': '10.1017/CBO9781139151405', 'note': None, 'version': None, 'pmid': None, 'type': ['Other'], 'pmcid': None, 'metadata': None}], 'homepage_status': 0, 'credit': [{'typeRole': ['Contributor'], 'name': 'EMBOSS Contributors', 'rorid': None, 'url': 'http://emboss.open-bio.org/html/use/pr01s01.html', 'gridid': None, 'note': None, 'fundrefid': None, 'orcidid': None, 'typeEntity': None, 'email': None}, {'typeRole': ['Provider'], 'name': 'EMBL-EBI', 'rorid': None, 'url': None, 'gridid': None, 'note': None, 'fundrefid': None, 'orcidid': None, 'typeEntity': 'Institute', 'email': None}, {'typeRole': ['Contributor'], 'name': 'UK MRC', 'rorid': None, 'url': None, 'gridid': None, 'note': None, 'fundrefid': None, 'orcidid': None, 'typeEntity': 'Funding agency', 'email': None}, {'typeRole': ['Contributor'], 'name': 'Wellcome Trust', 'rorid': None, 'url': None, 'gridid': None, 'note': None, 'fundrefid': None, 'orcidid': None, 'typeEntity': 'Funding agency', 'email': None}, {'typeRole': ['Contributor'], 'name': 'UK BBSRC', 'rorid': None, 'url': None, 'gridid': None, 'note': None, 'fundrefid': None, 'orcidid': None, 'typeEntity': 'Funding agency', 'email': None}, {'typeRole': ['Provider'], 'name': 'EMBOSS', 'rorid': None, 'url': None, 'gridid': None, 'note': None, 'fundrefid': None, 'orcidid': None, 'typeEntity': 'Institute', 'email': None}, {'typeRole': ['Support'], 'name': 'EMBOSS', 'rorid': None, 'url': None, 'gridid': None, 'note': None, 'fundrefid': None, 'orcidid': None, 'typeEntity': None, 'email': 'emboss@emboss.open-bio.org'}, {'typeRole': ['Primary contact'], 'name': None, 'rorid': None, 'url': None, 'gridid': None, 'note': None, 'fundrefid': None, 'orcidid': None, 'typeEntity': 'Person', 'email': 'emboss@emboss.open-bio.org'}, {'typeRole': ['Primary contact'], 'name': None, 'rorid': None, 'url': None, 'gridid': None, 'note': None, 'fundrefid': None, 'orcidid': None, 'typeEntity': 'Person', 'email': 'emboss-bug@emboss.open-bio.org'}], 'biotoolsCURIE': 'biotools:chaos', 'elixirPlatform': [], 'elixirNode': [], 'version': ['r6'], 'elixir_badge': 0, 'homepage': 'http://emboss.open-bio.org/rel/rel6/apps/chaos.html', 'function': [{'note': None, 'input': [{'data': {'term': 'Nucleic acid sequence record', 'uri': 'http://edamontology.org/data_2887'}, 'format': []}], 'operation': [{'term': 'Sequence composition calculation', 'uri': 'http://edamontology.org/operation_0236'}], 'cmd': None, 'output': [{'data': {'term': 'Sequence composition plot', 'uri': 'http://edamontology.org/data_2166'}, 'format': []}]}], 'lastUpdate': '2018-12-10T12:58:52Z', 'otherID': [], 'description': 'Draw a chaos game representation plot for a nucleotide sequence.', 'toolType': ['Command-line tool'], 'editPermission': {'type': 'private', 'authors': []}, 'language': ['C'], 'link': [{'url': 'http://emboss.open-bio.org/html/adm/ch01s01.html', 'note': None, 'type': ['Repository']}], 'biotoolsID': 'chaos', 'additionDate': '2015-11-08T14:40:19Z', 'name': 'chaos', 'license': 'GPL-3.0', 'documentation': [{'url': 'http://emboss.open-bio.org/html/dev/ch01s01.html', 'note': None, 'type': ['Terms of use']}, {'url': 'http://emboss.open-bio.org/html/use/pr02s04.html', 'note': None, 'type': ['Citation instructions']}, {'url': 'http://emboss.open-bio.org/rel/rel6/apps/chaos.html', 'note': None, 'type': ['General']}], 'maturity': 'Mature', 'confidence_flag': None, 'operatingSystem': ['Linux', 'Windows', 'Mac']}]\n"
     ]
    }
   ],
   "source": [
    "print(result)"
   ]
  },
  {
   "cell_type": "markdown",
   "metadata": {},
   "source": [
    "To save the rusult, use the `save_result(out_path, result)` funtion. `out_path` is the path where the `result` will be saved."
   ]
  },
  {
   "cell_type": "code",
   "execution_count": 8,
   "metadata": {},
   "outputs": [
    {
     "name": "stdout",
     "output_type": "stream",
     "text": [
      "Result saved as run_3.json\n"
     ]
    }
   ],
   "source": [
    "save_result('run_3.json', result)"
   ]
  },
  {
   "cell_type": "code",
   "execution_count": 7,
   "metadata": {},
   "outputs": [
    {
     "ename": "NameError",
     "evalue": "name 'results_to_table' is not defined",
     "output_type": "error",
     "traceback": [
      "\u001B[0;31m---------------------------------------------------------------------------\u001B[0m",
      "\u001B[0;31mNameError\u001B[0m                                 Traceback (most recent call last)",
      "\u001B[0;32m<ipython-input-7-87d4390dd10f>\u001B[0m in \u001B[0;36m<module>\u001B[0;34m()\u001B[0m\n\u001B[1;32m      1\u001B[0m \u001B[0;34m\u001B[0m\u001B[0m\n\u001B[0;32m----> 2\u001B[0;31m \u001B[0mdf_feaures\u001B[0m \u001B[0;34m=\u001B[0m \u001B[0mresults_to_table\u001B[0m\u001B[0;34m(\u001B[0m\u001B[0mresult\u001B[0m\u001B[0;34m)\u001B[0m\u001B[0;34m\u001B[0m\u001B[0;34m\u001B[0m\u001B[0m\n\u001B[0m\u001B[1;32m      3\u001B[0m \u001B[0;34m\u001B[0m\u001B[0m\n",
      "\u001B[0;31mNameError\u001B[0m: name 'results_to_table' is not defined"
     ]
    }
   ],
   "source": [
    "df_feaures = results_to_table(result)"
   ]
  },
  {
   "cell_type": "markdown",
   "metadata": {},
   "source": [
    "###  Simple Query Example 2:"
   ]
  },
  {
   "cell_type": "code",
   "execution_count": 4,
   "metadata": {},
   "outputs": [
    {
     "ename": "NameError",
     "evalue": "name 'get_all_pages' is not defined",
     "output_type": "error",
     "traceback": [
      "\u001B[0;31m---------------------------------------------------------------------------\u001B[0m",
      "\u001B[0;31mNameError\u001B[0m                                 Traceback (most recent call last)",
      "\u001B[0;32m<ipython-input-4-c3330c8c10a6>\u001B[0m in \u001B[0;36m<module>\u001B[0;34m()\u001B[0m\n\u001B[1;32m      2\u001B[0m \u001B[0msample_filters\u001B[0m \u001B[0;34m=\u001B[0m \u001B[0;34m[\u001B[0m\u001B[0;34m'operation=\"Formatting\"'\u001B[0m\u001B[0;34m]\u001B[0m\u001B[0;34m\u001B[0m\u001B[0;34m\u001B[0m\u001B[0m\n\u001B[1;32m      3\u001B[0m \u001B[0mfilters\u001B[0m \u001B[0;34m=\u001B[0m \u001B[0msample_filters\u001B[0m\u001B[0;34m\u001B[0m\u001B[0;34m\u001B[0m\u001B[0m\n\u001B[0;32m----> 4\u001B[0;31m \u001B[0mresult\u001B[0m \u001B[0;34m=\u001B[0m \u001B[0mget_all_pages\u001B[0m\u001B[0;34m(\u001B[0m\u001B[0mfilters\u001B[0m\u001B[0;34m)\u001B[0m\u001B[0;34m\u001B[0m\u001B[0;34m\u001B[0m\u001B[0m\n\u001B[0m\u001B[1;32m      5\u001B[0m \u001B[0;34m\u001B[0m\u001B[0m\n\u001B[1;32m      6\u001B[0m \u001B[0mprint\u001B[0m\u001B[0;34m(\u001B[0m\u001B[0;34m\"Number of tools found: %d\"\u001B[0m\u001B[0;34m%\u001B[0m\u001B[0mlen\u001B[0m\u001B[0;34m(\u001B[0m\u001B[0mresult\u001B[0m\u001B[0;34m)\u001B[0m\u001B[0;34m)\u001B[0m\u001B[0;34m\u001B[0m\u001B[0;34m\u001B[0m\u001B[0m\n",
      "\u001B[0;31mNameError\u001B[0m: name 'get_all_pages' is not defined"
     ]
    }
   ],
   "source": [
    "sample_filters = ['operation=\"Formatting\"']\n",
    "filters = sample_filters\n",
    "result = get_all_pages(filters)\n",
    "\n",
    "print(\"Number of tools found: %d\"%len(result))"
   ]
  },
  {
   "cell_type": "markdown",
   "metadata": {},
   "source": [
    "## Case 1: ETL tools discovery\n",
    "\n",
    "We will query bio.tools using a set of EDAM terms that have being obtained after a mapping with ZOOMA.\n"
   ]
  },
  {
   "cell_type": "markdown",
   "metadata": {},
   "source": [
    "### Step 1: parsing zooma results"
   ]
  },
  {
   "cell_type": "markdown",
   "metadata": {},
   "source": [
    "ZOOMA results must be in a csv format.The colunm names, in this order, must be: `keyword`,`iri`,`label` and `confidence`. An example of a valid: \n",
    "\n",
    "|keyword            |iri                                   |label                      |confidence|\n",
    "|-------------------|--------------------------------------|---------------------------|----------|\n",
    "|Ontology annotation|http://edamontology.org/operation_0226|Annotation                 |MEDIUM    |\n",
    "|Ontology annotation|                                      |                           |          |\n",
    "|semantic annotation|                                      |                           |          |\n",
    "|semantic annotation|http://edamontology.org/operation_3778|Text annotation            |MEDIUM    |\n",
    "|Text mining        |http://edamontology.org/topic_0218    |Natural language processing|GOOD      |\n",
    "\n",
    "Raw: \n",
    "\n",
    "```\n",
    "keyword,iri,label,confidence\n",
    "Ontology annotation,http://edamontology.org/operation_0226,Annotation,MEDIUM\n",
    "Ontology annotation,,,\n",
    "semantic annotation,,,\n",
    "semantic annotation,http://edamontology.org/operation_3778,Text annotation,MEDIUM\n",
    "Text mining,http://edamontology.org/topic_0218,Natural language processing,GOOD\n",
    "```\n",
    "\n",
    "The function `parse_zooma_results` parses this csv and returns a list of terms suitable for the querying."
   ]
  },
  {
   "cell_type": "markdown",
   "metadata": {},
   "source": [
    "For a mapping of keyword related with ETL against EDAM, we got the ZOOMA results in the path `ETL_EDAM_curated.csv`."
   ]
  },
  {
   "cell_type": "code",
   "execution_count": 18,
   "metadata": {},
   "outputs": [
    {
     "name": "stdout",
     "output_type": "stream",
     "text": [
      "['topic_3366', 'topic_3571', 'topic_3345', 'topic_0219', 'topic_3489', 'topic_0769', 'topic_3572', 'operation_1812', 'operation_3431', 'operation_3436', 'operation_0335', 'operation_0224', 'operation_3907', 'operation_0336']\n",
      "{'topic_3366': 'Data integration and warehousing', 'topic_3571': 'data governance', 'topic_3345': 'Data identity and mapping', 'topic_0219': 'Data submission, annotation and curation', 'topic_3489': 'Database management', 'topic_0769': 'workflows', 'topic_3572': 'Data quality management', 'operation_1812': 'parsing', 'operation_3431': 'deposition', 'operation_3436': 'aggregation', 'operation_0335': 'formatting', 'operation_0224': 'Query and retrieval', 'operation_3907': 'Information extraction', 'operation_0336': 'Format validation'}\n",
      "['data store', 'data warehous', 'data lake', 'aggregated data', 'ETL', 'ingest', 'retriev', 'Cloud migration', 'Database replication', 'dataflow', 'integrat', 'extract', 'transform', 'data cleaning', 'loading', 'validat', 'query', 'provenance', 'Database management', 'Data quality', 'parsing', 'deposit', 'format', 'data unification', 'provenance', 'workflow', 'transfer']\n"
     ]
    }
   ],
   "source": [
    "terms_file='keywords/ETL_EDAM_curated.csv'\n",
    "ETL_edam_terms, terms_label_ETL, free_terms = parse_zooma_results(terms_file)\n",
    "print(ETL_edam_terms)\n",
    "print(terms_label_ETL)\n",
    "print(free_terms)"
   ]
  },
  {
   "cell_type": "code",
   "execution_count": null,
   "metadata": {
    "pycharm": {
     "name": "#%%\n"
    }
   },
   "outputs": [],
   "source": []
  },
  {
   "cell_type": "markdown",
   "metadata": {},
   "source": [
    "### Step 2: doing the queries. "
   ]
  },
  {
   "cell_type": "markdown",
   "metadata": {
    "pycharm": {
     "name": "#%% md\n"
    }
   },
   "source": [
    "#### Step 2.1: EDAM queries"
   ]
  },
  {
   "cell_type": "markdown",
   "metadata": {},
   "source": [
    "The function `query_for_terms` does the quering for the previously obtained list of EDAM terms when second argument set to `True`. It resturns two kind of outputs: general and detailed. Each is a dictionary of the form: `{<term>: <dataframe of results>}`"
   ]
  },
  {
   "cell_type": "code",
   "execution_count": 19,
   "metadata": {},
   "outputs": [
    {
     "name": "stdout",
     "output_type": "stream",
     "text": [
      "Starting making the requests...\n",
      "Requesting: https://bio.tools/api/tool/?topicID=\"topic_3366\"&page=8&format=json\r\n",
      "Requests finished.\n",
      "Starting making the requests...\n",
      "Requesting: https://bio.tools/api/tool/?topicID=\"topic_3571\"&page=2&format=json\r\n",
      "Requests finished.\n",
      "Starting making the requests...\n",
      "Requesting: https://bio.tools/api/tool/?topicID=\"topic_3345\"&page=3&format=json\r\n",
      "Requests finished.\n",
      "Starting making the requests...\n",
      "Requesting: https://bio.tools/api/tool/?topicID=\"topic_0219\"&page=15&format=json\r\n",
      "Requests finished.\n",
      "Starting making the requests...\n",
      "Requesting: https://bio.tools/api/tool/?topicID=\"topic_3489\"&page=19&format=json\r\n",
      "Requests finished.\n",
      "Starting making the requests...\n",
      "Requesting: https://bio.tools/api/tool/?topicID=\"topic_0769\"&page=29&format=json\r\n",
      "Requests finished.\n",
      "Starting making the requests...\n",
      "Requesting: https://bio.tools/api/tool/?topicID=\"topic_3572\"&page=18&format=json\r\n",
      "Requests finished.\n",
      "Starting making the requests...\n",
      "Requesting: https://bio.tools/api/tool/?operationID=\"operation_1812\"&page=21&format=json\r\n",
      "Requests finished.\n",
      "Starting making the requests...\n",
      "Requesting: https://bio.tools/api/tool/?operationID=\"operation_3431\"&page=36&format=json\r\n",
      "Requests finished.\n",
      "Starting making the requests...\n",
      "Requesting: https://bio.tools/api/tool/?operationID=\"operation_3436\"&page=21&format=json\r\n",
      "Requests finished.\n",
      "Starting making the requests...\n",
      "Requesting: https://bio.tools/api/tool/?operationID=\"operation_0335\"&page=36&format=json\r\n",
      "Requests finished.\n",
      "Starting making the requests...\n",
      "Requesting: https://bio.tools/api/tool/?operationID=\"operation_0224\"&page=72&format=json\r\n",
      "Requests finished.\n",
      "Starting making the requests...\n",
      "Requesting: https://bio.tools/api/tool/?operationID=\"operation_3907\"&page=1&format=json\r\n",
      "Requests finished.\n",
      "Starting making the requests...\n",
      "Requesting: https://bio.tools/api/tool/?operationID=\"operation_0336\"&page=2&format=json\r\n",
      "Requests finished.\n"
     ]
    }
   ],
   "source": [
    "ETL_edam_results_general, ETL_edam_results_detailed  = query_for_terms(ETL_edam_terms, True)"
   ]
  },
  {
   "cell_type": "markdown",
   "metadata": {},
   "source": [
    "We save the result of each term in a separated file inside the `outputs/ETL` directory using the function `save_results`."
   ]
  },
  {
   "cell_type": "code",
   "execution_count": 21,
   "metadata": {},
   "outputs": [],
   "source": [
    "path_output_ETL = \"outputs/ETL\"\n",
    "Path(path_output_ETL).mkdir(parents=True, exist_ok=True)\n",
    "save_results(ETL_edam_results_general, terms_label_ETL, path_output_ETL)"
   ]
  },
  {
   "cell_type": "markdown",
   "metadata": {},
   "source": [
    "#### Step 2.2: free text queries\n",
    "\n",
    "[FX] Question: should we use free text queries? Free text tend to return too many results."
   ]
  },
  {
   "cell_type": "code",
   "execution_count": 22,
   "metadata": {},
   "outputs": [
    {
     "name": "stdout",
     "output_type": "stream",
     "text": [
      "Starting making the requests...\n",
      "Requesting: https://bio.tools/api/tool/?description=\"data store\"&page=2&format=json\r\n",
      "Requests finished.\n",
      "Starting making the requests...\n",
      "Requesting: https://bio.tools/api/tool/?description=\"data warehous\"&page=1&format=json\r\n",
      "Requests finished.\n",
      "Starting making the requests...\n",
      "Requesting: https://bio.tools/api/tool/?description=\"data lake\"&page=1&format=json\r\n",
      "Requests finished.\n",
      "Starting making the requests...\n",
      "Requesting: https://bio.tools/api/tool/?description=\"aggregated data\"&page=1&format=json\r\n",
      "Requests finished.\n",
      "Starting making the requests...\n",
      "Requesting: https://bio.tools/api/tool/?description=\"ETL\"&page=1&format=json\r\n",
      "Requests finished.\n",
      "Starting making the requests...\n",
      "Requesting: https://bio.tools/api/tool/?description=\"ingest\"&page=1&format=json\r\n",
      "Requests finished.\n",
      "Starting making the requests...\n",
      "Requesting: https://bio.tools/api/tool/?description=\"retriev\"&page=22&format=json\r\n",
      "Requests finished.\n",
      "Starting making the requests...\n",
      "Requesting: https://bio.tools/api/tool/?description=\"Cloud migration\"&page=1&format=json\r\n",
      "Requests finished.\n",
      "Starting making the requests...\n",
      "Requesting: https://bio.tools/api/tool/?description=\"Database replication\"&page=1&format=json\r\n",
      "Requests finished.\n",
      "Starting making the requests...\n",
      "Requesting: https://bio.tools/api/tool/?description=\"dataflow\"&page=1&format=json\r\n",
      "Requests finished.\n",
      "Starting making the requests...\n",
      "Requesting: https://bio.tools/api/tool/?description=\"integrat\"&page=1&format=json\r\n",
      "Requests finished.\n",
      "Starting making the requests...\n",
      "Requesting: https://bio.tools/api/tool/?description=\"extract\"&page=36&format=json\r\n",
      "Requests finished.\n",
      "Starting making the requests...\n",
      "Requesting: https://bio.tools/api/tool/?description=\"transform\"&page=12&format=json\r\n",
      "Requests finished.\n",
      "Starting making the requests...\n",
      "Requesting: https://bio.tools/api/tool/?description=\"data cleaning\"&page=1&format=json\r\n",
      "Requests finished.\n",
      "Starting making the requests...\n",
      "Requesting: https://bio.tools/api/tool/?description=\"loading\"&page=6&format=json\r\n",
      "Requests finished.\n",
      "Starting making the requests...\n",
      "Requesting: https://bio.tools/api/tool/?description=\"validat\"&page=1&format=json\r\n",
      "Requests finished.\n",
      "Starting making the requests...\n",
      "Requesting: https://bio.tools/api/tool/?description=\"query\"&page=38&format=json\r\n",
      "Requests finished.\n",
      "Starting making the requests...\n",
      "Requesting: https://bio.tools/api/tool/?description=\"provenance\"&page=2&format=json\r\n",
      "Requests finished.\n",
      "Starting making the requests...\n",
      "Requesting: https://bio.tools/api/tool/?description=\"Database management\"&page=1&format=json\r\n",
      "Requests finished.\n",
      "Starting making the requests...\n",
      "Requesting: https://bio.tools/api/tool/?description=\"Data quality\"&page=2&format=json\r\n",
      "Requests finished.\n",
      "Starting making the requests...\n",
      "Requesting: https://bio.tools/api/tool/?description=\"parsing\"&page=7&format=json\r\n",
      "Requests finished.\n",
      "Starting making the requests...\n",
      "Requesting: https://bio.tools/api/tool/?description=\"deposit\"&page=3&format=json\r\n",
      "Requests finished.\n",
      "Starting making the requests...\n",
      "Requesting: https://bio.tools/api/tool/?description=\"format\"&page=54&format=json\r\n",
      "Requests finished.\n",
      "Starting making the requests...\n",
      "Requesting: https://bio.tools/api/tool/?description=\"data unification\"&page=1&format=json\r\n",
      "Requests finished.\n",
      "Starting making the requests...\n",
      "Requesting: https://bio.tools/api/tool/?description=\"workflow\"&page=26&format=json\r\n",
      "Requests finished.\n",
      "Starting making the requests...\n",
      "Requesting: https://bio.tools/api/tool/?description=\"transfer\"&page=7&format=json\r\n",
      "Requests finished.\n"
     ]
    }
   ],
   "source": [
    "ETL_free_results_general, ETL_free_results_detailed  = query_for_terms(free_terms, False)"
   ]
  },
  {
   "cell_type": "code",
   "execution_count": 23,
   "metadata": {
    "pycharm": {
     "name": "#%%\n"
    }
   },
   "outputs": [
    {
     "name": "stdout",
     "output_type": "stream",
     "text": [
      "\n"
     ]
    }
   ],
   "source": [
    "print()"
   ]
  },
  {
   "cell_type": "markdown",
   "metadata": {
    "pycharm": {
     "name": "#%% md\n"
    }
   },
   "source": [
    "### Analyzing results"
   ]
  },
  {
   "cell_type": "markdown",
   "metadata": {},
   "source": [
    "#### Total number of terms"
   ]
  },
  {
   "cell_type": "code",
   "execution_count": 24,
   "metadata": {},
   "outputs": [
    {
     "data": {
      "text/plain": "14"
     },
     "execution_count": 24,
     "metadata": {},
     "output_type": "execute_result"
    }
   ],
   "source": [
    "len(ETL_edam_results_general.keys())"
   ]
  },
  {
   "cell_type": "code",
   "execution_count": 25,
   "metadata": {
    "pycharm": {
     "name": "#%%\n"
    }
   },
   "outputs": [
    {
     "data": {
      "text/plain": "26"
     },
     "execution_count": 25,
     "metadata": {},
     "output_type": "execute_result"
    }
   ],
   "source": [
    "len(ETL_free_results_general.keys())"
   ]
  },
  {
   "cell_type": "markdown",
   "metadata": {
    "pycharm": {
     "name": "#%% md\n"
    }
   },
   "source": [
    "#### Tools per term"
   ]
  },
  {
   "cell_type": "code",
   "execution_count": 27,
   "metadata": {},
   "outputs": [
    {
     "data": {
      "text/plain": "{'operation_0224': 700,\n 'operation_0335': 340,\n 'operation_0336': 16,\n 'operation_1812': 194,\n 'operation_3431': 346,\n 'operation_3436': 197,\n 'operation_3907': 6,\n 'topic_0219': 139,\n 'topic_0769': 280,\n 'topic_3345': 26,\n 'topic_3366': 63,\n 'topic_3489': 177,\n 'topic_3571': 18,\n 'topic_3572': 171}"
     },
     "execution_count": 27,
     "metadata": {},
     "output_type": "execute_result"
    }
   ],
   "source": [
    "count_tools_per_term(ETL_edam_results_general)"
   ]
  },
  {
   "cell_type": "code",
   "execution_count": 28,
   "metadata": {
    "pycharm": {
     "name": "#%%\n"
    }
   },
   "outputs": [
    {
     "data": {
      "text/plain": "{'Cloud migration': 0,\n 'Data quality': 14,\n 'Database management': 7,\n 'Database replication': 0,\n 'ETL': 2,\n 'aggregated data': 3,\n 'data cleaning': 7,\n 'data lake': 1,\n 'data store': 15,\n 'data unification': 0,\n 'data warehous': 0,\n 'dataflow': 0,\n 'deposit': 27,\n 'extract': 338,\n 'format': 525,\n 'ingest': 2,\n 'integrat': 1,\n 'loading': 59,\n 'parsing': 67,\n 'provenance': 14,\n 'query': 367,\n 'retriev': 207,\n 'transfer': 59,\n 'transform': 108,\n 'validat': 0,\n 'workflow': 249}"
     },
     "execution_count": 28,
     "metadata": {},
     "output_type": "execute_result"
    }
   ],
   "source": [
    "count_tools_per_term(ETL_free_results_general)"
   ]
  },
  {
   "cell_type": "markdown",
   "metadata": {
    "pycharm": {
     "name": "#%% md\n"
    }
   },
   "source": [
    "#### Lists of tool names per term\n",
    "This is handy for validation"
   ]
  },
  {
   "cell_type": "code",
   "execution_count": 30,
   "metadata": {},
   "outputs": [],
   "source": [
    "tools_per_term_ETL = tools_per_term(ETL_edam_results_general)\n",
    "tools_per_term_ETL = {terms_label_ETL[term]:tools_per_term_ETL[term] for term in tools_per_term_ETL.keys()}"
   ]
  },
  {
   "cell_type": "code",
   "execution_count": 31,
   "metadata": {
    "pycharm": {
     "name": "#%%\n"
    }
   },
   "outputs": [],
   "source": [
    "tools_per_term_free_ETL = tools_per_term(ETL_free_results_general)\n",
    "tools_per_term_free_ETL = {term:tools_per_term_free_ETL[term] for term in tools_per_term_free_ETL.keys()}"
   ]
  },
  {
   "cell_type": "markdown",
   "metadata": {},
   "source": [
    "We save the list of tools for each term in separated txt files."
   ]
  },
  {
   "cell_type": "code",
   "execution_count": 32,
   "metadata": {
    "pycharm": {
     "name": "#%%\n"
    }
   },
   "outputs": [],
   "source": [
    "save_lists_tools(tools_per_term_ETL, path_output_ETL, True)"
   ]
  },
  {
   "cell_type": "code",
   "execution_count": 34,
   "metadata": {},
   "outputs": [],
   "source": [
    "save_lists_tools(tools_per_term_free_ETL, path_output_ETL, False)"
   ]
  },
  {
   "cell_type": "markdown",
   "metadata": {},
   "source": [
    "#### Merged tools lists\n",
    "All tools discovered merged in a single set"
   ]
  },
  {
   "cell_type": "code",
   "execution_count": 57,
   "metadata": {},
   "outputs": [
    {
     "data": {
      "text/plain": "{'key pathway miner',\n 'meffil',\n 'fungenes',\n 'david ws',\n 'glycan array dashboard',\n 'biobike',\n 'snpfile',\n 'ms-gf+',\n 'npd ws',\n 'geneimprint',\n 'malini',\n 'laminin database',\n 'showseq',\n 'luxr',\n 'imgt domaindisplay',\n 'myvariant.info',\n 'gigwa',\n 'iomics',\n 'interminer',\n 'icorn',\n 'frogs_biom_to_stdbiom',\n 'clinical drug experience knowledgebase (cdek)',\n 'bugsnet',\n 'vegmarks',\n 'prunetree',\n 'biojs-vis-gprofiler',\n 'gopubmed',\n 'discovery',\n 'nlprot',\n 'coraltbase',\n 'antimicrobial peptide database (amped)',\n 'diatools',\n 'repo',\n 'shambhala',\n 'ppisearch',\n 'wolbachia',\n 'idmappingretrieval',\n 'nf-core-rnaseq',\n 'tomato functional genomics database (tfgd)',\n 'lord',\n 'proteins api',\n 'cuticledb',\n 'madora',\n 'tripal elasticsearch',\n 'haplotypo',\n 'xmlget',\n 'gecont 2',\n 'dampd',\n 'channelsdb',\n 'ioniser',\n 'wheatmine',\n 'dima domain interaction map',\n 'pydfn3d',\n 'sf-matching',\n 'biojs-vis-sam',\n 'yersinia',\n 'genemania',\n 'meta-iavp',\n 'megante',\n 'etriks',\n 'hd-bet',\n 'genetests',\n 'ensembldb',\n 'mobidb',\n 'candimeth',\n 'rankergui',\n 'dcmqi',\n 'nibr 2d-page',\n 'ptmphinder',\n 'seek',\n 'plato',\n 'kmcex',\n 'biojs-rest-ensembl',\n 'workflow',\n 'solid2fastq',\n 'cellbench',\n 'webgester db',\n 'chemmineob',\n 'ncbi taxonomy database',\n 'phaedra',\n 'ale',\n 'cosinor',\n 'database manager',\n 'fastqvalidator',\n 'histoneanalysisworkflow',\n 'spharm-pdm',\n 'vespucci',\n 'huge',\n 'smallanimalmrghifu',\n 'sig2biopax',\n 'imgt gene-db',\n 'quantest',\n 'aggrerate-pred',\n 'solart',\n 'scavenger',\n 'tbl2knowngene',\n 'promex protein mass spectral library',\n 'psicquic view',\n 'mdfptools',\n 'rambo-k',\n 'velvet',\n 'pergola-web',\n 'phobos',\n 'texmed',\n 'converttranscriptfile_fastqtofasta',\n 'ngsmethdb',\n 'export_sbw',\n 'normal',\n 'simconcept',\n 'datanator',\n 'bgee',\n 'pypreclin',\n 'chipenrich',\n 'blannotator',\n '1000genomes id history converter',\n 'miga',\n 'fusion',\n 'predictsnp2',\n 'vic',\n 'sledgehmmer',\n 'sepath',\n 'slinky',\n 'netbox',\n 'aops-svm',\n 'rbp-maps',\n 'mlibrary',\n 'data dependent-independent acquisition proteomics (ddia)',\n 'chipchipnorm',\n 'nlimed',\n 'lcmix',\n 'makecdfenv',\n 'neartree',\n 'rsat retrieve matrix',\n 'precise',\n 'pobo',\n 'vmd store',\n 'sentieon dnaseq',\n 'pycellbase',\n 'posmed',\n 'matapax',\n 'qbioimages',\n 'seda',\n 'bio-tds',\n 'kronaextract',\n 'mutationaligner',\n 'wiff2dta',\n 'ocean gene atlas',\n 'dose',\n 'sciluigi',\n 'lims tools',\n 'bionev',\n 'tableannotator',\n 'varsome',\n 'seqstrap',\n 'wheat genome',\n 'pubtator',\n 'mhcii',\n 'dsrc',\n 'enzyme portal',\n 'mitozoa',\n 'lidc',\n 'goslin',\n 'mspire_mspire-sequest',\n 'wossdata',\n 'mirtop',\n 'masqot-gui',\n 'ncbi bookshelf',\n 'epivizr',\n 'genes by transmembrane domain count',\n 'listannotation',\n 'msmstests',\n 'dataanalysis2tpp',\n 'genomicus-protists',\n 'nci flicker',\n 'uniprotr',\n 'abasy atlas',\n 'flymine',\n 'vcf2networks',\n 't3db',\n 'phylogenetics_at_jst',\n 'bisr-rnaseq',\n 'glycan reader',\n 'taverna',\n 'ippi-esml',\n 'mallard',\n 'dipcheck',\n 'emgb',\n 'mico',\n 'the human protein reference database (hprd)',\n 'bwtool 1.0 gamma',\n 'seqvec',\n 'maltcms',\n 'gucal',\n 'datasets2tools',\n 'qubekit',\n 'centrifuge',\n 'beaddatapackr',\n 'thalemine',\n 'genbank_convertor',\n 'cld',\n 'biosmile',\n 'biobase',\n 'cryoem ontology',\n 'vecscreen_plus_taxonomy',\n 'orchestrating single-cell analysis',\n '4dxpress',\n 'pdb-blast',\n 'xvector',\n 'nmrml converter',\n 'falco',\n 'propsearch',\n 'pda',\n 'cell cycle database (cellcycledb)',\n 'hybpiper',\n 'sparql',\n 'sam2tsv',\n 'transport classification database (tcdb)',\n 'mixcr',\n 'berex',\n 'lea',\n 'rnf',\n 'scfind',\n 'catalysis hub',\n 'ndd',\n 'saucie',\n 'ensembl genomes',\n 'eventepi',\n 'bedtools_bamtobed',\n 'phospho.elm',\n 'drugcomb',\n 'lucegene',\n 'vcfanno',\n 'cancerppd',\n 'yaqcaffy',\n 'coil',\n 'lionessr',\n 'metashot',\n 'cpndb',\n 'tabsint',\n 'genomenet',\n 'interactiontransformer',\n 'smog',\n 'gwasinspector',\n 'iedb-3d',\n 'rosettaantibody',\n 'html4blast',\n 'bio2bel',\n 'distild',\n 'otusfocus',\n 'knime - phenotyping of image data',\n 'odna',\n 'fqduplicate',\n 'ia-lab',\n 'affygcqc',\n 'pipelinedog',\n 'metarnamodules',\n 'dat2mgf',\n 'drfast',\n 'pbsword',\n 'nanite',\n 'aquarium trade date data',\n 'pcfamily',\n 'qvz',\n 'stellar',\n 'lipidimms',\n 'colorgff',\n 'hash-cgmlst',\n 'human gene nomenclature database (hgnc)',\n 'neurochat',\n 'speaq',\n 'coderet',\n 'ontobrowser',\n 'rnam5cpred',\n 'drllps',\n 'iscore',\n 'myseq',\n 'alternative splicing prediction database (aspicdb)',\n 'sltchemdb',\n 'argot2',\n 'the gem (genome multi-tool) library (gem mapper)',\n 'sesaw',\n 'dasmiweb',\n 'biojs-io-graduates',\n 'imgt primer-db',\n 'hitec',\n 'pubchem',\n 'magnolia',\n 'nassam',\n 'zooma',\n 'ploc_bal-meuk',\n 'mycobacterium leprae genome database',\n 'bioword',\n 'prebs',\n 'askomics',\n 'feather',\n 'supercyp',\n 'rtca',\n 'projectr',\n 'neuroelectro',\n 'bissap',\n 'unicycler',\n 'midcor',\n 'moat',\n 'bactag',\n 'targetscore',\n 'dbbqs',\n 'gwasrapidd',\n 'molden',\n '3uss',\n 'master2pgsnp',\n 'censor',\n 'h-dbas',\n 'biolabeler',\n 'biomart central',\n 'kissde',\n 'dig2',\n 'quosa',\n 'snpack',\n 'psrna',\n 'prompt',\n 'pespotdb',\n 'primerbank',\n 'morphdb',\n 'graphclust2',\n 'empusa',\n 'st-sim',\n 'modifysequencelist',\n 'plan2l',\n 'gwas catalog',\n 'cistem',\n 'trip',\n 'holovir',\n 'yakusa',\n 'mergemaid',\n 'fish oracle',\n 'stattarget',\n 'mirnest',\n 'rxivist.org',\n 'imaaagine',\n 'haplosearch',\n 'uniprotkb',\n 'gxa expt',\n 'findpeaks 4.0 (vancouver short read package)',\n 'modbase',\n 'oswitch',\n 'featureextract',\n 'openhicamm',\n 'dbcan2',\n 'pcrclipreads',\n 'rnall',\n 'clusterflow',\n 'gwfasta',\n 'synergizer',\n 'acdtrace',\n 'strms',\n 'ps_scan',\n 'igv',\n 'transview',\n 'interactive tree of life (itol)',\n 'avia',\n 'epithelial modelling platform',\n 'extractseq',\n 'cyvcf2',\n 'easeq',\n 'psvs',\n 'vader',\n 'gnomad',\n 'flowand',\n 'gatk_variant_select',\n 'asm2ace',\n 'genatlas human gene database',\n 'mirtex',\n 'phenomenal',\n 'prex',\n 'plant microrna database (pmrd)',\n 'sagx',\n 'sconify',\n 'pcaviz',\n 'showalign',\n 'rbbt-hts',\n 'becas',\n 'phagexpress',\n 'padmet',\n 'proaffimuseq',\n 'cytonorm',\n 'cryptosporidium genome resources cryptodb',\n 'pipe-t',\n 'imiss',\n 'olego',\n 'nanostringqcpro',\n 'corderly',\n 'microbiomebpr',\n 'propheno',\n 'bio-formats',\n 'apid',\n 'gem library',\n 'peptimapper',\n 'the immune epitope database (iedb)',\n 'lungmap',\n 'gemtractor',\n 'enigma',\n 'abi2link',\n 'xeml-lab',\n 'additivechem',\n 'rpsixml',\n 'rbiopaxparser',\n 'ithanet',\n 'annotationhub',\n 'pgg snv',\n 'colombos',\n 'mmssimilarity',\n 'orest',\n 'hydrogen_bondifier',\n 'irefindex manager (irefr)',\n 'gpress',\n 'scowl',\n 'treegraph 2',\n 'rappas',\n 'doubletdetection',\n 'mdqc',\n 'cryoflare',\n 'clc_extract_consensus',\n 'ewce',\n 'collagen mutation database (cmd)',\n 'bionda - biomarker database',\n 'metadome',\n 'blast (ebi)',\n 'alias',\n 'abc-finder',\n 'iacetyp',\n 'hipathdb',\n 'metabolights',\n 'blast2srs',\n 'mygenomebrowser',\n 'kb-rank',\n 'bisque',\n 'cmweb',\n 'lucy',\n 'bpipe',\n 'mosdepth',\n 'bubastis',\n 'unicatdb',\n 'sam_to_bam',\n 'xplatcom (cross platform commander)',\n 'hiannotator',\n 'tap',\n 'xtractor',\n 'bam_to_sam',\n 'harman',\n 'ribor',\n 'nospace',\n 'chemdraw ultra',\n 'rdmp',\n 'sambamba',\n 'pisa-tree',\n 'perseus',\n 'tab2mage',\n 'varfish',\n 'bed',\n 'linearfold',\n 'escdb',\n 'proteomexchange',\n 'cogs',\n 'qdb (query driven biclustering)',\n 'atlasrdf',\n 'cogeme',\n 'bamview',\n 'ribodb',\n 'zeus alpha',\n 'pnv',\n 'saqc',\n 'arrayexpress',\n 'illuminaio',\n 'pmsearch',\n 'orbit',\n 'mabellini',\n 'uniprot reference clusters (uniref)',\n 'super',\n 'arlequin',\n 'ippd',\n 'uniprime2',\n 'airlab',\n 'proteomatic',\n 'astalavista',\n 'compluyeast-2dpage database',\n 'xia2',\n 'clima',\n 'uniprobe',\n 'snovault',\n 'erins',\n 'psrobot',\n 'imageo',\n 'pedican',\n 'plasmapper',\n 'ncbi resources',\n 'sampler',\n 'supertarget',\n 'pygold',\n 'wikidata',\n 'weget',\n 'dictybase update 2011',\n 'genetclassifier',\n 'reqtl',\n 'abs',\n 'coordinateserver',\n 'pickle',\n 'mrdp',\n 'new basis set exchange',\n 'saver-x',\n 'repairtoire',\n 'lincs data portal 2.0',\n 'blood exposome database',\n 'plasmodesma',\n '1000genomes vcf2ped',\n 'maxic-q',\n 'qualifier',\n 'spex2',\n 'page-net',\n 'pathway interaction database (pid)',\n 'ssake',\n 'genbank nucleotide sequence database',\n 'annotationfuncs',\n 'ffpe',\n 'readw',\n 'readseq',\n 'rsqtl',\n 'bip',\n 'drugr+',\n 'uitagcreator',\n 'foldminer and lock 2',\n 'shortread',\n 'vcf2arlequin',\n 'miamaxent',\n 'wptherml',\n 'rainbio',\n 'gem-net',\n 'xsult',\n 'trowel',\n 'locdb',\n 'kaptive',\n 'chippeakanno',\n 'bomp',\n 'dvd',\n 'messar (metabolite substructure auto-recommender)',\n 'unicarb-db',\n 'allergome',\n 'robokop kg',\n 'bubble gum',\n 'caleydo',\n 'xman',\n 'leb',\n 'snprelate',\n 'hypercldb',\n 'blastgui',\n 'pyrocleaner',\n 'calis-p',\n 'cgidla',\n 'chipper',\n 'cancer predisposition sequencing reporter (cpsr)',\n 'biojs-io-matrix',\n 'isee',\n 'chlamdb',\n 'craft',\n 'apollo genome annotation and curation tool',\n 'guildify',\n 'identifiers.org',\n 'mmcif dictionary suite',\n 'wossparam',\n 'pawfe',\n '.net bio',\n 'unite rdna',\n 'mzwiff',\n 'fetchprodom ws',\n 'libr mocd',\n 'fit',\n 'nf-core-smrnaseq',\n 'europhenome',\n 'rcellminer',\n 'bionumbers',\n 'gorth',\n 'dreamtools',\n 'mapi',\n 'sva',\n 'epitad',\n 'rnaactdrug',\n 'extrarg',\n 'biojs-vis-inchlib',\n 'newt-omics',\n 'gppf',\n 'hybridcheck',\n 'psea',\n 'seamis',\n 'msatcommander',\n 'penncnv',\n 'repex',\n 'covidmine',\n 'schex',\n 'etblast',\n 'pfond',\n 'sirah',\n 'quality assessment',\n 'protein naming utility',\n 'openchrom',\n 'table',\n 'meltdb',\n 'viva',\n 're-annotator',\n 'geneyenta',\n 'indigomine',\n 'kccg patient archive',\n 'chipwig',\n 'chebi',\n 'tebacten',\n 'jflow',\n 'selectome',\n 'flowrepositoryr',\n 'jiffynet',\n 'redcap',\n 'hayai-annotation plants',\n 'compendium of protein lysine acetylation (cpla)',\n 'trnadb-ce',\n 'wossoperation',\n 'pathema',\n 'ceas',\n 'hora',\n 'ohnologs v2',\n 'affyilm',\n 'proteopedia',\n 'smudgeplots',\n 'bcbio-nextgen',\n 'annotategenomicregions',\n 'ensembl',\n 'gtex',\n 'msmseda',\n 'xtandem parser',\n 'whiteboard',\n 'nf-core-viralrecon',\n 'physpetree',\n 'biopython',\n 'relna',\n 'gpcr-ca',\n 'raedb',\n 'varicarta',\n 'picard_samtofastq',\n 'reptar',\n 'msconvert',\n 'packmol-memgen',\n 'biodataome',\n 'what if',\n 'aquaria',\n 'bwimage',\n 'kinimmerse',\n 'qcquan',\n 'autopvs1',\n 'hypoxiadb',\n 'kvarq',\n 'mutascope',\n 'phenoseed',\n 'logiqa',\n 'transcriptator',\n 'ibws: ist bioinformatics web services',\n 'genomicsdb',\n 'fqextract',\n 'nnnorm',\n 'tersect',\n 'compareoverlappingsmallquery',\n 'simrna',\n 'pybel',\n 'fizzy',\n 'biana',\n 'savr',\n 'cellbase',\n 'pygmql',\n 'gdc',\n 'annmap',\n 'ecogene',\n 'elminstancemapper',\n 'idna6ma-rice',\n 'simmap',\n 'bbknn',\n 'pie the search',\n 'european variation archive (eva)',\n 'varsight',\n 'cpmcglm',\n 'rsat suite',\n 'clobnet',\n 'genomicus-metazoa',\n '4dgenome',\n 'reformat_snpeff_for_syntview',\n 'wg-blimp',\n 'bceconsensus',\n 'trans-nanosim',\n 'metadata editor',\n 'progenetix',\n 'fatcat',\n 'cogena',\n 'dmeas',\n 'genbank_to_gene',\n 'svn',\n 'netmatch',\n 'consensusseeker',\n 'infrafrontier and the european mouse mutant archive (emma)',\n 'v-xtractor',\n 'extract_archive_merge',\n 'pathwaycommons sparql endpoint',\n 'jphyloio',\n 'epiviz file server',\n 'metdisease',\n 'medical relation extraction',\n 'racs',\n 'phenx toolkit',\n 'mouse genome database (mgd)',\n 'cgmanalysis',\n 'nmtf',\n 'treeexp',\n 'bioextract',\n 'highresnps',\n 'overlap',\n 'dmrcate',\n 'panelapp',\n 'recphyloxml',\n 'elixir elearning platform',\n 'rmat',\n 'btod',\n 'yass',\n 'bridgedbr',\n 'starank',\n 'biojs-io-gff',\n 'molgenis',\n 'rtcgatoolbox',\n 'pysradb',\n 'nsltp',\n 'yrgate',\n 'out2summary',\n 'bagel3',\n 'biouml',\n 'modmine',\n 'grapemine',\n 'ligand-gated ion channel database (lgicdb)',\n 'sbml2latex',\n 'amypdb',\n 'ppp',\n 'riken integrated database of mammals',\n 'pazar',\n 'biobb mutations workflow',\n 'omics pipe',\n 'wft4galaxy',\n 'kic',\n 'mlstar',\n 'evidence based microbial associations miner (evimass)',\n 'frogs_upload_tar',\n 'antibac-pred',\n 'sepia',\n 'magendb',\n 'seqdata-beacon',\n 'ognm',\n 'gwar',\n 'tradeseq',\n 'fastfeatgen',\n 'r.sambada',\n 'rxn',\n 'aicd',\n 'bioexcel building blocks tutorials: common workflow language with biobb',\n 'pdbusqlextractor',\n 'geneseqtofamily',\n 'branch',\n 'ilincs',\n 'ensembl genomes bacteria id history converter',\n 'annotationtools',\n 's2o',\n 'datview',\n 'imgt clonesearch',\n 'mapstore',\n 'cytoml',\n 'bankit',\n 'annot',\n 'fasta canonical sequences',\n 'osteoporosatlas',\n 'biomvcclass',\n 'ice',\n 'diversitydescriptions',\n 'embossdata',\n 'mulims-mcompas',\n 'cellbaser',\n 'lotus',\n 'restfulse',\n 'marq',\n 'maize genetics and genomics database (maizegdb)',\n 'parentchecker',\n 'iobio',\n 'sitehound-web',\n 'protag',\n 'ipd project',\n 'gazevisual-lib',\n 'mygene',\n 't cell classification',\n 'yvis',\n 'seqhound',\n 'bedtools_coveragebed_counts',\n 'nf-core-methylseq',\n 'eurisco',\n 'acep',\n 'sircah',\n 'matt',\n 'matrisomedb',\n 'genotyping - ncbi',\n 'pevosoar',\n 'mirspring',\n 'phenominer',\n 'spurio',\n 'pyfaidx',\n 'dorman',\n 'eccetera',\n 'hippie',\n 'enzyme - enzyme nomenclature database',\n 'pariga',\n 'bio-cigar',\n 'readxplorer',\n 'seqassist',\n 'signature',\n 'zr-mofs',\n 'plantcircnet',\n 'gsc',\n 'sonata',\n 'cfassay',\n 'bioproject',\n 'sctype',\n 'vacsol',\n 'snpdb',\n 'staphopia',\n 'fastr3d',\n 'imgt ligm-db',\n 'pannbuilder',\n 'sbmllint',\n 'cvrms',\n 'collbook',\n 'simug',\n 'lamma',\n 'lncrnadb',\n 'tam 2.0',\n 'xip',\n 'crumbler',\n 'mavedb',\n 'gtdb-tk',\n 'rasflow',\n 'cellassign',\n 'gypsy database (gydb)',\n 'moccasin',\n 'cpgavas',\n 'efetch sequence',\n 'ppnid',\n 'metageneannotator',\n 'coreslicer',\n 'h++',\n 'lsd 3.0',\n 'maizesnpdb',\n 'tmvar',\n 'newdna-prot',\n 'praline-2-a',\n 'bio-dia',\n 'et report maker',\n 'affyrnadegradation',\n 'pcaexplorer',\n 'gene expression atlas',\n 'lineagepulse',\n 'fairifier',\n 'msgfgui',\n 'krasi',\n 'nf-core-hic',\n 'workflowr',\n 'drfit',\n 'ctdquerier',\n 'ptrbc',\n 'cssp',\n 'mview api (ebi)',\n 'mdanalysis',\n 'bgt',\n 'eximir',\n 'srna workflow',\n 'transmart',\n 'find',\n 'model_dis',\n 'legumemine',\n 'araport',\n 'phenogmm',\n 'dnemo',\n 'excemplify',\n 'lge',\n 'gene expression database (gxd)',\n 'kegggraph',\n 'kegdraw 0.1.14 beta',\n 'metabosearch',\n 'probelynx',\n 'plant genomics and phenomics research data repository (pgp)',\n 'mrc image processing package',\n 'displayfam',\n 'neurocs',\n 'driversub',\n 'e3miner',\n 'bs-snper',\n 'bioccheck',\n 'mgert',\n 'lailaps-qsm',\n 'protmiscuity',\n 'ensemblqdb',\n 'scoc database',\n 'genes by epitopes presence',\n 'gcat',\n 'naples',\n 'cellosaurus',\n 'protsav',\n 'ngsutils',\n 'disoselect',\n 'piranha',\n 'dna baser',\n 'rdnaanalyzer',\n 'irods',\n 'ncbi reference sequences',\n 'rosettabackrub',\n 'asrd',\n 'genepath2',\n 'lion-web',\n 'davidquery',\n 'melad',\n 'keggtranslator',\n 'frogs_biom_to_tsv',\n 'uniprot.ws',\n 'scgeatoolbox',\n 'messa',\n 'ritan',\n 'bigram-pgk',\n 'decomptumor2sig',\n 'exploreasl',\n 'fox insight',\n 'rna-express',\n 'homolens',\n 'pertinint',\n 'tpms',\n 'oncocnv',\n 'arrayprospector',\n 'mzjava',\n 'scale4c',\n 'svscore',\n 'pepfunk',\n 'emdomics',\n 'pmap-cutdb proteolytic event database',\n 'hrman',\n 'singlecellexperiment',\n 'pastmus',\n 'hyppo-x',\n 'ogrdb',\n 'imir',\n 'pipeline pilot',\n 'tpmcalculator',\n 'the protein geometry database (pgd)',\n 'biomenet',\n 'cytogps',\n 'mouse genome informatics (mgi)',\n 'surfcut',\n 'phospho3d',\n 'colmarm',\n 'copasi',\n 'preopdb',\n 'odae',\n 'microarray retriever',\n 'europe pmc',\n 'the protein data bank (pdb)',\n 'mitogenesisdb',\n 'rna editing database (redidb)',\n 'googlegenomics',\n 'searchgtr',\n 'toxsign',\n 'ppicurator',\n 'beclear',\n 'alitv',\n 'xps',\n 'infernal cmscan',\n 'camur',\n 'wgd',\n 'el_pssm-rt',\n 'mapperanalyzer',\n 'aaindexextract',\n 'progeo-neo',\n 'anabel',\n 'protein digestion simulator',\n 'irefindex',\n 'proteindecision',\n 'phire',\n 'tripal mapviewer',\n 'prokaryotic protein phosphatase database (pptasedb)',\n 'beetl',\n 'nrg-cing',\n 'matrixdb',\n 'drug2gene',\n 'virbin',\n 'mousebook',\n 'feedr',\n 'bel commons',\n 'regionalhapmapextractor',\n 'mupet',\n ...}"
     },
     "execution_count": 57,
     "metadata": {},
     "output_type": "execute_result"
    }
   ],
   "source": [
    "all_ETL_tools = merge_tools_lists([ETL_edam_results_general, ETL_free_results_general])\n",
    "all_ETL_tools"
   ]
  },
  {
   "cell_type": "code",
   "execution_count": 36,
   "metadata": {},
   "outputs": [
    {
     "data": {
      "text/plain": "3507"
     },
     "execution_count": 36,
     "metadata": {},
     "output_type": "execute_result"
    }
   ],
   "source": [
    "len(all_ETL_tools)"
   ]
  },
  {
   "cell_type": "markdown",
   "metadata": {},
   "source": [
    "### ETL related annotations count. EDAM queries"
   ]
  },
  {
   "cell_type": "code",
   "execution_count": 40,
   "metadata": {},
   "outputs": [
    {
     "name": "stdout",
     "output_type": "stream",
     "text": [
      "                   tool  ETL annotations count\n",
      "3112                pga                      5\n",
      "32                 repo                      4\n",
      "494      ncbi resources                      4\n",
      "2229        miamexpress                      4\n",
      "1882           martview                      4\n",
      "...                 ...                    ...\n",
      "1715  diana-microt v5.0                      0\n",
      "1714           micropro                      0\n",
      "1712              msviz                      0\n",
      "1711   rsat peak-motifs                      0\n",
      "3506   molgenis compute                      0\n",
      "\n",
      "[3507 rows x 2 columns]\n"
     ]
    }
   ],
   "source": [
    "matches_tools = {}\n",
    "for tool in list(all_ETL_tools):\n",
    "    matches = 0\n",
    "    for l in tools_per_term_ETL.values():\n",
    "        if tool in list(l):\n",
    "            matches += 1\n",
    "    matches_tools[tool] = matches\n",
    "\n",
    "ETL_annot_count_df = pd.DataFrame(list(matches_tools.items()), columns= ['tool','ETL annotations count']).sort_values('ETL annotations count', ascending=False)\n",
    "print(ETL_annot_count_df)"
   ]
  },
  {
   "cell_type": "code",
   "execution_count": 41,
   "metadata": {
    "pycharm": {
     "name": "#%%\n"
    }
   },
   "outputs": [
    {
     "data": {
      "text/plain": "<Figure size 432x288 with 1 Axes>",
      "image/png": "[encoded data removed]"
     },
     "metadata": {},
     "output_type": "display_data"
    }
   ],
   "source": [
    "plt.hist(ETL_annot_count_df['ETL annotations count'],alpha=0.5)\n",
    "plt.xlim([1, 7])\n",
    "plt.ylim([0, 130])\n",
    "plt.title('ETL related terms each tool ')\n",
    "plt.xlabel('Number of ETL terms')\n",
    "plt.ylabel('Number of discovered tools')\n",
    "plt.show()"
   ]
  },
  {
   "cell_type": "markdown",
   "metadata": {
    "pycharm": {
     "name": "#%% md\n"
    }
   },
   "source": [
    "### ETL related annotations count. Free text queries"
   ]
  },
  {
   "cell_type": "code",
   "execution_count": 42,
   "metadata": {
    "pycharm": {
     "name": "#%%\n"
    }
   },
   "outputs": [
    {
     "name": "stdout",
     "output_type": "stream",
     "text": [
      "                  tool  ETL annotations count\n",
      "685            clobnet                      4\n",
      "1755            osirix                      4\n",
      "865          fairifier                      4\n",
      "1097         rmassbank                      3\n",
      "3370              grok                      3\n",
      "...                ...                    ...\n",
      "2113  genome-sketching                      0\n",
      "2112   immunomebrowser                      0\n",
      "2110          protonet                      0\n",
      "2109   ricerelativesgd                      0\n",
      "2383            intact                      0\n",
      "\n",
      "[3507 rows x 2 columns]\n"
     ]
    }
   ],
   "source": [
    "matches_tools = {}\n",
    "for tool in list(all_ETL_tools):\n",
    "    matches = 0\n",
    "    for l in tools_per_term_free_ETL.values():\n",
    "        if tool in list(l):\n",
    "            matches += 1\n",
    "    matches_tools[tool] = matches\n",
    "\n",
    "ETL_annot_count_df = pd.DataFrame(list(matches_tools.items()), columns= ['tool','ETL annotations count']).sort_values('ETL annotations count', ascending=False)\n",
    "print(ETL_annot_count_df)"
   ]
  },
  {
   "cell_type": "code",
   "execution_count": 43,
   "metadata": {},
   "outputs": [
    {
     "data": {
      "text/plain": "<Figure size 432x288 with 1 Axes>",
      "image/png": "[encoded data removed]"
     },
     "metadata": {},
     "output_type": "display_data"
    }
   ],
   "source": [
    "plt.hist(ETL_annot_count_df['ETL annotations count'],alpha=0.5)\n",
    "plt.xlim([2, 7])\n",
    "plt.ylim([0, 130])\n",
    "plt.title('ETL related terms each tool ')\n",
    "plt.xlabel('Number of ETL terms')\n",
    "plt.ylabel('Number of discovered tools')\n",
    "plt.show()"
   ]
  },
  {
   "cell_type": "markdown",
   "metadata": {
    "pycharm": {
     "name": "#%% md\n"
    }
   },
   "source": [
    "### ETL related annotations count. Free text and EDAM queries "
   ]
  },
  {
   "cell_type": "code",
   "execution_count": 44,
   "metadata": {
    "pycharm": {
     "name": "#%%\n"
    }
   },
   "outputs": [
    {
     "name": "stdout",
     "output_type": "stream",
     "text": [
      "                  tool  ETL annotations count\n",
      "865          fairifier                      6\n",
      "3167     query tabular                      6\n",
      "1882          martview                      6\n",
      "1755            osirix                      5\n",
      "2728  ms-data-core-api                      5\n",
      "...                ...                    ...\n",
      "1349      bridgedb api                      1\n",
      "1350    ienhancer-ecnn                      1\n",
      "1351             rcasc                      1\n",
      "1352        methmarker                      1\n",
      "3506  molgenis compute                      1\n",
      "\n",
      "[3507 rows x 2 columns]\n"
     ]
    }
   ],
   "source": [
    "matches_tools = {}\n",
    "for tool in list(all_ETL_tools):\n",
    "    matches = 0\n",
    "    for l in tools_per_term_free_ETL.values():\n",
    "        if tool in list(l):\n",
    "            matches += 1\n",
    "    for l in tools_per_term_ETL.values():\n",
    "        if tool in list(l):\n",
    "            matches += 1\n",
    "    matches_tools[tool] = matches\n",
    "\n",
    "ETL_annot_count_df = pd.DataFrame(list(matches_tools.items()), columns= ['tool','ETL annotations count']).sort_values('ETL annotations count', ascending=False)\n",
    "print(ETL_annot_count_df)"
   ]
  },
  {
   "cell_type": "code",
   "execution_count": 45,
   "metadata": {},
   "outputs": [
    {
     "data": {
      "text/plain": "<Figure size 432x288 with 1 Axes>",
      "image/png": "[encoded data removed]"
     },
     "metadata": {},
     "output_type": "display_data"
    }
   ],
   "source": [
    "plt.hist(ETL_annot_count_df['ETL annotations count'],alpha=0.5)\n",
    "plt.xlim([2, 7])\n",
    "plt.ylim([0, 50])\n",
    "plt.title('ETL related terms each tool ')\n",
    "plt.xlabel('Number of ETL terms')\n",
    "plt.ylabel('Number of discovered tools')\n",
    "plt.show()"
   ]
  },
  {
   "cell_type": "code",
   "execution_count": 76,
   "outputs": [],
   "source": [
    "# Save ETL ranked by count results\n",
    "ETL_annot_count_df.to_csv(\"outputs/20210122_ETL_ranked_by_counts.csv\")"
   ],
   "metadata": {
    "collapsed": false,
    "pycharm": {
     "name": "#%%\n"
    }
   }
  },
  {
   "cell_type": "markdown",
   "source": [
    "### ETL rank tools using keywords and weight"
   ],
   "metadata": {
    "collapsed": false,
    "pycharm": {
     "name": "#%% md\n"
    }
   }
  },
  {
   "cell_type": "code",
   "execution_count": 74,
   "outputs": [
    {
     "data": {
      "text/plain": "'\\n# load weigh file\\n\\ndef read_ranking(filename):\\n    ranked_keywords = pd.read_csv(filename)\\n    ranked_keywords[\\'weight\\'] = ranked_keywords[\"weight\"].apply(lambda x: float(x.strip(\\'%\\'))*0.01)\\n    return ranked_keywords\\n\\ndef get_description(tool):\\n    ep = \\'https://bio.tools/api/tool/?name=\"\\'\\n    query = ep + tool + \\'\"\\'\\n    try:\\n        response = requests.get(query)\\n        response.raise_for_status()\\n        # TODO parse biotools output\\n        print(response.text)\\n    except requests.exceptions.HTTPError as err:\\n        print(err)\\n\\n# Todo revise and count weight\\n\\ndef rank_tools(tool_list,ranked_keywords):\\n    matches_tools = {}\\n    for tool in list(tool_list):\\n        matches = 0\\n        for l in ranked_keywords[\\'keyword\\']:\\n            if tool in list(l):\\n                matches += 1\\n        for l in tools_per_term_ETL.values():\\n            if tool in list(l):\\n                matches += 1\\n        matches_tools[tool] = matches\\nETL_ranked = \"keywords/ETL_EDAM_ranked.csv\"\\nread_ranking(ETL_ranked)'"
     },
     "execution_count": 74,
     "metadata": {},
     "output_type": "execute_result"
    }
   ],
   "source": [
    "\"\"\"\n",
    "# load weigh file\n",
    "\n",
    "def read_ranking(filename):\n",
    "    ranked_keywords = pd.read_csv(filename)\n",
    "    ranked_keywords['weight'] = ranked_keywords[\"weight\"].apply(lambda x: float(x.strip('%'))*0.01)\n",
    "    return ranked_keywords\n",
    "\n",
    "def get_description(tool):\n",
    "    ep = 'https://bio.tools/api/tool/?name=\"'\n",
    "    query = ep + tool + '\"'\n",
    "    try:\n",
    "        response = requests.get(query)\n",
    "        response.raise_for_status()\n",
    "        # TODO parse biotools output\n",
    "        print(response.text)\n",
    "    except requests.exceptions.HTTPError as err:\n",
    "        print(err)\n",
    "\n",
    "# Todo revise and count weight\n",
    "\n",
    "def rank_tools(tool_list,ranked_keywords):\n",
    "    matches_tools = {}\n",
    "    for tool in list(tool_list):\n",
    "        matches = 0\n",
    "        for l in ranked_keywords['keyword']:\n",
    "            if tool in list(l):\n",
    "                matches += 1\n",
    "        for l in tools_per_term_ETL.values():\n",
    "            if tool in list(l):\n",
    "                matches += 1\n",
    "        matches_tools[tool] = matches\n",
    "ETL_ranked = \"keywords/ETL_EDAM_ranked.csv\"\n",
    "read_ranking(ETL_ranked)\"\"\""
   ],
   "metadata": {
    "collapsed": false,
    "pycharm": {
     "name": "#%%\n"
    }
   }
  },
  {
   "cell_type": "markdown",
   "metadata": {
    "pycharm": {
     "name": "#%% md\n"
    }
   },
   "source": [
    "## Case 2: Ontology tools discovery"
   ]
  },
  {
   "cell_type": "markdown",
   "metadata": {
    "pycharm": {
     "name": "#%% md\n"
    }
   },
   "source": [
    "In this case, the file of zooma results is `ontology_annotation_EDAM_curated_csv.csv`."
   ]
  },
  {
   "cell_type": "markdown",
   "metadata": {
    "pycharm": {
     "name": "#%% md\n"
    }
   },
   "source": [
    "### Step 1: parsing zooma results"
   ]
  },
  {
   "cell_type": "code",
   "execution_count": 24,
   "metadata": {},
   "outputs": [
    {
     "name": "stdout",
     "output_type": "stream",
     "text": [
      "['operation_0226', 'operation_3778', 'topic_0089', 'operation_3280']\n",
      "{'operation_0226': 'Annotation', 'operation_3778': 'Text annotation', 'topic_0089': 'ontology and terminology', 'operation_3280': 'Named-entity and concept recognition'}\n"
     ]
    }
   ],
   "source": [
    "terms_file='ontology_annotation_EDAM_curated_csv.csv'\n",
    "ontology_edam_terms, terms_label_ontology = parse_zooma_results(terms_file)\n",
    "print(ontology_edam_terms)\n",
    "print(terms_label_ontology)"
   ]
  },
  {
   "cell_type": "markdown",
   "source": [
    "### Step 2: doing the query. "
   ],
   "metadata": {
    "collapsed": false
   }
  },
  {
   "cell_type": "code",
   "execution_count": null,
   "outputs": [],
   "source": [
    "ontology_results_general, ontology_results_detailed  = query_for_EDAM_terms(ontology_edam_terms)"
   ],
   "metadata": {
    "collapsed": false,
    "pycharm": {
     "name": "#%%\n"
    }
   }
  },
  {
   "cell_type": "code",
   "execution_count": null,
   "outputs": [],
   "source": [
    "path_output_ontology = \"outputs/ontology\"\n",
    "Path(path_output_ontology).mkdir(parents=True, exist_ok=True)\n",
    "save_results(ontology_results_general, terms_label_ontology, path_output_ontology)"
   ],
   "metadata": {
    "collapsed": false,
    "pycharm": {
     "name": "#%%\n"
    }
   }
  },
  {
   "cell_type": "markdown",
   "source": [
    "#### Total number of terms"
   ],
   "metadata": {
    "collapsed": false
   }
  },
  {
   "cell_type": "code",
   "execution_count": null,
   "outputs": [],
   "source": [
    "len(ontology_results_general.keys())"
   ],
   "metadata": {
    "collapsed": false,
    "pycharm": {
     "name": "#%%\n"
    }
   }
  },
  {
   "cell_type": "markdown",
   "source": [
    "#### Tools per term"
   ],
   "metadata": {
    "collapsed": false
   }
  },
  {
   "cell_type": "code",
   "execution_count": null,
   "outputs": [],
   "source": [
    "count_tools_per_term(ontology_results_general)"
   ],
   "metadata": {
    "collapsed": false,
    "pycharm": {
     "name": "#%%\n"
    }
   }
  },
  {
   "cell_type": "markdown",
   "source": [
    "#### Lists of tool names per term\n",
    "This is handy for validation"
   ],
   "metadata": {
    "collapsed": false
   }
  },
  {
   "cell_type": "code",
   "execution_count": null,
   "outputs": [],
   "source": [
    "tools_per_term_ontology = tools_per_term(ontology_results_general)"
   ],
   "metadata": {
    "collapsed": false,
    "pycharm": {
     "name": "#%%\n"
    }
   }
  },
  {
   "cell_type": "code",
   "execution_count": null,
   "outputs": [],
   "source": [
    "save_lists_tools(tools_per_term_ontology, path_output_ontology)"
   ],
   "metadata": {
    "collapsed": false,
    "pycharm": {
     "name": "#%%\n"
    }
   }
  },
  {
   "cell_type": "markdown",
   "source": [
    "#### Merged tools lists\n",
    "All tools discovered merged in a single set"
   ],
   "metadata": {
    "collapsed": false
   }
  },
  {
   "cell_type": "code",
   "execution_count": null,
   "outputs": [],
   "source": [
    "all_ontology_tools = merge_tools_lists(ontology_results_general)\n",
    "all_ontology_tools"
   ],
   "metadata": {
    "collapsed": false,
    "pycharm": {
     "name": "#%%\n"
    }
   }
  },
  {
   "cell_type": "code",
   "execution_count": null,
   "outputs": [],
   "source": [
    "len(all_ontology_tools)"
   ],
   "metadata": {
    "collapsed": false,
    "pycharm": {
     "name": "#%%\n"
    }
   }
  },
  {
   "cell_type": "markdown",
   "source": [
    "### Ontology related annotations count"
   ],
   "metadata": {
    "collapsed": false
   }
  },
  {
   "cell_type": "code",
   "execution_count": null,
   "outputs": [],
   "source": [
    "matches_tools = {}\n",
    "for tool in list(all_ontology_tools):\n",
    "    matches = 0\n",
    "    for l in tools_per_term_ontology.values():\n",
    "        if tool in list(l):\n",
    "            matches += 1\n",
    "    matches_tools[tool] = matches\n",
    "\n",
    "ontology_annot_count_df = pd.DataFrame(list(matches_tools.items()), columns= ['tool','ontology annotations count']).sort_values('ontology annotations count', ascending=False)\n",
    "print(ontology_annot_count_df)"
   ],
   "metadata": {
    "collapsed": false,
    "pycharm": {
     "name": "#%%\n"
    }
   }
  },
  {
   "cell_type": "code",
   "execution_count": null,
   "outputs": [],
   "source": [
    "plt.hist(ontology_annot_count_df['ontology annotations count'],alpha=0.5)\n",
    "plt.xlim([2, 4])\n",
    "plt.ylim([0, 50])\n",
    "plt.title('ontology related terms each tool ')\n",
    "plt.xlabel('Number of ontology terms')\n",
    "plt.ylabel('Number of discovered tools')\n",
    "plt.show()"
   ],
   "metadata": {
    "collapsed": false,
    "pycharm": {
     "name": "#%%\n"
    }
   }
  },
  {
   "cell_type": "markdown",
   "metadata": {},
   "source": [
    "plt.hist(ontology_annot_count_df['ontology annotations count'],alpha=0.5)\n",
    "plt.xlim([2, 4])\n",
    "plt.ylim([0, 50])\n",
    "plt.title('ontology related terms each tool ')\n",
    "plt.xlabel('Number of ontology terms')\n",
    "plt.ylabel('Number of discovered tools')\n",
    "plt.show()"
   ]
  },
  {
   "cell_type": "code",
   "execution_count": 25,
   "metadata": {},
   "outputs": [
    {
     "name": "stdout",
     "output_type": "stream",
     "text": [
      "Starting making the requests...\n",
      "Requesting: https://bio.tools/api/tool/?operationID=\"operation_0226\"&page=14&format=json\n",
      "Requests finished.\n",
      "Starting making the requests...\n",
      "Requesting: https://bio.tools/api/tool/?operationID=\"operation_3778\"&page=5&format=json\n",
      "Requests finished.\n",
      "Starting making the requests...\n",
      "Requesting: https://bio.tools/api/tool/?topicID=\"topic_0089\"&page=29&format=json\n",
      "Requests finished.\n",
      "Starting making the requests...\n",
      "Requesting: https://bio.tools/api/tool/?operationID=\"operation_3280\"&page=6&format=json\n",
      "Requests finished.\n"
     ]
    }
   ],
   "source": [
    "ontology_results_general, ontology_results_detailed  = query_for_EDAM_terms(ontology_edam_terms)"
   ]
  },
  {
   "cell_type": "code",
   "execution_count": 49,
   "metadata": {},
   "outputs": [],
   "source": [
    "path_output_ontology = \"outputs/ontology\"\n",
    "Path(path_output_ontology).mkdir(parents=True, exist_ok=True)\n",
    "save_results(ontology_results_general, terms_label_ontology, path_output_ontology)"
   ]
  },
  {
   "cell_type": "markdown",
   "metadata": {},
   "source": [
    "#### Total number of terms"
   ]
  },
  {
   "cell_type": "code",
   "execution_count": 50,
   "metadata": {},
   "outputs": [
    {
     "data": {
      "text/plain": [
       "4"
      ]
     },
     "execution_count": 50,
     "metadata": {},
     "output_type": "execute_result"
    }
   ],
   "source": [
    "len(ontology_results_general.keys())"
   ]
  },
  {
   "cell_type": "markdown",
   "metadata": {},
   "source": [
    "#### Tools per term"
   ]
  },
  {
   "cell_type": "code",
   "execution_count": 51,
   "metadata": {},
   "outputs": [
    {
     "data": {
      "text/plain": [
       "{'operation_0226': 145,\n",
       " 'operation_3280': 61,\n",
       " 'operation_3778': 47,\n",
       " 'topic_0089': 304}"
      ]
     },
     "execution_count": 51,
     "metadata": {},
     "output_type": "execute_result"
    }
   ],
   "source": [
    "count_tools_per_term(ontology_results_general)"
   ]
  },
  {
   "cell_type": "markdown",
   "metadata": {},
   "source": [
    "#### Lists of tool names per term\n",
    "This is handy for validation"
   ]
  },
  {
   "cell_type": "code",
   "execution_count": 53,
   "metadata": {},
   "outputs": [],
   "source": [
    "tools_per_term_ontology = tools_per_term(ontology_results_general)"
   ]
  },
  {
   "cell_type": "code",
   "execution_count": 54,
   "metadata": {},
   "outputs": [],
   "source": [
    "save_lists_tools(tools_per_term_ontology, path_output_ontology)"
   ]
  },
  {
   "cell_type": "markdown",
   "metadata": {},
   "source": [
    "#### Merged tools lists\n",
    "All tools discovered merged in a single set"
   ]
  },
  {
   "cell_type": "code",
   "execution_count": 55,
   "metadata": {},
   "outputs": [
    {
     "data": {
      "text/plain": [
       "{'a4preproc',\n",
       " 'aber-owl',\n",
       " 'acela',\n",
       " 'aceparser',\n",
       " 'ads',\n",
       " 'agrigo',\n",
       " 'ahtpdb',\n",
       " 'aiso',\n",
       " 'ajia',\n",
       " 'alliance genome resources',\n",
       " 'amigo 2',\n",
       " 'amtdb',\n",
       " 'anabel',\n",
       " 'aniseed',\n",
       " 'annot',\n",
       " 'annotationfilter',\n",
       " 'annotsv',\n",
       " 'apache taverna',\n",
       " 'arachnoserver',\n",
       " 'aristo',\n",
       " 'asa-ps',\n",
       " 'aspgd',\n",
       " 'association viewer',\n",
       " 'bagel2',\n",
       " 'becas',\n",
       " 'beere',\n",
       " 'bel commons',\n",
       " 'bel2abm',\n",
       " 'belief',\n",
       " 'bgeedb',\n",
       " 'bio.tools',\n",
       " 'bio2bel',\n",
       " 'biobert',\n",
       " 'biocaddie',\n",
       " 'biocatalogue',\n",
       " 'bioecs',\n",
       " 'bioexcel genome sequence quality control workflow',\n",
       " 'biogateway',\n",
       " 'biojs-vis-gprofiler',\n",
       " 'biolabeler',\n",
       " 'biolit',\n",
       " 'biomoby',\n",
       " 'biomodels database',\n",
       " 'bionda - biomarker database',\n",
       " 'bioner',\n",
       " 'bionet-mining',\n",
       " 'bioportal',\n",
       " 'bior',\n",
       " 'bittersweet',\n",
       " 'biwalklda',\n",
       " 'bo-lstm',\n",
       " 'brisskit',\n",
       " 'bubastis',\n",
       " 'bugbuilder',\n",
       " 'cagefightr',\n",
       " 'calchas',\n",
       " 'candida genome database cgd',\n",
       " 'card',\n",
       " 'cargo',\n",
       " 'carmo',\n",
       " 'causalbuilder',\n",
       " 'caw',\n",
       " 'cbo',\n",
       " 'cddapp',\n",
       " 'cdfread',\n",
       " 'cedar ondemand',\n",
       " 'cellbaser',\n",
       " 'ceu mass mediator',\n",
       " 'charprotdb',\n",
       " 'chebi ws',\n",
       " 'chemdistiller',\n",
       " 'chimera',\n",
       " 'chipinfo',\n",
       " 'ciona robusta anatomy and development ontology',\n",
       " 'circular gene ontology (cirgo)',\n",
       " 'civicmine',\n",
       " 'classyfire',\n",
       " 'clinical metadata ontology (cmdo)',\n",
       " 'clinotator',\n",
       " 'cocitestats',\n",
       " 'coeus',\n",
       " 'cogs',\n",
       " 'collabonet',\n",
       " 'collector',\n",
       " 'combigor',\n",
       " 'compendium of protein lysine acetylation (cpla)',\n",
       " 'copheism',\n",
       " 'cpgavas',\n",
       " 'craft',\n",
       " 'crispy',\n",
       " 'crowdgo',\n",
       " 'cui2vec',\n",
       " 'dasir',\n",
       " 'david bioinformatics resources',\n",
       " 'dbcan',\n",
       " 'dbcrid',\n",
       " 'dcgor',\n",
       " 'ddbj',\n",
       " 'deca',\n",
       " 'decres',\n",
       " 'deeppheno',\n",
       " 'deeppvp',\n",
       " 'deepred',\n",
       " 'defume',\n",
       " 'delayedarray',\n",
       " 'descseq',\n",
       " 'diana-lncbase',\n",
       " 'diana-microt v5.0',\n",
       " 'diana-mirgen',\n",
       " 'dictybase update 2011',\n",
       " 'dictyexpress',\n",
       " 'digchem',\n",
       " 'digsee',\n",
       " 'dingo',\n",
       " 'disgenet',\n",
       " 'disqover',\n",
       " 'diversity workbench',\n",
       " 'diversitycollection',\n",
       " 'diversityreferences',\n",
       " 'diversityscientificterms',\n",
       " 'diversitytaxonnames',\n",
       " 'dnatraffic',\n",
       " 'do',\n",
       " 'doc2hpo',\n",
       " 'dquest',\n",
       " 'drar-cpi',\n",
       " 'drawglycan-snfg',\n",
       " 'drosophila dnase i footprint database',\n",
       " 'easy-hla',\n",
       " 'ebi search',\n",
       " 'edamdef',\n",
       " 'edamhasinput',\n",
       " 'edamhasoutput',\n",
       " 'edamisformat',\n",
       " 'edamisid',\n",
       " 'edamname',\n",
       " 'elmmo',\n",
       " 'emma2 ws',\n",
       " 'enrichment map cytoscape plugin',\n",
       " 'enrichplot',\n",
       " 'est2assembly',\n",
       " 'estscan',\n",
       " 'etm-db',\n",
       " 'europhenome',\n",
       " 'eventepi',\n",
       " 'evntextrc',\n",
       " 'exoscore',\n",
       " 'extract',\n",
       " 'facta plus',\n",
       " 'faf-drugs',\n",
       " 'fair',\n",
       " 'fairdatapoint',\n",
       " 'famplex',\n",
       " 'fasto',\n",
       " 'feelnc',\n",
       " 'ffpred',\n",
       " 'fhir',\n",
       " 'flowrepositoryr',\n",
       " 'flyode',\n",
       " 'flytf',\n",
       " 'fontcell',\n",
       " 'funcexplorer',\n",
       " 'funmappone',\n",
       " 'fusionanalyser',\n",
       " 'g-sesame',\n",
       " 'g:profiler',\n",
       " 'galactic',\n",
       " 'gbol',\n",
       " 'gcocoa',\n",
       " 'gdsarray',\n",
       " 'gedex',\n",
       " 'gemtractor',\n",
       " 'gene ontology (go)',\n",
       " 'gene ontology browser',\n",
       " 'genease',\n",
       " 'generic go term finder',\n",
       " 'generic go term mapper',\n",
       " 'geneview',\n",
       " 'genex_ontology',\n",
       " 'genfam',\n",
       " 'genome trax',\n",
       " 'genome3d',\n",
       " 'genomicscores',\n",
       " 'genosurf',\n",
       " 'geseq',\n",
       " 'gfbio',\n",
       " 'ggost',\n",
       " 'gimli',\n",
       " 'globalfungi',\n",
       " 'go enrichment analysis tool',\n",
       " 'go-elite',\n",
       " 'go2msig',\n",
       " 'go2vec',\n",
       " 'goa',\n",
       " 'goa_gubbar',\n",
       " 'goblet',\n",
       " 'gocats',\n",
       " 'godef',\n",
       " 'goeast',\n",
       " 'gofuncr',\n",
       " 'gogene',\n",
       " 'gomap',\n",
       " 'gomapman',\n",
       " 'gominer ws',\n",
       " 'goname',\n",
       " 'gonet',\n",
       " 'gonuts',\n",
       " 'gopubmed',\n",
       " 'gorilla',\n",
       " 'gosemsim',\n",
       " 'gosim',\n",
       " 'goslin',\n",
       " 'gostag',\n",
       " 'gostats',\n",
       " 'gotools',\n",
       " 'gotrapper',\n",
       " 'gpannotate',\n",
       " 'gprofiler',\n",
       " 'gpsdb',\n",
       " 'grasp',\n",
       " 'gsan',\n",
       " 'gsso',\n",
       " 'gsvec',\n",
       " 'guide',\n",
       " 'gwastools',\n",
       " 'hgt-id',\n",
       " 'hgv_david',\n",
       " 'hgv_linktogprofile',\n",
       " 'higdb',\n",
       " 'hio',\n",
       " 'hipathia',\n",
       " 'histone coder',\n",
       " 'hmtvar',\n",
       " 'holovir',\n",
       " 'hpo',\n",
       " 'hpo2go',\n",
       " 'hubmed',\n",
       " 'human gene nomenclature database (hgnc)',\n",
       " 'hyper',\n",
       " 'iambee',\n",
       " 'icd-10',\n",
       " 'ictnet2',\n",
       " 'ideal',\n",
       " 'ietd',\n",
       " 'ikap_cells',\n",
       " 'imgt, the international immunogenetics information system',\n",
       " 'impres',\n",
       " 'inaturalist',\n",
       " 'ipd project',\n",
       " 'iscan',\n",
       " 'isotopident',\n",
       " 'itextmine',\n",
       " 'ivariantguide',\n",
       " 'j-express',\n",
       " 'jmztab-m',\n",
       " 'jprogo',\n",
       " 'karma',\n",
       " 'kbase',\n",
       " 'kccg patient archive',\n",
       " 'kegganim',\n",
       " 'keggprofile',\n",
       " 'kinetoplastid genome resources (tritrypdb)',\n",
       " 'koffi',\n",
       " 'l2l',\n",
       " 'lailaps-qsm',\n",
       " 'lion-web',\n",
       " 'lipid data analyzer (lda)',\n",
       " 'lipid mini-on',\n",
       " 'list ontologies',\n",
       " 'litinspector',\n",
       " 'litminer',\n",
       " 'lobstahs',\n",
       " 'locdb',\n",
       " 'loinc2hpo',\n",
       " 'lungmap',\n",
       " 'macie',\n",
       " 'magecomet',\n",
       " 'magi',\n",
       " 'mambo',\n",
       " 'mamot',\n",
       " 'markerhub',\n",
       " 'marky',\n",
       " 'matscholar',\n",
       " 'mbrole',\n",
       " 'medextractr',\n",
       " 'medical relation extraction',\n",
       " 'meme suite',\n",
       " 'meshsim',\n",
       " 'mesophotic.org',\n",
       " 'messa',\n",
       " 'metdisease',\n",
       " 'metfamily',\n",
       " 'mg-rast',\n",
       " 'microbe browser',\n",
       " 'microtss',\n",
       " 'mir-prefer',\n",
       " 'monarch initiative',\n",
       " 'morphdb',\n",
       " 'mouse phenome database',\n",
       " 'mousebook',\n",
       " 'mpagenomics',\n",
       " 'mtgo-sc',\n",
       " 'mucor',\n",
       " 'multiloc2',\n",
       " 'mutalyzer',\n",
       " 'mvgst',\n",
       " 'myminer',\n",
       " 'nadfinder',\n",
       " 'nbdc rdf portal',\n",
       " 'nbrp resources',\n",
       " 'nemine',\n",
       " 'neuropp',\n",
       " 'neuroscience information framework',\n",
       " 'ngly1',\n",
       " 'nlimed',\n",
       " 'nlprot',\n",
       " 'nlr-parser',\n",
       " 'nmrml converter',\n",
       " 'noa',\n",
       " 'npact',\n",
       " 'odae',\n",
       " 'odg',\n",
       " 'odmltables',\n",
       " 'ols dialog',\n",
       " 'omadb',\n",
       " 'ometa',\n",
       " 'omim explorer',\n",
       " 'onassis',\n",
       " 'onclass',\n",
       " 'onesense',\n",
       " 'ontobrowser',\n",
       " 'ontocat',\n",
       " 'ontocount',\n",
       " 'ontoget',\n",
       " 'ontogetcommon',\n",
       " 'ontogetdown',\n",
       " 'ontogetobsolete',\n",
       " 'ontogetroot',\n",
       " 'ontogetsibs',\n",
       " 'ontogetup',\n",
       " 'ontoisobsolete',\n",
       " 'ontokin',\n",
       " 'ontologizer',\n",
       " 'ontology lookup service',\n",
       " 'ontoproc',\n",
       " 'ontoquest ws',\n",
       " 'ontoquestmain',\n",
       " 'ontotext',\n",
       " 'openebench',\n",
       " 'openflu',\n",
       " 'openms',\n",
       " 'ordo',\n",
       " 'organism.dplyr',\n",
       " 'orphadata',\n",
       " 'pageman',\n",
       " 'pannotator',\n",
       " 'pannzer',\n",
       " 'pannzer2',\n",
       " 'parameciumdb',\n",
       " 'pavian',\n",
       " 'pbg-ld',\n",
       " 'pcosbase',\n",
       " 'pcpheno',\n",
       " 'pdbj',\n",
       " 'pdzpepint',\n",
       " 'peakanalyzer',\n",
       " 'peregrine',\n",
       " 'phen2gene',\n",
       " 'phenohm',\n",
       " 'phenopolis',\n",
       " 'phenoscape',\n",
       " 'phenotator',\n",
       " 'pint',\n",
       " 'plan2l',\n",
       " 'plant experimental assay ontology (peao)',\n",
       " 'plantcircnet',\n",
       " 'plato plugin for autocomplete on ontologies',\n",
       " 'poeas',\n",
       " 'pogos',\n",
       " 'pombase',\n",
       " 'pomelo ii',\n",
       " 'ppr-ssm',\n",
       " 'predictprotein open',\n",
       " 'progenetix',\n",
       " 'proloc-go',\n",
       " 'propheno',\n",
       " 'protege 5.0',\n",
       " 'protein naming utility',\n",
       " 'pubtator',\n",
       " 'pubtator central',\n",
       " 'pure',\n",
       " 'pyiomica',\n",
       " 'pyradiomics',\n",
       " 'python video annotator',\n",
       " 'qsbio',\n",
       " 'qtl tableminer++(qtm)',\n",
       " 'quickgo',\n",
       " 'quin',\n",
       " 'ramigo',\n",
       " 'rast',\n",
       " 'ratt',\n",
       " 'rdavidwebservice',\n",
       " 'rdfscape',\n",
       " 'rdrf',\n",
       " 'relna',\n",
       " 'riken integrated database of mammals',\n",
       " 'ril-contour',\n",
       " 'rnaindel',\n",
       " 'robot',\n",
       " 'rols',\n",
       " 'roma',\n",
       " 'romop',\n",
       " 'rulego',\n",
       " 'samsa2',\n",
       " 'sbpks2',\n",
       " 'scdo',\n",
       " 'sci.ai',\n",
       " 'seaweb',\n",
       " 'seclaf',\n",
       " 'secstrannotator',\n",
       " 'semdist',\n",
       " 'seqexpress',\n",
       " 'seqhound',\n",
       " 'sequence similarity maps (ssm)',\n",
       " 'sevenc',\n",
       " 'shinygo',\n",
       " 'simconcept',\n",
       " 'simdef',\n",
       " 'sinopedia',\n",
       " 'skimmr',\n",
       " 'smog',\n",
       " 'snomed ct',\n",
       " 'snpnotes',\n",
       " 'soba: sequence ontology bioinformatics analysis',\n",
       " 'sparql',\n",
       " 'spex2',\n",
       " 'starpdb',\n",
       " 'sts-nlsp',\n",
       " 'superfamily',\n",
       " 'synteny browser',\n",
       " 'tableannotator',\n",
       " 'thbp',\n",
       " 'the brenda tissue ontology (bto)',\n",
       " 'the comparative toxicogenomics database (ctd)',\n",
       " 'the protein ontology',\n",
       " 'tm-imc',\n",
       " 'togogenome',\n",
       " 'tooldog',\n",
       " 'topgo',\n",
       " 'trackfind',\n",
       " 'treeio',\n",
       " 'trifle',\n",
       " 'tromer',\n",
       " 'ts-goea',\n",
       " 'typeinfo',\n",
       " 'umlsmapper',\n",
       " 'uniconsig',\n",
       " 'variant',\n",
       " 'varimerge',\n",
       " 'vastdb',\n",
       " 'vio',\n",
       " 'viralzone',\n",
       " 'viseago',\n",
       " 'vist',\n",
       " 'webanno',\n",
       " 'webapollo',\n",
       " 'wego',\n",
       " 'wego2.0',\n",
       " 'workflow4metabolomics',\n",
       " 'wsd',\n",
       " 'wtfgenes',\n",
       " 'xenbase',\n",
       " 'yeast metaboliner',\n",
       " 'yogy',\n",
       " 'zooma'}"
      ]
     },
     "execution_count": 55,
     "metadata": {},
     "output_type": "execute_result"
    }
   ],
   "source": [
    "all_ontology_tools = merge_tools_lists(ontology_results_general)\n",
    "all_ontology_tools"
   ]
  },
  {
   "cell_type": "code",
   "execution_count": 82,
   "metadata": {},
   "outputs": [
    {
     "data": {
      "text/plain": [
       "476"
      ]
     },
     "execution_count": 82,
     "metadata": {},
     "output_type": "execute_result"
    }
   ],
   "source": [
    "len(all_ontology_tools)"
   ]
  },
  {
   "cell_type": "markdown",
   "metadata": {},
   "source": [
    "### Ontology related annotations count"
   ]
  },
  {
   "cell_type": "code",
   "execution_count": 101,
   "metadata": {},
   "outputs": [
    {
     "name": "stdout",
     "output_type": "stream",
     "text": [
      "                  tool  ontology annotations count\n",
      "258              acela                           3\n",
      "229            ppr-ssm                           3\n",
      "211              craft                           3\n",
      "237             belief                           2\n",
      "112  yeast metaboliner                           2\n",
      "..                 ...                         ...\n",
      "166           brisskit                           1\n",
      "164      arachnoserver                           1\n",
      "163        ontobrowser                           1\n",
      "161              ggost                           1\n",
      "474         facta plus                           1\n",
      "\n",
      "[475 rows x 2 columns]\n"
     ]
    }
   ],
   "source": [
    "matches_tools = {}\n",
    "for tool in list(all_ontology_tools):\n",
    "    matches = 0\n",
    "    for l in tools_per_term_ontology.values():\n",
    "        if tool in list(l):\n",
    "            matches += 1\n",
    "    matches_tools[tool] = matches\n",
    "\n",
    "ontology_annot_count_df = pd.DataFrame(list(matches_tools.items()), columns= ['tool','ontology annotations count']).sort_values('ontology annotations count', ascending=False)\n",
    "print(ontology_annot_count_df)"
   ]
  },
  {
   "cell_type": "code",
   "execution_count": 103,
   "metadata": {},
   "outputs": [
    {
     "data": {
      "image/png": "[encoded data removed]",
      "text/plain": [
       "<Figure size 432x288 with 1 Axes>"
      ]
     },
     "metadata": {},
     "output_type": "display_data"
    }
   ],
   "source": [
    "plt.hist(ontology_annot_count_df['ontology annotations count'],alpha=0.5)\n",
    "plt.xlim([2, 4])\n",
    "plt.ylim([0, 50])\n",
    "plt.title('ontology related terms each tool ')\n",
    "plt.xlabel('Number of ontology terms')\n",
    "plt.ylabel('Number of discovered tools')\n",
    "plt.show()"
   ]
  }
 ],
 "metadata": {
  "kernelspec": {
   "name": "pycharm-8b57835f",
   "language": "python",
   "display_name": "PyCharm (scraper)"
  },
  "language_info": {
   "codemirror_mode": {
    "name": "ipython",
    "version": 3
   },
   "file_extension": ".py",
   "mimetype": "text/x-python",
   "name": "python",
   "nbconvert_exporter": "python",
   "pygments_lexer": "ipython3",
   "version": "3.6.9"
  }
 },
 "nbformat": 4,
 "nbformat_minor": 2
}